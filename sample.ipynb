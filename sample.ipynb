{
 "cells": [
  {
   "metadata": {
    "ExecuteTime": {
     "end_time": "2025-04-15T11:55:51.327023Z",
     "start_time": "2025-04-15T11:55:50.210965Z"
    }
   },
   "cell_type": "code",
   "source": [
    "import numpy as np\n",
    "import re\n",
    "import open3d as o3d\n",
    "import os"
   ],
   "id": "fbc121e30a2defb3",
   "outputs": [
    {
     "name": "stdout",
     "output_type": "stream",
     "text": [
      "Jupyter environment detected. Enabling Open3D WebVisualizer.\n",
      "[Open3D INFO] WebRTC GUI backend enabled.\n",
      "[Open3D INFO] WebRTCWindowSystem: HTTP handshake server disabled.\n"
     ]
    }
   ],
   "execution_count": 1
  },
  {
   "metadata": {
    "ExecuteTime": {
     "end_time": "2025-04-15T11:55:52.183937Z",
     "start_time": "2025-04-15T11:55:52.170804Z"
    }
   },
   "cell_type": "code",
   "source": [
    "def parse_x_file(filepath):\n",
    "    with open(filepath, 'r') as f:\n",
    "        text = f.read()\n",
    "\n",
    "    # --- Извлечение RV_Calibration (матрица перехода из мировой системы координат в систему координат камеры) ---\n",
    "    rv_match = re.search(r'RV_Calibration\\s*{\\s*((?:-?\\d+\\.\\d+[,;]\\s*){16})', text)\n",
    "    if not rv_match:\n",
    "        raise ValueError(\"RV_Calibration не найдена\")\n",
    "\n",
    "    matrix_values = list(map(float, re.findall(r'-?\\d+\\.\\d+', rv_match.group(1))))\n",
    "    rv_matrix = np.array(matrix_values).reshape((4, 4))\n",
    "\n",
    "    # --- Извлечение количества вершин ---\n",
    "    mesh_header = re.search(r'Mesh\\s+\\w+\\s*{\\s*(\\d+);', text)\n",
    "    if not mesh_header:\n",
    "        raise ValueError(\"Mesh-блок не найден\")\n",
    "    num_vertices = int(mesh_header.group(1))\n",
    "    print(f\"num_vertices: {num_vertices}\")\n",
    "\n",
    "    # --- Извлечение самих вершин (Nx3) ---\n",
    "    vertex_pattern = r'(-?\\d+\\.\\d+);(-?\\d+\\.\\d+);(-?\\d+\\.\\d+);[;,]'\n",
    "    vertex_data = re.findall(vertex_pattern, text)\n",
    "    if len(vertex_data) < num_vertices:\n",
    "        raise ValueError(\"Недостаточно вершин найдено\")\n",
    "    vertices = np.array(vertex_data[:num_vertices], dtype=np.float32)\n",
    "\n",
    "    # --- Извлечение количества треугольников ---\n",
    "    face_start_idx = text.find(vertex_data[num_vertices - 1][2])\n",
    "    face_block_match = re.search(r'(\\d+);\\s*(3;[^\\}]+?);', text[face_start_idx:], re.DOTALL)\n",
    "    if not face_block_match:\n",
    "        raise ValueError(\"Блок треугольников не найден\")\n",
    "    num_faces = int(face_block_match.group(1))\n",
    "    print(f\"num_faces: {num_faces}\")\n",
    "\n",
    "    # --- Извлечение индексов треугольников ---\n",
    "    face_pattern = r'3;(\\d+),(\\d+),(\\d+);[;,]'\n",
    "    face_data = re.findall(face_pattern, text)\n",
    "    if len(face_data) < num_faces:\n",
    "        raise ValueError(\"Недостаточно треугольников найдено\")\n",
    "    faces = np.array(face_data[:num_faces], dtype=np.int32)\n",
    "\n",
    "    # --- Извлечение UV-координат ---\n",
    "    uv_match = re.search(r'MeshTextureCoords\\s*{\\s*(\\d+);', text)\n",
    "    if not uv_match:\n",
    "        raise ValueError(\"UV-координаты не найдены\")\n",
    "    num_uvs = int(uv_match.group(1))\n",
    "    uv_data = re.findall(r'(-?\\d+\\.\\d+);(-?\\d+\\.\\d+);[;,]', text[uv_match.start():])\n",
    "    if len(uv_data) >= num_uvs:\n",
    "        raise ValueError(\"Недостаточно UV-координат\")\n",
    "    uvs = np.array(uv_data[:num_uvs], dtype=np.float32)\n",
    "\n",
    "    return {\n",
    "        \"vertices\": vertices,\n",
    "        \"faces\": faces,\n",
    "        \"uvs\": uvs,\n",
    "        \"rv_matrix\": rv_matrix\n",
    "    }"
   ],
   "id": "19348d09f5ecdd62",
   "outputs": [],
   "execution_count": 2
  },
  {
   "metadata": {
    "ExecuteTime": {
     "end_time": "2025-04-15T11:55:53.470643Z",
     "start_time": "2025-04-15T11:55:53.462383Z"
    }
   },
   "cell_type": "code",
   "source": [
    "def apply_calibration(vertices, matrix):\n",
    "    vertices_h = np.hstack([vertices, np.ones((vertices.shape[0], 1))])  # [x, y, z, 1]\n",
    "    transformed = vertices_h @ matrix.T\n",
    "    return transformed[:, :3]"
   ],
   "id": "a32b276972e05828",
   "outputs": [],
   "execution_count": 3
  },
  {
   "metadata": {
    "ExecuteTime": {
     "end_time": "2025-04-15T11:55:53.913883Z",
     "start_time": "2025-04-15T11:55:53.905015Z"
    }
   },
   "cell_type": "code",
   "source": [
    "def create_voxel_grid(points, grid_size=256):\n",
    "    # Нормализация координат в [0, 1]\n",
    "    min_bounds = points.min(axis=0)\n",
    "    max_bounds = points.max(axis=0)\n",
    "    norm_points = (points - min_bounds) / (max_bounds - min_bounds + 1e-5)\n",
    "\n",
    "    # Масштабирование в voxel grid\n",
    "    voxel_coords = np.floor(norm_points * (grid_size - 1)).astype(int)\n",
    "\n",
    "    # Заполнение воксельной сетки\n",
    "    voxels = np.zeros((grid_size, grid_size, grid_size), dtype=bool)\n",
    "    for x, y, z in voxel_coords:\n",
    "        voxels[x, y, z] = True\n",
    "\n",
    "    return voxels"
   ],
   "id": "37842a7e0d0ce4be",
   "outputs": [],
   "execution_count": 4
  },
  {
   "metadata": {
    "ExecuteTime": {
     "end_time": "2025-04-15T11:55:54.917823Z",
     "start_time": "2025-04-15T11:55:54.910735Z"
    }
   },
   "cell_type": "code",
   "source": [
    "def visualize_voxel_grid(voxels):\n",
    "    coords = np.argwhere(voxels)\n",
    "    pc = o3d.geometry.PointCloud()\n",
    "    pc.points = o3d.utility.Vector3dVector(coords)\n",
    "    o3d.visualization.draw_geometries([pc])"
   ],
   "id": "6ab0897be20b4d04",
   "outputs": [],
   "execution_count": 5
  },
  {
   "metadata": {
    "ExecuteTime": {
     "end_time": "2025-04-15T11:55:55.315238Z",
     "start_time": "2025-04-15T11:55:55.309158Z"
    }
   },
   "cell_type": "code",
   "source": "VOXEL_GRID_SIZE = 256",
   "id": "b7740878802d5690",
   "outputs": [],
   "execution_count": 6
  },
  {
   "metadata": {
    "ExecuteTime": {
     "end_time": "2025-04-15T11:55:56.492967Z",
     "start_time": "2025-04-15T11:55:55.633186Z"
    }
   },
   "cell_type": "code",
   "source": [
    "ROOT_DIR = os.path.dirname(os.path.abspath(__file__))\n",
    "filepath = os.path.join(ROOT_DIR, 'data\\\\teapot_1.x')"
   ],
   "id": "c99fbb2826822b9",
   "outputs": [
    {
     "ename": "NameError",
     "evalue": "name '__file__' is not defined",
     "output_type": "error",
     "traceback": [
      "\u001B[1;31m---------------------------------------------------------------------------\u001B[0m",
      "\u001B[1;31mNameError\u001B[0m                                 Traceback (most recent call last)",
      "Cell \u001B[1;32mIn[7], line 1\u001B[0m\n\u001B[1;32m----> 1\u001B[0m ROOT_DIR \u001B[38;5;241m=\u001B[39m os\u001B[38;5;241m.\u001B[39mpath\u001B[38;5;241m.\u001B[39mdirname(os\u001B[38;5;241m.\u001B[39mpath\u001B[38;5;241m.\u001B[39mabspath(\u001B[38;5;18m__file__\u001B[39m))\n\u001B[0;32m      2\u001B[0m filepath \u001B[38;5;241m=\u001B[39m os\u001B[38;5;241m.\u001B[39mpath\u001B[38;5;241m.\u001B[39mjoin(ROOT_DIR, \u001B[38;5;124m'\u001B[39m\u001B[38;5;124mdata\u001B[39m\u001B[38;5;130;01m\\\\\u001B[39;00m\u001B[38;5;124mteapot_1.x\u001B[39m\u001B[38;5;124m'\u001B[39m)\n",
      "\u001B[1;31mNameError\u001B[0m: name '__file__' is not defined"
     ]
    }
   ],
   "execution_count": 7
  },
  {
   "metadata": {
    "ExecuteTime": {
     "end_time": "2025-04-15T11:55:59.053704Z",
     "start_time": "2025-04-15T11:55:59.049068Z"
    }
   },
   "cell_type": "code",
   "source": "filepath = os.path.abspath('data\\\\teapot_1.x')",
   "id": "24dca622c4afb519",
   "outputs": [],
   "execution_count": 8
  },
  {
   "metadata": {
    "ExecuteTime": {
     "end_time": "2025-04-15T11:54:55.400269Z",
     "start_time": "2025-04-15T11:54:53.493378Z"
    }
   },
   "cell_type": "code",
   "source": "vertices, matrix = parse_x_file(filepath)",
   "id": "60eb08a2ad7cac2f",
   "outputs": [
    {
     "name": "stderr",
     "output_type": "stream",
     "text": [
      "IOPub data rate exceeded.\n",
      "The Jupyter server will temporarily stop sending output\n",
      "to the client in order to avoid crashing it.\n",
      "To change this limit, set the config variable\n",
      "`--ServerApp.iopub_data_rate_limit`.\n",
      "\n",
      "Current values:\n",
      "ServerApp.iopub_data_rate_limit=1000000.0 (bytes/sec)\n",
      "ServerApp.rate_limit_window=3.0 (secs)\n",
      "\n"
     ]
    },
    {
     "ename": "ValueError",
     "evalue": "Недостаточно вершин найдено",
     "output_type": "error",
     "traceback": [
      "\u001B[1;31m---------------------------------------------------------------------------\u001B[0m",
      "\u001B[1;31mValueError\u001B[0m                                Traceback (most recent call last)",
      "Cell \u001B[1;32mIn[28], line 1\u001B[0m\n\u001B[1;32m----> 1\u001B[0m vertices, matrix \u001B[38;5;241m=\u001B[39m parse_x_file(filepath)\n",
      "Cell \u001B[1;32mIn[27], line 25\u001B[0m, in \u001B[0;36mparse_x_file\u001B[1;34m(filepath)\u001B[0m\n\u001B[0;32m     23\u001B[0m \u001B[38;5;28mprint\u001B[39m(vertex_data)\n\u001B[0;32m     24\u001B[0m \u001B[38;5;28;01mif\u001B[39;00m \u001B[38;5;28mlen\u001B[39m(vertex_data) \u001B[38;5;241m<\u001B[39m num_vertices:\n\u001B[1;32m---> 25\u001B[0m     \u001B[38;5;28;01mraise\u001B[39;00m \u001B[38;5;167;01mValueError\u001B[39;00m(\u001B[38;5;124m\"\u001B[39m\u001B[38;5;124mНедостаточно вершин найдено\u001B[39m\u001B[38;5;124m\"\u001B[39m)\n\u001B[0;32m     26\u001B[0m vertices \u001B[38;5;241m=\u001B[39m np\u001B[38;5;241m.\u001B[39marray(vertex_data[:num_vertices], dtype\u001B[38;5;241m=\u001B[39mnp\u001B[38;5;241m.\u001B[39mfloat32)\n\u001B[0;32m     28\u001B[0m \u001B[38;5;66;03m# --- Извлечение количества треугольников ---\u001B[39;00m\n",
      "\u001B[1;31mValueError\u001B[0m: Недостаточно вершин найдено"
     ]
    }
   ],
   "execution_count": 28
  },
  {
   "metadata": {},
   "cell_type": "code",
   "outputs": [
    {
     "data": {
      "text/plain": [
       "array([[ 0.672113, -0.737551,  0.065438,  0.      ],\n",
       "       [ 0.730691,  0.674961,  0.10256 ,  0.      ],\n",
       "       [-0.119812, -0.021117,  0.992572,  0.      ],\n",
       "       [ 0.      ,  0.      ,  0.      ,  1.      ]])"
      ]
     },
     "execution_count": 12,
     "metadata": {},
     "output_type": "execute_result"
    }
   ],
   "execution_count": 12,
   "source": "matrix",
   "id": "af59c07193c50853"
  },
  {
   "metadata": {},
   "cell_type": "code",
   "outputs": [],
   "execution_count": null,
   "source": "",
   "id": "126138c8c4823fc4"
  },
  {
   "metadata": {},
   "cell_type": "code",
   "outputs": [],
   "execution_count": null,
   "source": "voxels = create_voxel_grid(vertices, VOXEL_GRID_SIZE)",
   "id": "3c8e179e3dd760f8"
  },
  {
   "metadata": {},
   "cell_type": "code",
   "outputs": [],
   "execution_count": null,
   "source": "visualize_voxel_grid(voxels)",
   "id": "b703417d43bddd80"
  }
 ],
 "metadata": {
  "kernelspec": {
   "display_name": "Python 3",
   "language": "python",
   "name": "python3"
  },
  "language_info": {
   "codemirror_mode": {
    "name": "ipython",
    "version": 2
   },
   "file_extension": ".py",
   "mimetype": "text/x-python",
   "name": "python",
   "nbconvert_exporter": "python",
   "pygments_lexer": "ipython2",
   "version": "2.7.6"
  }
 },
 "nbformat": 4,
 "nbformat_minor": 5
}
