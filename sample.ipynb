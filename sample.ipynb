{
 "cells": [
  {
   "metadata": {
    "ExecuteTime": {
     "end_time": "2025-04-16T23:55:24.684322Z",
     "start_time": "2025-04-16T23:55:23.167004Z"
    }
   },
   "cell_type": "code",
   "source": [
    "import numpy as np\n",
    "import re\n",
    "import open3d as o3d\n",
    "from skimage import measure\n",
    "import os\n",
    "from utils import *"
   ],
   "id": "fbc121e30a2defb3",
   "outputs": [
    {
     "name": "stdout",
     "output_type": "stream",
     "text": [
      "Jupyter environment detected. Enabling Open3D WebVisualizer.\n",
      "[Open3D INFO] WebRTC GUI backend enabled.\n",
      "[Open3D INFO] WebRTCWindowSystem: HTTP handshake server disabled.\n"
     ]
    }
   ],
   "execution_count": 1
  },
  {
   "metadata": {
    "ExecuteTime": {
     "end_time": "2025-04-17T00:34:41.196213Z",
     "start_time": "2025-04-17T00:34:41.192350Z"
    }
   },
   "cell_type": "code",
   "source": "VOXEL_GRID_SIZE = 256",
   "id": "b7740878802d5690",
   "outputs": [],
   "execution_count": 112
  },
  {
   "metadata": {
    "ExecuteTime": {
     "end_time": "2025-04-17T00:34:41.404701Z",
     "start_time": "2025-04-17T00:34:41.399361Z"
    }
   },
   "cell_type": "code",
   "source": "files = [f for f in os.listdir(\"data\") if f.endswith('.x')]",
   "id": "a266c4f8f2efef5a",
   "outputs": [],
   "execution_count": 113
  },
  {
   "metadata": {
    "ExecuteTime": {
     "end_time": "2025-04-17T00:34:48.064260Z",
     "start_time": "2025-04-17T00:34:43.038366Z"
    }
   },
   "cell_type": "code",
   "source": [
    "meshes = []\n",
    "for f in files:\n",
    "    print(f)\n",
    "    filepath = os.path.abspath(f'data\\\\{f}')\n",
    "    raw_data = parse_x_file(filepath)\n",
    "\n",
    "    # Переведём координаты точек из локальной системы координат в систему координат камеры\n",
    "    # world_transform = apply_transformation(raw_data.get('vertices'), raw_data.get('frame_matrix')) # Даёт худшие результаты\n",
    "    world_transform = raw_data.get('vertices')\n",
    "    transformed = apply_transformation(world_transform, raw_data.get('rv_matrix'))\n",
    "    meshes.append(transformed)"
   ],
   "id": "89384dcaac4d0b77",
   "outputs": [
    {
     "name": "stdout",
     "output_type": "stream",
     "text": [
      "teapot_1.x\n",
      "num_vertices: 200310\n",
      "num_faces: 379304\n",
      "num_uvs: 200310\n",
      "teapot_2.x\n",
      "num_vertices: 190307\n",
      "num_faces: 358169\n",
      "num_uvs: 190307\n"
     ]
    }
   ],
   "execution_count": 114
  },
  {
   "metadata": {},
   "cell_type": "markdown",
   "source": "",
   "id": "5e74438b432b9406"
  },
  {
   "metadata": {},
   "cell_type": "code",
   "outputs": [],
   "execution_count": null,
   "source": [
    "# Чтобы получить больше информации о процессе объединения мешей\n",
    "o3d.utility.set_verbosity_level(o3d.utility.VerbosityLevel.Debug)"
   ],
   "id": "e22937d2c3a8645e"
  },
  {
   "metadata": {},
   "cell_type": "code",
   "outputs": [],
   "execution_count": null,
   "source": "pcd = merge_meshes(meshes, VOXEL_GRID_SIZE, mcd_coarse_scale=30, mcd_fine_scale=7)",
   "id": "c15798844c05fa4b"
  },
  {
   "metadata": {},
   "cell_type": "code",
   "outputs": [],
   "execution_count": null,
   "source": [
    "# Считаем размер одного вокселя\n",
    "_, _, voxel_size, _ = get_mesh_params(meshes, VOXEL_GRID_SIZE)"
   ],
   "id": "3be3895bd0fdb922"
  },
  {
   "metadata": {
    "ExecuteTime": {
     "end_time": "2025-04-17T03:22:42.774300Z",
     "start_time": "2025-04-17T03:22:42.766879Z"
    }
   },
   "cell_type": "code",
   "source": [
    "# Задаём параметры для объединения мешей\n",
    "max_correspondence_distance_coarse = voxel_size * 30\n",
    "max_correspondence_distance_fine = voxel_size * 7"
   ],
   "id": "e4996973c2907b27",
   "outputs": [],
   "execution_count": 472
  },
  {
   "metadata": {},
   "cell_type": "code",
   "outputs": [],
   "execution_count": null,
   "source": [
    "# Конфертируем все меши в PointCloud\n",
    "pcds_raw = [vertices_to_pcd(m) for m in meshes]\n",
    "# Считаем нормали для PointCloud\n",
    "pcds_down = [get_normals_to_pcd(pcd) for pcd in pcds_raw]"
   ],
   "id": "d92e36cf8a0a5a02"
  },
  {
   "metadata": {},
   "cell_type": "code",
   "outputs": [],
   "execution_count": null,
   "source": [
    "# Посмотрим, как взаимнрасположены меши\n",
    "o3d.visualization.draw_geometries(pcds_down)"
   ],
   "id": "ca41817b98818066"
  },
  {
   "metadata": {},
   "cell_type": "code",
   "outputs": [],
   "execution_count": null,
   "source": [
    "# Находим пересечения PointCloud\n",
    "pose_graph = full_registration(pcds_down,\n",
    "                               max_correspondence_distance_coarse,\n",
    "                               max_correspondence_distance_fine)"
   ],
   "id": "827e0d9099af128d"
  },
  {
   "metadata": {},
   "cell_type": "code",
   "outputs": [],
   "execution_count": null,
   "source": [
    "# Подбираем оптимальные параметры транформации для объединения\n",
    "option = o3d.pipelines.registration.GlobalOptimizationOption(\n",
    "    max_correspondence_distance=max_correspondence_distance_fine,\n",
    "    edge_prune_threshold=0.25,\n",
    "    reference_node=0)\n",
    "o3d.pipelines.registration.global_optimization(\n",
    "    pose_graph, o3d.pipelines.registration.GlobalOptimizationLevenbergMarquardt(),\n",
    "    o3d.pipelines.registration.GlobalOptimizationConvergenceCriteria(), option)"
   ],
   "id": "f68cc41c1899be63"
  },
  {
   "metadata": {},
   "cell_type": "code",
   "outputs": [],
   "execution_count": null,
   "source": [
    "# Трансформируем все PointCloud\n",
    "for point_id in range(len(pcds_down)):\n",
    "    print(pose_graph.nodes[point_id].pose)\n",
    "    pcds_down[point_id].transform(pose_graph.nodes[point_id].pose)"
   ],
   "id": "323f31dde732387f"
  },
  {
   "metadata": {},
   "cell_type": "code",
   "outputs": [],
   "execution_count": null,
   "source": [
    "# Посмотрим на трансформированные PointCloud\n",
    "o3d.visualization.draw_geometries(pcds_down)"
   ],
   "id": "8fb0dac90f1270fb"
  },
  {
   "metadata": {},
   "cell_type": "code",
   "outputs": [],
   "execution_count": null,
   "source": [
    "# Объединяем точки в один PointCloud\n",
    "pcds_raw = [vertices_to_pcd(m) for m in meshes]\n",
    "pcds = [get_normals_to_pcd(pcd) for pcd in pcds_raw]\n",
    "pcd_combined = o3d.pybind.geometry.PointCloud()\n",
    "for point_id in range(len(pcds)):\n",
    "    pcds[point_id].transform(pose_graph.nodes[point_id].pose)\n",
    "    pcd_combined += pcds[point_id]\n",
    "pcd_combined_down = pcd_combined.voxel_down_sample(voxel_size=float(voxel_size))"
   ],
   "id": "671911ed40b2933f"
  },
  {
   "metadata": {},
   "cell_type": "code",
   "outputs": [],
   "execution_count": null,
   "source": [
    "# Пересчитаем нормали объединённого PointCloud\n",
    "pcd_norm = get_normals_to_pcd(pcd_combined_down)"
   ],
   "id": "15dd6a5d965f069c"
  },
  {
   "metadata": {},
   "cell_type": "code",
   "outputs": [],
   "execution_count": null,
   "source": [
    "# Посмотрим на результат объединения\n",
    "o3d.visualization.draw_geometries([pcd_norm])"
   ],
   "id": "34f71e9cc5b7f8cf"
  },
  {
   "metadata": {},
   "cell_type": "code",
   "outputs": [],
   "execution_count": null,
   "source": "",
   "id": "faee1398ed18afe6"
  },
  {
   "metadata": {},
   "cell_type": "markdown",
   "source": "",
   "id": "63bfc6defb6395fa"
  },
  {
   "metadata": {},
   "cell_type": "markdown",
   "source": "",
   "id": "734627e209a3ec81"
  },
  {
   "metadata": {
    "ExecuteTime": {
     "end_time": "2025-04-17T00:29:21.252742Z",
     "start_time": "2025-04-17T00:29:21.185649Z"
    }
   },
   "cell_type": "code",
   "source": [
    "# Построим воксельную структуру из откалиброванных точек всех мешей\n",
    "voxels, origin, _ = build_voxel_grid(meshes, grid_size=VOXEL_GRID_SIZE)"
   ],
   "id": "9f962fa734f25fcc",
   "outputs": [],
   "execution_count": 106
  },
  {
   "metadata": {
    "ExecuteTime": {
     "end_time": "2025-04-17T00:29:22.136455Z",
     "start_time": "2025-04-17T00:29:21.253772Z"
    }
   },
   "cell_type": "code",
   "source": [
    "# Построим меш из воксельной струкуктуры\n",
    "mesh = mesh_from_voxels(voxels, voxel_size=voxel_size, origin=origin)"
   ],
   "id": "7b5d912c13430a29",
   "outputs": [],
   "execution_count": 107
  },
  {
   "metadata": {
    "ExecuteTime": {
     "end_time": "2025-04-17T00:29:22.145896Z",
     "start_time": "2025-04-17T00:29:22.138464Z"
    }
   },
   "cell_type": "code",
   "source": "mesh",
   "id": "19d79f5e2b201724",
   "outputs": [
    {
     "data": {
      "text/plain": [
       "TriangleMesh with 196026 points and 413452 triangles."
      ]
     },
     "execution_count": 108,
     "metadata": {},
     "output_type": "execute_result"
    }
   ],
   "execution_count": 108
  },
  {
   "metadata": {
    "ExecuteTime": {
     "end_time": "2025-04-17T00:29:35.292711Z",
     "start_time": "2025-04-17T00:29:22.147909Z"
    }
   },
   "cell_type": "code",
   "source": "o3d.visualization.draw_geometries([mesh])",
   "id": "1b2d2fc7159b14a7",
   "outputs": [],
   "execution_count": 109
  },
  {
   "metadata": {
    "ExecuteTime": {
     "end_time": "2025-04-17T03:02:15.980706Z",
     "start_time": "2025-04-17T03:02:09.990366Z"
    }
   },
   "cell_type": "code",
   "source": "",
   "id": "b99da5453b193c61",
   "outputs": [
    {
     "name": "stdout",
     "output_type": "stream",
     "text": [
      "Full registration ...\n",
      "[Open3D DEBUG] ICP Iteration #0: Fitness 0.9198, RMSE 7.7567\n",
      "[Open3D DEBUG] ICP Iteration #1: Fitness 0.9249, RMSE 7.1981\n",
      "[Open3D DEBUG] ICP Iteration #2: Fitness 0.9299, RMSE 6.9502\n",
      "[Open3D DEBUG] ICP Iteration #3: Fitness 0.9323, RMSE 6.7491\n",
      "[Open3D DEBUG] ICP Iteration #4: Fitness 0.9337, RMSE 6.6078\n",
      "[Open3D DEBUG] ICP Iteration #5: Fitness 0.9348, RMSE 6.5126\n",
      "[Open3D DEBUG] ICP Iteration #6: Fitness 0.9359, RMSE 6.4619\n",
      "[Open3D DEBUG] ICP Iteration #7: Fitness 0.9367, RMSE 6.4281\n",
      "[Open3D DEBUG] ICP Iteration #8: Fitness 0.9374, RMSE 6.4043\n",
      "[Open3D DEBUG] ICP Iteration #9: Fitness 0.9379, RMSE 6.3891\n",
      "[Open3D DEBUG] ICP Iteration #10: Fitness 0.9383, RMSE 6.3768\n",
      "[Open3D DEBUG] ICP Iteration #11: Fitness 0.9386, RMSE 6.3701\n",
      "[Open3D DEBUG] ICP Iteration #12: Fitness 0.9389, RMSE 6.3663\n",
      "[Open3D DEBUG] ICP Iteration #13: Fitness 0.9392, RMSE 6.3665\n",
      "[Open3D DEBUG] ICP Iteration #14: Fitness 0.9394, RMSE 6.3622\n",
      "[Open3D DEBUG] ICP Iteration #15: Fitness 0.9397, RMSE 6.3659\n",
      "[Open3D DEBUG] ICP Iteration #16: Fitness 0.9400, RMSE 6.3692\n",
      "[Open3D DEBUG] ICP Iteration #17: Fitness 0.9403, RMSE 6.3735\n",
      "[Open3D DEBUG] ICP Iteration #18: Fitness 0.9407, RMSE 6.3790\n",
      "[Open3D DEBUG] ICP Iteration #19: Fitness 0.9410, RMSE 6.3855\n",
      "[Open3D DEBUG] ICP Iteration #20: Fitness 0.9414, RMSE 6.3960\n",
      "[Open3D DEBUG] ICP Iteration #21: Fitness 0.9418, RMSE 6.4042\n",
      "[Open3D DEBUG] ICP Iteration #22: Fitness 0.9422, RMSE 6.4145\n",
      "[Open3D DEBUG] ICP Iteration #23: Fitness 0.9427, RMSE 6.4246\n",
      "[Open3D DEBUG] ICP Iteration #24: Fitness 0.9432, RMSE 6.4372\n",
      "[Open3D DEBUG] ICP Iteration #25: Fitness 0.9437, RMSE 6.4505\n",
      "[Open3D DEBUG] ICP Iteration #26: Fitness 0.9443, RMSE 6.4653\n",
      "[Open3D DEBUG] ICP Iteration #27: Fitness 0.9448, RMSE 6.4786\n",
      "[Open3D DEBUG] ICP Iteration #28: Fitness 0.9455, RMSE 6.4960\n",
      "[Open3D DEBUG] ICP Iteration #29: Fitness 0.9462, RMSE 6.5102\n",
      "[Open3D DEBUG] ICP Iteration #0: Fitness 0.6776, RMSE 2.8762\n",
      "[Open3D DEBUG] Residual : 6.96e+00 (# of elements : 135734)\n",
      "[Open3D DEBUG] ICP Iteration #1: Fitness 0.6765, RMSE 2.6814\n",
      "[Open3D DEBUG] Residual : 6.12e+00 (# of elements : 135507)\n",
      "[Open3D DEBUG] ICP Iteration #2: Fitness 0.6772, RMSE 2.6070\n",
      "[Open3D DEBUG] Residual : 5.76e+00 (# of elements : 135650)\n",
      "[Open3D DEBUG] ICP Iteration #3: Fitness 0.6818, RMSE 2.5886\n",
      "[Open3D DEBUG] Residual : 5.65e+00 (# of elements : 136571)\n",
      "[Open3D DEBUG] ICP Iteration #4: Fitness 0.6875, RMSE 2.5785\n",
      "[Open3D DEBUG] Residual : 5.60e+00 (# of elements : 137723)\n",
      "[Open3D DEBUG] ICP Iteration #5: Fitness 0.6928, RMSE 2.5578\n",
      "[Open3D DEBUG] Residual : 5.52e+00 (# of elements : 138781)\n",
      "[Open3D DEBUG] ICP Iteration #6: Fitness 0.6973, RMSE 2.5233\n",
      "[Open3D DEBUG] Residual : 5.39e+00 (# of elements : 139671)\n",
      "[Open3D DEBUG] ICP Iteration #7: Fitness 0.7029, RMSE 2.4802\n",
      "[Open3D DEBUG] Residual : 5.22e+00 (# of elements : 140792)\n",
      "[Open3D DEBUG] ICP Iteration #8: Fitness 0.7098, RMSE 2.4449\n",
      "[Open3D DEBUG] Residual : 5.08e+00 (# of elements : 142171)\n",
      "[Open3D DEBUG] ICP Iteration #9: Fitness 0.7197, RMSE 2.4249\n",
      "[Open3D DEBUG] Residual : 4.98e+00 (# of elements : 144166)\n",
      "[Open3D DEBUG] ICP Iteration #10: Fitness 0.7315, RMSE 2.4011\n",
      "[Open3D DEBUG] Residual : 4.81e+00 (# of elements : 146532)\n",
      "[Open3D DEBUG] ICP Iteration #11: Fitness 0.7472, RMSE 2.3854\n",
      "[Open3D DEBUG] Residual : 4.66e+00 (# of elements : 149673)\n",
      "[Open3D DEBUG] ICP Iteration #12: Fitness 0.7664, RMSE 2.3606\n",
      "[Open3D DEBUG] Residual : 4.58e+00 (# of elements : 153514)\n",
      "[Open3D DEBUG] ICP Iteration #13: Fitness 0.7767, RMSE 2.2435\n",
      "[Open3D DEBUG] Residual : 4.13e+00 (# of elements : 155584)\n",
      "[Open3D DEBUG] ICP Iteration #14: Fitness 0.7827, RMSE 2.1253\n",
      "[Open3D DEBUG] Residual : 3.67e+00 (# of elements : 156786)\n",
      "[Open3D DEBUG] ICP Iteration #15: Fitness 0.7883, RMSE 2.0285\n",
      "[Open3D DEBUG] Residual : 3.29e+00 (# of elements : 157909)\n",
      "[Open3D DEBUG] ICP Iteration #16: Fitness 0.8047, RMSE 1.9901\n",
      "[Open3D DEBUG] Residual : 2.99e+00 (# of elements : 161196)\n",
      "[Open3D DEBUG] ICP Iteration #17: Fitness 0.8287, RMSE 1.9084\n",
      "[Open3D DEBUG] Residual : 2.65e+00 (# of elements : 165988)\n",
      "[Open3D DEBUG] ICP Iteration #18: Fitness 0.8510, RMSE 1.8066\n",
      "[Open3D DEBUG] Residual : 2.43e+00 (# of elements : 170455)\n",
      "[Open3D DEBUG] ICP Iteration #19: Fitness 0.8780, RMSE 1.7308\n",
      "[Open3D DEBUG] Residual : 2.15e+00 (# of elements : 175879)\n",
      "[Open3D DEBUG] ICP Iteration #20: Fitness 0.8975, RMSE 1.4164\n",
      "[Open3D DEBUG] Residual : 1.17e+00 (# of elements : 179772)\n",
      "[Open3D DEBUG] ICP Iteration #21: Fitness 0.8923, RMSE 1.0977\n",
      "[Open3D DEBUG] Residual : 3.97e-01 (# of elements : 178744)\n",
      "[Open3D DEBUG] ICP Iteration #22: Fitness 0.8903, RMSE 1.0378\n",
      "[Open3D DEBUG] Residual : 2.19e-01 (# of elements : 178334)\n",
      "[Open3D DEBUG] ICP Iteration #23: Fitness 0.8895, RMSE 1.0342\n",
      "[Open3D DEBUG] Residual : 1.93e-01 (# of elements : 178176)\n",
      "[Open3D DEBUG] ICP Iteration #24: Fitness 0.8893, RMSE 1.0340\n",
      "[Open3D DEBUG] Residual : 1.89e-01 (# of elements : 178130)\n",
      "[Open3D DEBUG] ICP Iteration #25: Fitness 0.8892, RMSE 1.0343\n",
      "[Open3D DEBUG] Residual : 1.89e-01 (# of elements : 178123)\n",
      "[Open3D DEBUG] ICP Iteration #26: Fitness 0.8892, RMSE 1.0344\n",
      "[Open3D DEBUG] Residual : 1.89e-01 (# of elements : 178122)\n",
      "[Open3D DEBUG] ICP Iteration #27: Fitness 0.8892, RMSE 1.0344\n",
      "[Open3D DEBUG] Residual : 1.89e-01 (# of elements : 178121)\n",
      "[Open3D DEBUG] ICP Iteration #28: Fitness 0.8892, RMSE 1.0343\n",
      "[Open3D DEBUG] Residual : 1.89e-01 (# of elements : 178120)\n",
      "[Open3D DEBUG] ICP Iteration #29: Fitness 0.8892, RMSE 1.0343\n",
      "[Open3D DEBUG] Residual : 1.89e-01 (# of elements : 178120)\n",
      "Build o3d.registration.PoseGraph\n"
     ]
    }
   ],
   "execution_count": 468
  },
  {
   "metadata": {
    "ExecuteTime": {
     "end_time": "2025-04-17T03:02:15.989701Z",
     "start_time": "2025-04-17T03:02:15.982719Z"
    }
   },
   "cell_type": "code",
   "source": "",
   "id": "9c9835b11269704e",
   "outputs": [
    {
     "name": "stdout",
     "output_type": "stream",
     "text": [
      "Optimizing PoseGraph ...\n",
      "[Open3D DEBUG] Validating PoseGraph - finished.\n",
      "[Open3D DEBUG] [GlobalOptimizationLM] Optimizing PoseGraph having 2 nodes and 1 edges.\n",
      "[Open3D DEBUG] Line process weight : 5504017.244258\n",
      "[Open3D DEBUG] [Initial     ] residual : 3.336700e-24, lambda : 9.775878e+03\n",
      "[Open3D DEBUG] Maximum coefficient of right term < 1.000000e-06\n",
      "[Open3D DEBUG] [GlobalOptimizationLM] Optimizing PoseGraph having 2 nodes and 1 edges.\n",
      "[Open3D DEBUG] Line process weight : 5504017.244258\n",
      "[Open3D DEBUG] [Initial     ] residual : 3.336700e-24, lambda : 9.775878e+03\n",
      "[Open3D DEBUG] Maximum coefficient of right term < 1.000000e-06\n",
      "[Open3D DEBUG] CompensateReferencePoseGraphNode : reference : 0\n"
     ]
    }
   ],
   "execution_count": 469
  },
  {
   "metadata": {
    "ExecuteTime": {
     "end_time": "2025-04-17T03:02:19.967714Z",
     "start_time": "2025-04-17T03:02:15.992714Z"
    }
   },
   "cell_type": "code",
   "source": "",
   "id": "ad0978445f8b8750",
   "outputs": [
    {
     "name": "stdout",
     "output_type": "stream",
     "text": [
      "Transform points and display\n",
      "[[1. 0. 0. 0.]\n",
      " [0. 1. 0. 0.]\n",
      " [0. 0. 1. 0.]\n",
      " [0. 0. 0. 1.]]\n",
      "[[  0.9558904   -0.24411807   0.16333983   5.71053283]\n",
      " [  0.2918158    0.72601631  -0.62269082 -11.95014514]\n",
      " [  0.0334227    0.64288932   0.76522953 -10.86034223]\n",
      " [  0.           0.           0.           1.        ]]\n",
      "[Open3D DEBUG] [Visualizer] Creating window.\n",
      "[Open3D DEBUG] GLFW init.\n",
      "[Open3D DEBUG] Add geometry and update bounding box to [(-0.9998, -83.8568, -51.5618) - (123.1499, 119.4377, 49.6524)]\n",
      "[Open3D DEBUG] Add geometry and update bounding box to [(-1.1539, -83.8568, -51.5618) - (125.4630, 120.0148, 51.6416)]\n",
      "[Open3D DEBUG] [Visualizer] Destroying window.\n",
      "[Open3D DEBUG] GLFW destruct.\n"
     ]
    }
   ],
   "execution_count": 470
  },
  {
   "metadata": {
    "ExecuteTime": {
     "end_time": "2025-04-17T03:02:20.857476Z",
     "start_time": "2025-04-17T03:02:19.969722Z"
    }
   },
   "cell_type": "code",
   "source": "",
   "id": "c957575fb43bdda6",
   "outputs": [
    {
     "name": "stdout",
     "output_type": "stream",
     "text": [
      "Make a combined point cloud\n"
     ]
    }
   ],
   "execution_count": 471
  },
  {
   "metadata": {
    "ExecuteTime": {
     "end_time": "2025-04-17T03:01:51.015093Z",
     "start_time": "2025-04-17T03:01:44.179532Z"
    }
   },
   "cell_type": "code",
   "source": "\n",
   "id": "a6ca6941b12dacc",
   "outputs": [
    {
     "name": "stdout",
     "output_type": "stream",
     "text": [
      "[Open3D DEBUG] Pointcloud down sampled from 390617 points to 56946 points.\n",
      "[Open3D DEBUG] Write geometry::PointCloud: 56946 vertices.\n",
      "[Open3D DEBUG] [Visualizer] Creating window.\n",
      "[Open3D DEBUG] GLFW init.\n",
      "[Open3D DEBUG] Add geometry and update bounding box to [(-1.0762, -83.8250, -51.3693) - (125.3963, 119.9616, 51.7213)]\n",
      "[Open3D DEBUG] [Visualizer] Destroying window.\n",
      "[Open3D DEBUG] GLFW destruct.\n"
     ]
    }
   ],
   "execution_count": 460
  },
  {
   "metadata": {
    "ExecuteTime": {
     "end_time": "2025-04-17T03:02:00.244928Z",
     "start_time": "2025-04-17T03:01:51.016609Z"
    }
   },
   "cell_type": "code",
   "source": "",
   "id": "5230bb7b5ac3a2e0",
   "outputs": [
    {
     "name": "stdout",
     "output_type": "stream",
     "text": [
      "[Open3D DEBUG] [Visualizer] Creating window.\n",
      "[Open3D DEBUG] GLFW init.\n",
      "[Open3D DEBUG] Add geometry and update bounding box to [(-1.0762, -83.8250, -51.3693) - (125.3963, 119.9616, 51.7213)]\n",
      "[Open3D DEBUG] [Visualizer] Destroying window.\n",
      "[Open3D DEBUG] GLFW destruct.\n"
     ]
    }
   ],
   "execution_count": 461
  },
  {
   "metadata": {
    "ExecuteTime": {
     "end_time": "2025-04-17T03:02:00.250454Z",
     "start_time": "2025-04-17T03:02:00.246448Z"
    }
   },
   "cell_type": "code",
   "source": "",
   "id": "1f10f28ef09928e3",
   "outputs": [],
   "execution_count": 461
  }
 ],
 "metadata": {
  "kernelspec": {
   "display_name": "Python 3",
   "language": "python",
   "name": "python3"
  },
  "language_info": {
   "codemirror_mode": {
    "name": "ipython",
    "version": 2
   },
   "file_extension": ".py",
   "mimetype": "text/x-python",
   "name": "python",
   "nbconvert_exporter": "python",
   "pygments_lexer": "ipython2",
   "version": "2.7.6"
  }
 },
 "nbformat": 4,
 "nbformat_minor": 5
}
