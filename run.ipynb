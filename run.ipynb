{
 "cells": [
  {
   "metadata": {
    "ExecuteTime": {
     "end_time": "2025-04-30T09:49:01.789839Z",
     "start_time": "2025-04-30T09:49:01.784498Z"
    }
   },
   "cell_type": "code",
   "source": [
    "from utils import *\n",
    "import numpy as np\n",
    "from skimage import measure\n",
    "import os\n",
    "import cv2"
   ],
   "id": "fbc121e30a2defb3",
   "outputs": [],
   "execution_count": 100
  },
  {
   "metadata": {
    "ExecuteTime": {
     "end_time": "2025-04-30T09:49:02.265390Z",
     "start_time": "2025-04-30T09:49:02.255327Z"
    }
   },
   "cell_type": "code",
   "source": [
    "def project_vertices(vertices, frame_matrix, image_size):\n",
    "    # Берём только 3х3 матрицу вращения и 3х1 вектор смещения\n",
    "    R = frame_matrix[:3, :3]\n",
    "    T = frame_matrix[:3, 3]\n",
    "    f = 1.0\n",
    "    H = np.vstack([R * f, T])\n",
    "\n",
    "    # Ортографическая проекция\n",
    "    projected = vertices @ H[:3, :3].T + H[:3, 2]\n",
    "    projected = projected[:, :2]\n",
    "\n",
    "    # Масштабируем до размера изображения\n",
    "    projected -= projected.min(axis=0)\n",
    "    projected /= projected.max(axis=0)\n",
    "    projected *= np.array(image_size)[::-1]  # W x H\n",
    "    return projected\n",
    "\n",
    "\n",
    "def build_triangle_index_map(mesh, image_size):\n",
    "    vertices = mesh[\"vertices\"]\n",
    "    faces = mesh[\"faces\"]\n",
    "    frame_matrix = mesh[\"frame_matrix\"]\n",
    "    projected_vertices = project_vertices(vertices, frame_matrix, image_size)\n",
    "    index_map = np.full(image_size[::-1], -1, dtype=np.int32)  # (H, W)\n",
    "\n",
    "    for tri_idx, face in enumerate(faces):\n",
    "        pts = projected_vertices[face].astype(np.int32)\n",
    "        cv2.fillPoly(index_map, [pts], color=tri_idx)\n",
    "\n",
    "    return index_map"
   ],
   "id": "2a1a902d92130649",
   "outputs": [],
   "execution_count": 101
  },
  {
   "metadata": {},
   "cell_type": "markdown",
   "source": "1. Считываем данные и приводим к единой системе координат",
   "id": "22b30d31d3e68a5b"
  },
  {
   "metadata": {
    "ExecuteTime": {
     "end_time": "2025-04-30T10:56:53.244482Z",
     "start_time": "2025-04-30T10:56:53.239378Z"
    }
   },
   "cell_type": "code",
   "source": [
    "# Размер воксельного пространства\n",
    "VOXEL_GRID_SIZE = 256\n",
    "# Размер проекции\n",
    "image_size = (VOXEL_GRID_SIZE * 2, VOXEL_GRID_SIZE * 2)"
   ],
   "id": "b7740878802d5690",
   "outputs": [],
   "execution_count": 174
  },
  {
   "metadata": {
    "ExecuteTime": {
     "end_time": "2025-04-30T10:56:53.561448Z",
     "start_time": "2025-04-30T10:56:53.556920Z"
    }
   },
   "cell_type": "code",
   "source": [
    "# Получим пути к исходным файлам\n",
    "files = [f for f in os.listdir(\"data\") if f.endswith('.x')]"
   ],
   "id": "a266c4f8f2efef5a",
   "outputs": [],
   "execution_count": 175
  },
  {
   "metadata": {
    "ExecuteTime": {
     "end_time": "2025-04-30T10:57:02.546152Z",
     "start_time": "2025-04-30T10:56:53.825704Z"
    }
   },
   "cell_type": "code",
   "source": [
    "meshes = []\n",
    "for f in files:\n",
    "    print(f)\n",
    "    filepath = os.path.abspath(f'data\\\\{f}')\n",
    "    data = parse_x_file(filepath)\n",
    "\n",
    "    # Переведём координаты точек из локальной системы координат в систему координат камеры\n",
    "    data['vertices'] = apply_transformation(data.get('vertices'), data.get('frame_matrix'))\n",
    "    \n",
    "    # Предварительная индексация треугольников\n",
    "    data[\"index_map\"] = build_triangle_index_map(data, image_size)\n",
    "    \n",
    "    # Путь к текстуре\n",
    "    data['texture_path'] = os.path.abspath(f'data\\\\{f.rstrip(\".x\")}.bmp')\n",
    "    meshes.append(data)"
   ],
   "id": "89384dcaac4d0b77",
   "outputs": [
    {
     "name": "stdout",
     "output_type": "stream",
     "text": [
      "teapot_1.x\n",
      "num_vertices: 200310\n",
      "num_faces: 379304\n",
      "num_uvs: 200310\n",
      "teapot_2.x\n",
      "num_vertices: 190307\n",
      "num_faces: 358169\n",
      "num_uvs: 190307\n"
     ]
    }
   ],
   "execution_count": 176
  },
  {
   "metadata": {
    "ExecuteTime": {
     "end_time": "2025-04-30T09:47:12.751543Z",
     "start_time": "2025-04-30T09:47:09.726538Z"
    }
   },
   "cell_type": "code",
   "source": [
    "# Конфертируем все меши в PointCloud\n",
    "pcds_raw = [vertices_to_pcd(m.get('vertices')) for m in meshes]\n",
    "# Считаем нормали для PointCloud\n",
    "pcds_down = [get_normals_to_pcd(pcd) for pcd in pcds_raw]\n",
    "\n",
    "# Посмотрим как взаиморасположены меши\n",
    "o3d.visualization.draw_geometries(pcds_down)"
   ],
   "id": "c39ad2f7a3891d82",
   "outputs": [],
   "execution_count": 90
  },
  {
   "metadata": {},
   "cell_type": "markdown",
   "source": "2. Инициализируем воксельное пространство",
   "id": "87b87c0074e9c386"
  },
  {
   "metadata": {
    "ExecuteTime": {
     "end_time": "2025-04-30T10:39:31.601091Z",
     "start_time": "2025-04-30T10:39:31.590002Z"
    }
   },
   "cell_type": "code",
   "source": [
    "# Сбор всех вершин в единую структуру\n",
    "all_vertices = np.vstack([mesh[\"vertices\"] for mesh in meshes])"
   ],
   "id": "b64140581e4aaa6e",
   "outputs": [],
   "execution_count": 158
  },
  {
   "metadata": {
    "ExecuteTime": {
     "end_time": "2025-04-30T10:39:31.631691Z",
     "start_time": "2025-04-30T10:39:31.603147Z"
    }
   },
   "cell_type": "code",
   "source": [
    "# Границы сцены\n",
    "min_bound = np.min(all_vertices, axis=0)\n",
    "max_bound = np.max(all_vertices, axis=0)\n",
    "scene_size = max_bound - min_bound"
   ],
   "id": "c73e6952903dec2",
   "outputs": [],
   "execution_count": 159
  },
  {
   "metadata": {
    "ExecuteTime": {
     "end_time": "2025-04-30T10:39:31.638944Z",
     "start_time": "2025-04-30T10:39:31.633251Z"
    }
   },
   "cell_type": "code",
   "source": [
    "# Размер одного вокселя\n",
    "voxel_size = scene_size / VOXEL_GRID_SIZE"
   ],
   "id": "6a6e417eff059cdd",
   "outputs": [],
   "execution_count": 160
  },
  {
   "metadata": {
    "ExecuteTime": {
     "end_time": "2025-04-30T10:39:31.670781Z",
     "start_time": "2025-04-30T10:39:31.640021Z"
    }
   },
   "cell_type": "code",
   "source": [
    "# Инициализация скалярного поля и весов\n",
    "D = np.zeros((VOXEL_GRID_SIZE + 1, VOXEL_GRID_SIZE + 1, VOXEL_GRID_SIZE + 1), dtype=np.float32)\n",
    "W = np.zeros_like(D)"
   ],
   "id": "4aeacc84c659f2ba",
   "outputs": [],
   "execution_count": 161
  },
  {
   "metadata": {
    "ExecuteTime": {
     "end_time": "2025-04-30T10:39:31.689883Z",
     "start_time": "2025-04-30T10:39:31.673413Z"
    }
   },
   "cell_type": "code",
   "source": [
    "# Сохраняем параметры для дальнейших преобразований\n",
    "voxel_space = {\n",
    "    \"min_bound\": min_bound,\n",
    "    \"max_bound\": max_bound,\n",
    "    \"scene_size\": scene_size,\n",
    "    \"voxel_size\": voxel_size,\n",
    "    \"D\": D,\n",
    "    \"W\": W,\n",
    "    \"grid_size\": VOXEL_GRID_SIZE\n",
    "}"
   ],
   "id": "e50bf7cb1efc231a",
   "outputs": [],
   "execution_count": 162
  },
  {
   "metadata": {},
   "cell_type": "markdown",
   "source": "3. Объединяем меши воксельным методом",
   "id": "e3e109cf8502c2bf"
  },
  {
   "metadata": {
    "ExecuteTime": {
     "end_time": "2025-04-30T10:40:12.350753Z",
     "start_time": "2025-04-30T10:40:12.333751Z"
    }
   },
   "cell_type": "code",
   "source": [
    "def compute_triangle_normal(p0, p1, p2):\n",
    "    return np.cross(p1 - p0, p2 - p0)\n",
    "\n",
    "\n",
    "def point_to_triangle_distance(p, a, b, c):\n",
    "    # Истинное расстояние от точки до треугольника в 3D\n",
    "    ab = b - a\n",
    "    ac = c - a\n",
    "    ap = p - a\n",
    "    \n",
    "    d1 = np.dot(ab, ap)\n",
    "    d2 = np.dot(ac, ap)\n",
    "    if d1 <= 0.0 and d2 <= 0.0:\n",
    "        # точка p лежит вне треугольника со стороны вершины a\n",
    "        return np.linalg.norm(ap)\n",
    "\n",
    "    bp = p - b\n",
    "    d3 = np.dot(ab, bp)\n",
    "    d4 = np.dot(ac, bp)\n",
    "    if d3 >= 0.0 and d4 <= d3:\n",
    "        # точка p лежит вне треугольника со стороны вершины b\n",
    "        return np.linalg.norm(bp)\n",
    "\n",
    "    vc = d1*d4 - d3*d2\n",
    "    if vc <= 0.0 and d1 >= 0.0 and d3 <= 0.0:\n",
    "        v = d1 / (d1 - d3)\n",
    "        proj = a + v * ab\n",
    "        # точка p ближе всего к ребру AB.\n",
    "        return np.linalg.norm(p - proj)\n",
    "\n",
    "    cp = p - c\n",
    "    d5 = np.dot(ab, cp)\n",
    "    d6 = np.dot(ac, cp)\n",
    "    if d6 >= 0.0 and d5 <= d6:\n",
    "        # точка p лежит вне треугольника со стороны вершины c\n",
    "        return np.linalg.norm(cp)\n",
    "\n",
    "    vb = d5*d2 - d1*d6\n",
    "    if vb <= 0.0 and d2 >= 0.0 and d6 <= 0.0:\n",
    "        w = d2 / (d2 - d6)\n",
    "        proj = a + w * ac\n",
    "        # точка p ближе всего к ребру AC\n",
    "        return np.linalg.norm(p - proj)\n",
    "\n",
    "    va = d3*d6 - d5*d4\n",
    "    if va <= 0.0 and (d4 - d3) >= 0.0 and (d5 - d6) >= 0.0:\n",
    "        w = (d4 - d3) / ((d4 - d3) + (d5 - d6))\n",
    "        proj = b + w * (c - b)\n",
    "        # точка p ближе всего к ребру BC.\n",
    "        return np.linalg.norm(p - proj)\n",
    "\n",
    "    # точка p лежит внутри треугольника\n",
    "    n = np.cross(ab, ac)\n",
    "    n /= np.linalg.norm(n)\n",
    "    return abs(np.dot(ap, n))\n",
    "\n",
    "\n",
    "def compute_weight(p, camera_center, normal):\n",
    "    direction = camera_center - p\n",
    "    direction /= np.linalg.norm(direction)\n",
    "    weight = abs(np.dot(direction, normal))\n",
    "    return weight\n",
    "\n",
    "\n",
    "def integrate_mesh_to_voxel_grid(mesh, voxel_space):\n",
    "    vertices = mesh[\"vertices\"]\n",
    "    faces = mesh[\"faces\"]\n",
    "    frame_matrix = mesh[\"frame_matrix\"]\n",
    "    camera_center = apply_transformation(np.array([[0.0, 0.0, 0.0]]), frame_matrix)[0]\n",
    "\n",
    "    D = voxel_space[\"D\"]\n",
    "    W = voxel_space[\"W\"]\n",
    "    min_bound = voxel_space[\"min_bound\"]\n",
    "    voxel_size = voxel_space[\"voxel_size\"]\n",
    "\n",
    "    for face in tqdm(faces, desc=\"Faces\", unit=\" triangles\", unit_scale=1):\n",
    "        a, b, c = vertices[face[0]], vertices[face[1]], vertices[face[2]]\n",
    "        normal = compute_triangle_normal(a, b, c)\n",
    "        normal /= np.linalg.norm(normal)\n",
    "\n",
    "        # Bounding box треугольника в МИРОВЫХ координата\n",
    "        tri_min = np.minimum(np.minimum(a, b), c)\n",
    "        tri_max = np.maximum(np.maximum(a, b), c)\n",
    "        \n",
    "        # Переводим его в индексы воксельной сетки\n",
    "        min_idx = np.floor((tri_min - min_bound) / voxel_size).astype(int)\n",
    "        max_idx = np.ceil((tri_max - min_bound) / voxel_size).astype(int)\n",
    "\n",
    "        for i in range(min_idx[0], max_idx[0] + 1):\n",
    "            for j in range(min_idx[1], max_idx[1] + 1):\n",
    "                for k in range(min_idx[2], max_idx[2] + 1):\n",
    "                    voxel_center = min_bound + voxel_size * (np.array([i, j, k]) + 0.5)\n",
    "                    distance = point_to_triangle_distance(voxel_center, a, b, c)\n",
    "                    weight = compute_weight(voxel_center, camera_center, normal)\n",
    "\n",
    "                    if weight == 0.0:\n",
    "                        continue  # скипаем неинтересные места\n",
    "\n",
    "                    D[i, j, k] = (W[i, j, k] * D[i, j, k] + weight * distance) / (W[i, j, k] + weight)\n",
    "                    W[i, j, k] += weight\n"
   ],
   "id": "b5d11a8eea08f170",
   "outputs": [],
   "execution_count": 165
  },
  {
   "metadata": {
    "ExecuteTime": {
     "end_time": "2025-04-30T10:45:59.344736Z",
     "start_time": "2025-04-30T10:40:12.881511Z"
    }
   },
   "cell_type": "code",
   "source": [
    "# Вычислим интегральную функцию растояния и весовую функцию для каждого вокселя\n",
    "for mesh in meshes:\n",
    "    integrate_mesh_to_voxel_grid(mesh, voxel_space)"
   ],
   "id": "d4c7e3f53a262f4f",
   "outputs": [
    {
     "name": "stderr",
     "output_type": "stream",
     "text": [
      "Faces: 100%|██████████| 379k/379k [03:04<00:00, 2.05k triangles/s] \n",
      "Faces: 100%|██████████| 358k/358k [02:41<00:00, 2.22k triangles/s] \n"
     ]
    }
   ],
   "execution_count": 166
  },
  {
   "metadata": {
    "ExecuteTime": {
     "end_time": "2025-04-30T10:45:59.386447Z",
     "start_time": "2025-04-30T10:45:59.347803Z"
    }
   },
   "cell_type": "code",
   "source": "safe_D = np.copy(D)",
   "id": "ec7e7aea50cf73f3",
   "outputs": [],
   "execution_count": 167
  },
  {
   "metadata": {
    "ExecuteTime": {
     "end_time": "2025-04-30T10:45:59.909555Z",
     "start_time": "2025-04-30T10:45:59.454566Z"
    }
   },
   "cell_type": "code",
   "source": [
    "# Marching cubes ищет поверхность, где D == 0\n",
    "verts, faces, normals, values = measure.marching_cubes(safe_D, level=0, spacing=(voxel_space[\"voxel_size\"]))"
   ],
   "id": "7efab054e3fb2438",
   "outputs": [],
   "execution_count": 169
  },
  {
   "metadata": {
    "ExecuteTime": {
     "end_time": "2025-04-30T10:46:00.541582Z",
     "start_time": "2025-04-30T10:45:59.911668Z"
    }
   },
   "cell_type": "code",
   "source": [
    "# Создадим меш на основе вершин и треугольников\n",
    "mesh = o3d.geometry.TriangleMesh()\n",
    "mesh.vertices = o3d.utility.Vector3dVector(verts)\n",
    "mesh.triangles = o3d.utility.Vector3iVector(faces)"
   ],
   "id": "55986642bb4bd2ee",
   "outputs": [],
   "execution_count": 170
  },
  {
   "metadata": {
    "ExecuteTime": {
     "end_time": "2025-04-30T10:46:00.585218Z",
     "start_time": "2025-04-30T10:46:00.543162Z"
    }
   },
   "cell_type": "code",
   "source": [
    "# Пересчитаем нормали\n",
    "mesh.compute_vertex_normals()\n",
    "mesh.compute_triangle_normals()\n",
    "mesh.normalize_normals()"
   ],
   "id": "f486a429fd27cf53",
   "outputs": [
    {
     "data": {
      "text/plain": [
       "TriangleMesh with 275434 points and 548494 triangles."
      ]
     },
     "execution_count": 171,
     "metadata": {},
     "output_type": "execute_result"
    }
   ],
   "execution_count": 171
  },
  {
   "metadata": {
    "ExecuteTime": {
     "end_time": "2025-04-30T10:47:13.805434Z",
     "start_time": "2025-04-30T10:46:25.396809Z"
    }
   },
   "cell_type": "code",
   "source": [
    "# Посмотрим на результат объединения\n",
    "o3d.visualization.draw_geometries([mesh])"
   ],
   "id": "ad222bcf4f1b26",
   "outputs": [],
   "execution_count": 173
  },
  {
   "metadata": {},
   "cell_type": "markdown",
   "source": "4. Сохраняем полученный меш",
   "id": "5b38597e234b9dfa"
  },
  {
   "metadata": {
    "ExecuteTime": {
     "end_time": "2025-04-30T10:36:22.345255Z",
     "start_time": "2025-04-30T10:36:19.942439Z"
    }
   },
   "cell_type": "code",
   "source": "write_mesh_to_x(mesh, 'output_mesh.x', save_normals=False, save_texture=False)",
   "id": "7d0db52aa67e2e35",
   "outputs": [
    {
     "name": "stderr",
     "output_type": "stream",
     "text": [
      "Vertices: 100%|██████████| 181k/181k [00:01<00:00, 149k points/s] \n",
      "Faces: 100%|██████████| 379k/379k [00:01<00:00, 324k triangles/s] \n"
     ]
    }
   ],
   "execution_count": 156
  }
 ],
 "metadata": {
  "kernelspec": {
   "display_name": "Python 3",
   "language": "python",
   "name": "python3"
  },
  "language_info": {
   "codemirror_mode": {
    "name": "ipython",
    "version": 2
   },
   "file_extension": ".py",
   "mimetype": "text/x-python",
   "name": "python",
   "nbconvert_exporter": "python",
   "pygments_lexer": "ipython2",
   "version": "2.7.6"
  }
 },
 "nbformat": 4,
 "nbformat_minor": 5
}
