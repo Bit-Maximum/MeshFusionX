{
 "cells": [
  {
   "metadata": {
    "ExecuteTime": {
     "end_time": "2025-04-30T13:46:55.433886Z",
     "start_time": "2025-04-30T13:46:54.048007Z"
    }
   },
   "cell_type": "code",
   "source": [
    "from utils import *\n",
    "from skimage import measure\n",
    "import os"
   ],
   "id": "fbc121e30a2defb3",
   "outputs": [
    {
     "name": "stdout",
     "output_type": "stream",
     "text": [
      "Jupyter environment detected. Enabling Open3D WebVisualizer.\n",
      "[Open3D INFO] WebRTC GUI backend enabled.\n",
      "[Open3D INFO] WebRTCWindowSystem: HTTP handshake server disabled.\n"
     ]
    }
   ],
   "execution_count": 1
  },
  {
   "metadata": {},
   "cell_type": "markdown",
   "source": "1. Считываем данные и приводим к единой системе координат",
   "id": "22b30d31d3e68a5b"
  },
  {
   "metadata": {
    "ExecuteTime": {
     "end_time": "2025-04-30T13:46:55.443467Z",
     "start_time": "2025-04-30T13:46:55.436902Z"
    }
   },
   "cell_type": "code",
   "source": [
    "# Размер воксельного пространства\n",
    "VOXEL_GRID_SIZE = 256\n",
    "# Размер проекции\n",
    "image_size = (960, 1280)"
   ],
   "id": "b7740878802d5690",
   "outputs": [],
   "execution_count": 2
  },
  {
   "metadata": {
    "ExecuteTime": {
     "end_time": "2025-04-30T13:46:55.453722Z",
     "start_time": "2025-04-30T13:46:55.445484Z"
    }
   },
   "cell_type": "code",
   "source": [
    "# Получим пути к исходным файлам\n",
    "files = [f for f in os.listdir(\"data\") if f.endswith('.x')]"
   ],
   "id": "a266c4f8f2efef5a",
   "outputs": [],
   "execution_count": 3
  },
  {
   "metadata": {
    "ExecuteTime": {
     "end_time": "2025-04-30T13:47:15.317867Z",
     "start_time": "2025-04-30T13:47:10.020453Z"
    }
   },
   "cell_type": "code",
   "source": [
    "meshes = []\n",
    "for f in files:\n",
    "    print(f)\n",
    "    filepath = os.path.abspath(f'data\\\\{f}')\n",
    "    data = parse_x_file(filepath)\n",
    "\n",
    "    # Переведём координаты точек из локальной системы координат в систему координат камеры\n",
    "    data['vertices'] = apply_transformation(data.get('vertices'), data.get('frame_matrix'))\n",
    "    \n",
    "    # Путь к текстуре\n",
    "    data['texture_path'] = os.path.abspath(f'data\\\\{f.rstrip(\".x\")}.bmp')\n",
    "    meshes.append(data)"
   ],
   "id": "89384dcaac4d0b77",
   "outputs": [
    {
     "name": "stdout",
     "output_type": "stream",
     "text": [
      "teapot_1.x\n",
      "num_vertices: 200310\n",
      "num_faces: 379304\n",
      "num_uvs: 200310\n",
      "teapot_2.x\n",
      "num_vertices: 190307\n",
      "num_faces: 358169\n",
      "num_uvs: 190307\n"
     ]
    }
   ],
   "execution_count": 5
  },
  {
   "metadata": {
    "ExecuteTime": {
     "end_time": "2025-04-30T13:47:37.120345Z",
     "start_time": "2025-04-30T13:47:15.320513Z"
    }
   },
   "cell_type": "code",
   "source": [
    "# Конфертируем все меши в PointCloud\n",
    "pcds_raw = [vertices_to_pcd(m.get('vertices')) for m in meshes]\n",
    "# Считаем нормали для PointCloud\n",
    "pcds_down = [get_normals_to_pcd(pcd) for pcd in pcds_raw]\n",
    "\n",
    "# Посмотрим как взаиморасположены меши\n",
    "o3d.visualization.draw_geometries(pcds_down)"
   ],
   "id": "c39ad2f7a3891d82",
   "outputs": [],
   "execution_count": 6
  },
  {
   "metadata": {},
   "cell_type": "markdown",
   "source": "2. Инициализируем воксельное пространство",
   "id": "87b87c0074e9c386"
  },
  {
   "metadata": {
    "ExecuteTime": {
     "end_time": "2025-04-30T13:48:47.043272Z",
     "start_time": "2025-04-30T13:48:47.030071Z"
    }
   },
   "cell_type": "code",
   "source": [
    "# Сбор всех вершин в единую структуру\n",
    "all_vertices = np.vstack([mesh[\"vertices\"] for mesh in meshes])"
   ],
   "id": "b64140581e4aaa6e",
   "outputs": [],
   "execution_count": 7
  },
  {
   "metadata": {
    "ExecuteTime": {
     "end_time": "2025-04-30T13:48:47.342768Z",
     "start_time": "2025-04-30T13:48:47.302603Z"
    }
   },
   "cell_type": "code",
   "source": [
    "# Границы сцены\n",
    "min_bound = np.min(all_vertices, axis=0)\n",
    "max_bound = np.max(all_vertices, axis=0)\n",
    "scene_size = max_bound - min_bound"
   ],
   "id": "c73e6952903dec2",
   "outputs": [],
   "execution_count": 8
  },
  {
   "metadata": {
    "ExecuteTime": {
     "end_time": "2025-04-30T13:48:47.511852Z",
     "start_time": "2025-04-30T13:48:47.506342Z"
    }
   },
   "cell_type": "code",
   "source": [
    "# Размер одного вокселя\n",
    "voxel_size = scene_size / VOXEL_GRID_SIZE"
   ],
   "id": "6a6e417eff059cdd",
   "outputs": [],
   "execution_count": 9
  },
  {
   "metadata": {
    "ExecuteTime": {
     "end_time": "2025-04-30T13:48:48.074901Z",
     "start_time": "2025-04-30T13:48:48.045304Z"
    }
   },
   "cell_type": "code",
   "source": [
    "# Инициализация скалярного поля и весов\n",
    "D = np.zeros((VOXEL_GRID_SIZE + 1, VOXEL_GRID_SIZE + 1, VOXEL_GRID_SIZE + 1), dtype=np.float32)\n",
    "W = np.zeros_like(D)"
   ],
   "id": "4aeacc84c659f2ba",
   "outputs": [],
   "execution_count": 10
  },
  {
   "metadata": {
    "ExecuteTime": {
     "end_time": "2025-04-30T13:48:48.272607Z",
     "start_time": "2025-04-30T13:48:48.265311Z"
    }
   },
   "cell_type": "code",
   "source": [
    "# Сохраняем параметры для дальнейших преобразований\n",
    "voxel_space = {\n",
    "    \"min_bound\": min_bound,\n",
    "    \"max_bound\": max_bound,\n",
    "    \"scene_size\": scene_size,\n",
    "    \"voxel_size\": voxel_size,\n",
    "    \"D\": D,\n",
    "    \"W\": W,\n",
    "    \"grid_size\": VOXEL_GRID_SIZE\n",
    "}"
   ],
   "id": "e50bf7cb1efc231a",
   "outputs": [],
   "execution_count": 11
  },
  {
   "metadata": {},
   "cell_type": "markdown",
   "source": "3. Объединяем меши воксельным методом",
   "id": "e3e109cf8502c2bf"
  },
  {
   "metadata": {
    "ExecuteTime": {
     "end_time": "2025-04-30T13:55:50.250834Z",
     "start_time": "2025-04-30T13:48:49.403438Z"
    }
   },
   "cell_type": "code",
   "source": [
    "# Вычислим интегральную функцию растояния и весовую функцию для каждого вокселя\n",
    "for mesh in meshes:\n",
    "    integrate_mesh_to_voxel_grid(mesh, voxel_space)"
   ],
   "id": "d4c7e3f53a262f4f",
   "outputs": [
    {
     "name": "stderr",
     "output_type": "stream",
     "text": [
      "Faces: 100%|██████████| 379k/379k [03:33<00:00, 1.78k triangles/s] \n",
      "Faces: 100%|██████████| 358k/358k [03:27<00:00, 1.72k triangles/s] \n"
     ]
    }
   ],
   "execution_count": 12
  },
  {
   "metadata": {
    "ExecuteTime": {
     "end_time": "2025-04-30T13:55:50.289584Z",
     "start_time": "2025-04-30T13:55:50.253392Z"
    }
   },
   "cell_type": "code",
   "source": "safe_D = np.copy(D)",
   "id": "ec7e7aea50cf73f3",
   "outputs": [],
   "execution_count": 13
  },
  {
   "metadata": {
    "ExecuteTime": {
     "end_time": "2025-04-30T13:55:50.746269Z",
     "start_time": "2025-04-30T13:55:50.292149Z"
    }
   },
   "cell_type": "code",
   "source": [
    "# Marching cubes ищет поверхность, где D == 0\n",
    "verts, faces, normals, values = measure.marching_cubes(safe_D, level=0, spacing=(voxel_space[\"voxel_size\"]))"
   ],
   "id": "7efab054e3fb2438",
   "outputs": [],
   "execution_count": 14
  },
  {
   "metadata": {
    "ExecuteTime": {
     "end_time": "2025-04-30T13:55:51.376413Z",
     "start_time": "2025-04-30T13:55:50.749342Z"
    }
   },
   "cell_type": "code",
   "source": [
    "# Создадим меш на основе вершин и треугольников\n",
    "mesh = o3d.geometry.TriangleMesh()\n",
    "mesh.vertices = o3d.utility.Vector3dVector(verts)\n",
    "mesh.triangles = o3d.utility.Vector3iVector(faces)"
   ],
   "id": "55986642bb4bd2ee",
   "outputs": [],
   "execution_count": 15
  },
  {
   "metadata": {
    "ExecuteTime": {
     "end_time": "2025-04-30T13:55:51.434183Z",
     "start_time": "2025-04-30T13:55:51.379434Z"
    }
   },
   "cell_type": "code",
   "source": [
    "# Пересчитаем нормали\n",
    "mesh.compute_vertex_normals()\n",
    "mesh.compute_triangle_normals()\n",
    "mesh.normalize_normals()"
   ],
   "id": "f486a429fd27cf53",
   "outputs": [
    {
     "data": {
      "text/plain": [
       "TriangleMesh with 276201 points and 552476 triangles."
      ]
     },
     "execution_count": 16,
     "metadata": {},
     "output_type": "execute_result"
    }
   ],
   "execution_count": 16
  },
  {
   "metadata": {
    "ExecuteTime": {
     "end_time": "2025-04-30T13:56:11.346286Z",
     "start_time": "2025-04-30T13:55:51.435755Z"
    }
   },
   "cell_type": "code",
   "source": [
    "# Посмотрим на результат объединения\n",
    "o3d.visualization.draw_geometries([mesh])"
   ],
   "id": "ad222bcf4f1b26",
   "outputs": [],
   "execution_count": 17
  },
  {
   "metadata": {},
   "cell_type": "markdown",
   "source": "4. Сохраняем полученный меш",
   "id": "5b38597e234b9dfa"
  },
  {
   "metadata": {
    "ExecuteTime": {
     "end_time": "2025-04-30T13:56:15.256785Z",
     "start_time": "2025-04-30T13:56:11.349350Z"
    }
   },
   "cell_type": "code",
   "source": "write_mesh_to_x(mesh, 'output_mesh.x', save_normals=False, save_texture=False)",
   "id": "7d0db52aa67e2e35",
   "outputs": [
    {
     "name": "stderr",
     "output_type": "stream",
     "text": [
      "Vertices: 100%|██████████| 276k/276k [00:02<00:00, 135k points/s] \n",
      "Faces: 100%|██████████| 552k/552k [00:01<00:00, 301k triangles/s] \n"
     ]
    }
   ],
   "execution_count": 18
  },
  {
   "metadata": {},
   "cell_type": "code",
   "outputs": [],
   "execution_count": null,
   "source": "",
   "id": "49f517b1cd2bda17"
  }
 ],
 "metadata": {
  "kernelspec": {
   "display_name": "Python 3",
   "language": "python",
   "name": "python3"
  },
  "language_info": {
   "codemirror_mode": {
    "name": "ipython",
    "version": 2
   },
   "file_extension": ".py",
   "mimetype": "text/x-python",
   "name": "python",
   "nbconvert_exporter": "python",
   "pygments_lexer": "ipython2",
   "version": "2.7.6"
  }
 },
 "nbformat": 4,
 "nbformat_minor": 5
}
