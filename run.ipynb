{
 "cells": [
  {
   "metadata": {
    "ExecuteTime": {
     "end_time": "2025-04-30T00:05:44.569215Z",
     "start_time": "2025-04-30T00:05:42.611123Z"
    }
   },
   "cell_type": "code",
   "source": [
    "from utils import *\n",
    "import numpy as np\n",
    "import os\n",
    "import cv2"
   ],
   "id": "fbc121e30a2defb3",
   "outputs": [
    {
     "name": "stdout",
     "output_type": "stream",
     "text": [
      "Jupyter environment detected. Enabling Open3D WebVisualizer.\n",
      "[Open3D INFO] WebRTC GUI backend enabled.\n",
      "[Open3D INFO] WebRTCWindowSystem: HTTP handshake server disabled.\n"
     ]
    }
   ],
   "execution_count": 1
  },
  {
   "metadata": {
    "ExecuteTime": {
     "end_time": "2025-04-30T01:30:08.357214Z",
     "start_time": "2025-04-30T01:30:08.347796Z"
    }
   },
   "cell_type": "code",
   "source": [
    "def project_vertices(vertices, frame_matrix, image_size):\n",
    "    # Берём только 3х3 матрицу вращения и 3х1 вектор смещения\n",
    "    R = frame_matrix[:3, :3]\n",
    "    T = frame_matrix[:3, 3]\n",
    "    f = 1.0\n",
    "    H = np.vstack([R * f, T])\n",
    "\n",
    "    # Ортографическая проекция\n",
    "    projected = vertices @ H[:3, :3].T + H[:3, 2]\n",
    "    projected = projected[:, :2]\n",
    "\n",
    "    # Масштабируем до размера изображения\n",
    "    projected -= projected.min(axis=0)\n",
    "    projected /= projected.max(axis=0)\n",
    "    projected *= np.array(image_size)[::-1]  # W x H\n",
    "    return projected\n",
    "\n",
    "\n",
    "def build_triangle_index_map(mesh, image_size):\n",
    "    vertices = mesh[\"vertices\"]\n",
    "    faces = mesh[\"faces\"]\n",
    "    frame_matrix = mesh[\"frame_matrix\"]\n",
    "    projected_vertices = project_vertices(vertices, frame_matrix, image_size)\n",
    "    index_map = np.full(image_size[::-1], -1, dtype=np.int32)  # (H, W)\n",
    "\n",
    "    for tri_idx, face in enumerate(faces):\n",
    "        pts = projected_vertices[face].astype(np.int32)\n",
    "        cv2.fillPoly(index_map, [pts], color=tri_idx)\n",
    "\n",
    "    return index_map"
   ],
   "id": "2a1a902d92130649",
   "outputs": [],
   "execution_count": 105
  },
  {
   "metadata": {},
   "cell_type": "markdown",
   "source": "1. Считываем данные и приводим к единой системе координат",
   "id": "22b30d31d3e68a5b"
  },
  {
   "metadata": {
    "ExecuteTime": {
     "end_time": "2025-04-30T01:30:08.707216Z",
     "start_time": "2025-04-30T01:30:08.701789Z"
    }
   },
   "cell_type": "code",
   "source": [
    "# Размер воксельного пространства\n",
    "VOXEL_GRID_SIZE = 256\n",
    "# Размер проекции\n",
    "image_size = (VOXEL_GRID_SIZE * 2, VOXEL_GRID_SIZE * 2)"
   ],
   "id": "b7740878802d5690",
   "outputs": [],
   "execution_count": 106
  },
  {
   "metadata": {
    "ExecuteTime": {
     "end_time": "2025-04-30T01:30:08.957553Z",
     "start_time": "2025-04-30T01:30:08.953004Z"
    }
   },
   "cell_type": "code",
   "source": [
    "# Получим пути к исходным файлам\n",
    "files = [f for f in os.listdir(\"data\") if f.endswith('.x')]"
   ],
   "id": "a266c4f8f2efef5a",
   "outputs": [],
   "execution_count": 107
  },
  {
   "metadata": {
    "ExecuteTime": {
     "end_time": "2025-04-30T01:30:18.644565Z",
     "start_time": "2025-04-30T01:30:09.462079Z"
    }
   },
   "cell_type": "code",
   "source": [
    "meshes = []\n",
    "for f in files:\n",
    "    print(f)\n",
    "    filepath = os.path.abspath(f'data\\\\{f}')\n",
    "    data = parse_x_file(filepath)\n",
    "\n",
    "    # Переведём координаты точек из локальной системы координат в систему координат камеры\n",
    "    data['vertices'] = apply_transformation(data.get('vertices'), data.get('frame_matrix'))\n",
    "    \n",
    "    # Предварительная индексация треугольников\n",
    "    data[\"index_map\"] = build_triangle_index_map(data, image_size)\n",
    "    meshes.append(data)"
   ],
   "id": "89384dcaac4d0b77",
   "outputs": [
    {
     "name": "stdout",
     "output_type": "stream",
     "text": [
      "teapot_1.x\n",
      "num_vertices: 200310\n",
      "num_faces: 379304\n",
      "num_uvs: 200310\n",
      "teapot_2.x\n",
      "num_vertices: 190307\n",
      "num_faces: 358169\n",
      "num_uvs: 190307\n"
     ]
    }
   ],
   "execution_count": 108
  },
  {
   "metadata": {},
   "cell_type": "markdown",
   "source": "2. Инициализируем воксельное пространство",
   "id": "87b87c0074e9c386"
  },
  {
   "metadata": {
    "ExecuteTime": {
     "end_time": "2025-04-30T02:13:37.080122Z",
     "start_time": "2025-04-30T02:13:37.068281Z"
    }
   },
   "cell_type": "code",
   "source": [
    "# Сбор всех вершин в единую структуру\n",
    "all_vertices = np.vstack([mesh[\"vertices\"] for mesh in meshes])"
   ],
   "id": "b64140581e4aaa6e",
   "outputs": [],
   "execution_count": 158
  },
  {
   "metadata": {
    "ExecuteTime": {
     "end_time": "2025-04-30T02:13:37.310505Z",
     "start_time": "2025-04-30T02:13:37.281814Z"
    }
   },
   "cell_type": "code",
   "source": [
    "# Границы сцены\n",
    "min_bound = np.min(all_vertices, axis=0)\n",
    "max_bound = np.max(all_vertices, axis=0)\n",
    "scene_size = max_bound - min_bound"
   ],
   "id": "c73e6952903dec2",
   "outputs": [],
   "execution_count": 159
  },
  {
   "metadata": {
    "ExecuteTime": {
     "end_time": "2025-04-30T02:13:37.515110Z",
     "start_time": "2025-04-30T02:13:37.510064Z"
    }
   },
   "cell_type": "code",
   "source": [
    "# Размер одного вокселя\n",
    "voxel_size = scene_size / VOXEL_GRID_SIZE"
   ],
   "id": "6a6e417eff059cdd",
   "outputs": [],
   "execution_count": 160
  },
  {
   "metadata": {
    "ExecuteTime": {
     "end_time": "2025-04-30T02:13:37.857508Z",
     "start_time": "2025-04-30T02:13:37.829853Z"
    }
   },
   "cell_type": "code",
   "source": [
    "# Инициализация скалярного поля и весов\n",
    "D = np.zeros((VOXEL_GRID_SIZE, VOXEL_GRID_SIZE, VOXEL_GRID_SIZE), dtype=np.float32)\n",
    "W = np.zeros_like(D)"
   ],
   "id": "4aeacc84c659f2ba",
   "outputs": [],
   "execution_count": 161
  },
  {
   "metadata": {
    "ExecuteTime": {
     "end_time": "2025-04-30T02:13:38.267227Z",
     "start_time": "2025-04-30T02:13:38.250467Z"
    }
   },
   "cell_type": "code",
   "source": [
    "# Сохраняем параметры для дальнейших преобразований\n",
    "voxel_space = {\n",
    "    \"min_bound\": min_bound,\n",
    "    \"max_bound\": max_bound,\n",
    "    \"scene_size\": scene_size,\n",
    "    \"voxel_size\": voxel_size,\n",
    "    \"D\": D,\n",
    "    \"W\": W,\n",
    "    \"grid_size\": VOXEL_GRID_SIZE\n",
    "}"
   ],
   "id": "e50bf7cb1efc231a",
   "outputs": [],
   "execution_count": 162
  },
  {
   "metadata": {},
   "cell_type": "markdown",
   "source": "3. Объединяем меши воксельным методом",
   "id": "e3e109cf8502c2bf"
  },
  {
   "metadata": {
    "ExecuteTime": {
     "end_time": "2025-04-30T02:13:39.668867Z",
     "start_time": "2025-04-30T02:13:39.649874Z"
    }
   },
   "cell_type": "code",
   "source": [
    "def compute_triangle_normal(p0, p1, p2):\n",
    "    return np.cross(p1 - p0, p2 - p0)\n",
    "\n",
    "\n",
    "def point_to_triangle_distance(p, a, b, c):\n",
    "    # Истинное расстояние от точки до треугольника в 3D\n",
    "    ab = b - a\n",
    "    ac = c - a\n",
    "    ap = p - a\n",
    "    \n",
    "    d1 = np.dot(ab, ap)\n",
    "    d2 = np.dot(ac, ap)\n",
    "    if d1 <= 0.0 and d2 <= 0.0:\n",
    "        # точка p лежит вне треугольника со стороны вершины a\n",
    "        return np.linalg.norm(ap)\n",
    "\n",
    "    bp = p - b\n",
    "    d3 = np.dot(ab, bp)\n",
    "    d4 = np.dot(ac, bp)\n",
    "    if d3 >= 0.0 and d4 <= d3:\n",
    "        # точка p лежит вне треугольника со стороны вершины b\n",
    "        return np.linalg.norm(bp)\n",
    "\n",
    "    vc = d1*d4 - d3*d2\n",
    "    if vc <= 0.0 and d1 >= 0.0 and d3 <= 0.0:\n",
    "        v = d1 / (d1 - d3)\n",
    "        proj = a + v * ab\n",
    "        # точка p ближе всего к ребру AB.\n",
    "        return np.linalg.norm(p - proj)\n",
    "\n",
    "    cp = p - c\n",
    "    d5 = np.dot(ab, cp)\n",
    "    d6 = np.dot(ac, cp)\n",
    "    if d6 >= 0.0 and d5 <= d6:\n",
    "        # точка p лежит вне треугольника со стороны вершины c\n",
    "        return np.linalg.norm(cp)\n",
    "\n",
    "    vb = d5*d2 - d1*d6\n",
    "    if vb <= 0.0 and d2 >= 0.0 and d6 <= 0.0:\n",
    "        w = d2 / (d2 - d6)\n",
    "        proj = a + w * ac\n",
    "        # точка p ближе всего к ребру AC\n",
    "        return np.linalg.norm(p - proj)\n",
    "\n",
    "    va = d3*d6 - d5*d4\n",
    "    if va <= 0.0 and (d4 - d3) >= 0.0 and (d5 - d6) >= 0.0:\n",
    "        w = (d4 - d3) / ((d4 - d3) + (d5 - d6))\n",
    "        proj = b + w * (c - b)\n",
    "        # точка p ближе всего к ребру BC.\n",
    "        return np.linalg.norm(p - proj)\n",
    "\n",
    "    # точка p лежит внутри треугольника\n",
    "    n = np.cross(ab, ac)\n",
    "    n /= np.linalg.norm(n)\n",
    "    return abs(np.dot(ap, n))\n",
    "\n",
    "\n",
    "def compute_weight(p, camera_center, normal):\n",
    "    direction = camera_center - p\n",
    "    direction /= np.linalg.norm(direction) + 1e-9\n",
    "    weight = abs(np.dot(direction, normal))\n",
    "    return weight\n",
    "\n",
    "\n",
    "def integrate_mesh_to_voxel_grid(mesh, voxel_space):\n",
    "    vertices = mesh[\"vertices\"]\n",
    "    faces = mesh[\"faces\"]\n",
    "    frame_matrix = mesh[\"frame_matrix\"]\n",
    "    camera_center = apply_transformation(np.array([[0.0, 0.0, 0.0]]), frame_matrix)[0]\n",
    "\n",
    "    D = voxel_space[\"D\"]\n",
    "    W = voxel_space[\"W\"]\n",
    "    min_bound = voxel_space[\"min_bound\"]\n",
    "    voxel_size = voxel_space[\"voxel_size\"]\n",
    "    grid_size = voxel_space[\"grid_size\"]\n",
    "\n",
    "    for face in tqdm(faces, desc=\"Faces\", unit=\" triangles\", unit_scale=1):\n",
    "        a, b, c = vertices[face[0]], vertices[face[1]], vertices[face[2]]\n",
    "        normal = compute_triangle_normal(a, b, c)\n",
    "        normal /= np.linalg.norm(normal) + 1e-9\n",
    "\n",
    "        # Bounding box треугольника в МИРОВЫХ координата\n",
    "        tri_min = np.minimum(np.minimum(a, b), c)\n",
    "        tri_max = np.maximum(np.maximum(a, b), c)\n",
    "        \n",
    "        # Переводим его в индексы воксельной сетки\n",
    "        min_idx = np.floor((tri_min - min_bound) / voxel_size).astype(int)\n",
    "        max_idx = np.ceil((tri_max - min_bound) / voxel_size).astype(int)\n",
    "        \n",
    "        # Ограничиваем индексы диапазоном вокселей\n",
    "        min_idx = np.clip(min_idx, 0, grid_size - 1)\n",
    "        max_idx = np.clip(max_idx, 0, grid_size - 1)\n",
    "\n",
    "        for i in range(min_idx[0], max_idx[0] + 1):\n",
    "            for j in range(min_idx[1], max_idx[1] + 1):\n",
    "                for k in range(min_idx[2], max_idx[2] + 1):\n",
    "                    voxel_center = min_bound + voxel_size * (np.array([i, j, k]) + 0.5)\n",
    "                    distance = point_to_triangle_distance(voxel_center, a, b, c)\n",
    "                    weight = compute_weight(voxel_center, camera_center, normal)\n",
    "\n",
    "                    if weight == 0.0:\n",
    "                        continue  # скипаем неинтересные места\n",
    "\n",
    "                    D[i, j, k] = (W[i, j, k] * D[i, j, k] + weight * distance) / (W[i, j, k] + weight)\n",
    "                    W[i, j, k] += weight\n"
   ],
   "id": "b5d11a8eea08f170",
   "outputs": [],
   "execution_count": 163
  },
  {
   "metadata": {
    "ExecuteTime": {
     "end_time": "2025-04-30T02:21:22.949788Z",
     "start_time": "2025-04-30T02:13:42.263431Z"
    }
   },
   "cell_type": "code",
   "source": [
    "# Вычислим интегральную функцию растояния и весовую функцию для каждого вокселя\n",
    "for mesh in meshes:\n",
    "    integrate_mesh_to_voxel_grid(mesh, voxel_space)"
   ],
   "id": "d4c7e3f53a262f4f",
   "outputs": [
    {
     "name": "stderr",
     "output_type": "stream",
     "text": [
      "Faces: 100%|██████████| 379k/379k [03:53<00:00, 1.62k triangles/s] \n",
      "Faces: 100%|██████████| 358k/358k [03:46<00:00, 1.58k triangles/s] \n"
     ]
    }
   ],
   "execution_count": 164
  },
  {
   "metadata": {},
   "cell_type": "code",
   "outputs": [],
   "execution_count": 78,
   "source": [
    "# # Нормализация координат в диапазон [0, GRID_SIZE]\n",
    "# for mesh in meshes:\n",
    "#     # Попробуем нормализовать координаты вершан и треугольников под размер воксельной сетки\n",
    "#     mesh['vertices'] = (mesh.get('vertices') - voxel_space[\"min_bound\"]) / voxel_size"
   ],
   "id": "5bb5afbe50151d1f"
  },
  {
   "metadata": {},
   "cell_type": "markdown",
   "source": "",
   "id": "b48c27d3e95892d4"
  },
  {
   "metadata": {
    "ExecuteTime": {
     "end_time": "2025-04-29T23:37:24.951776Z",
     "start_time": "2025-04-29T23:37:24.917731Z"
    }
   },
   "cell_type": "code",
   "source": [
    "# Если дистанция и вес равны нулю — это значит, что воксель не был затронут треугольниками.\n",
    "D[W == 0] = np.inf"
   ],
   "id": "8035bbbe6f82fc46",
   "outputs": [],
   "execution_count": 66
  },
  {
   "metadata": {},
   "cell_type": "markdown",
   "source": "4. Построение меша",
   "id": "51d4273a86ffccf8"
  },
  {
   "metadata": {
    "ExecuteTime": {
     "end_time": "2025-04-30T01:18:03.106568Z",
     "start_time": "2025-04-30T01:18:03.101040Z"
    }
   },
   "cell_type": "code",
   "source": "from skimage import measure",
   "id": "90d4600e3af874e1",
   "outputs": [],
   "execution_count": 97
  },
  {
   "metadata": {
    "ExecuteTime": {
     "end_time": "2025-04-30T02:21:22.999280Z",
     "start_time": "2025-04-30T02:21:22.952816Z"
    }
   },
   "cell_type": "code",
   "source": "safe_D = np.copy(D)",
   "id": "ec7e7aea50cf73f3",
   "outputs": [],
   "execution_count": 165
  },
  {
   "metadata": {
    "ExecuteTime": {
     "end_time": "2025-04-30T02:09:27.522578Z",
     "start_time": "2025-04-30T02:09:27.461244Z"
    }
   },
   "cell_type": "code",
   "source": "len(safe_D[W == 0])",
   "id": "d57dffc0c9698313",
   "outputs": [
    {
     "data": {
      "text/plain": [
       "16460779"
      ]
     },
     "execution_count": 151,
     "metadata": {},
     "output_type": "execute_result"
    }
   ],
   "execution_count": 151
  },
  {
   "metadata": {
    "ExecuteTime": {
     "end_time": "2025-04-30T00:24:03.283917Z",
     "start_time": "2025-04-30T00:24:03.214560Z"
    }
   },
   "cell_type": "code",
   "source": [
    "# Преобразуем inf в max значение, иначе алгоритм сломается\n",
    "safe_D[np.isinf(safe_D)] = np.max(safe_D[np.isfinite(safe_D)])"
   ],
   "id": "5198f18963a45af",
   "outputs": [],
   "execution_count": 59
  },
  {
   "metadata": {
    "ExecuteTime": {
     "end_time": "2025-04-30T00:20:28.112581Z",
     "start_time": "2025-04-30T00:20:28.104718Z"
    }
   },
   "cell_type": "code",
   "source": "safe_D",
   "id": "7f2d01c55e85a859",
   "outputs": [
    {
     "data": {
      "text/plain": [
       "array([[[0., 0., 0., ..., 0., 0., 0.],\n",
       "        [0., 0., 0., ..., 0., 0., 0.],\n",
       "        [0., 0., 0., ..., 0., 0., 0.],\n",
       "        ...,\n",
       "        [0., 0., 0., ..., 0., 0., 0.],\n",
       "        [0., 0., 0., ..., 0., 0., 0.],\n",
       "        [0., 0., 0., ..., 0., 0., 0.]],\n",
       "\n",
       "       [[0., 0., 0., ..., 0., 0., 0.],\n",
       "        [0., 0., 0., ..., 0., 0., 0.],\n",
       "        [0., 0., 0., ..., 0., 0., 0.],\n",
       "        ...,\n",
       "        [0., 0., 0., ..., 0., 0., 0.],\n",
       "        [0., 0., 0., ..., 0., 0., 0.],\n",
       "        [0., 0., 0., ..., 0., 0., 0.]],\n",
       "\n",
       "       [[0., 0., 0., ..., 0., 0., 0.],\n",
       "        [0., 0., 0., ..., 0., 0., 0.],\n",
       "        [0., 0., 0., ..., 0., 0., 0.],\n",
       "        ...,\n",
       "        [0., 0., 0., ..., 0., 0., 0.],\n",
       "        [0., 0., 0., ..., 0., 0., 0.],\n",
       "        [0., 0., 0., ..., 0., 0., 0.]],\n",
       "\n",
       "       ...,\n",
       "\n",
       "       [[0., 0., 0., ..., 0., 0., 0.],\n",
       "        [0., 0., 0., ..., 0., 0., 0.],\n",
       "        [0., 0., 0., ..., 0., 0., 0.],\n",
       "        ...,\n",
       "        [0., 0., 0., ..., 0., 0., 0.],\n",
       "        [0., 0., 0., ..., 0., 0., 0.],\n",
       "        [0., 0., 0., ..., 0., 0., 0.]],\n",
       "\n",
       "       [[0., 0., 0., ..., 0., 0., 0.],\n",
       "        [0., 0., 0., ..., 0., 0., 0.],\n",
       "        [0., 0., 0., ..., 0., 0., 0.],\n",
       "        ...,\n",
       "        [0., 0., 0., ..., 0., 0., 0.],\n",
       "        [0., 0., 0., ..., 0., 0., 0.],\n",
       "        [0., 0., 0., ..., 0., 0., 0.]],\n",
       "\n",
       "       [[0., 0., 0., ..., 0., 0., 0.],\n",
       "        [0., 0., 0., ..., 0., 0., 0.],\n",
       "        [0., 0., 0., ..., 0., 0., 0.],\n",
       "        ...,\n",
       "        [0., 0., 0., ..., 0., 0., 0.],\n",
       "        [0., 0., 0., ..., 0., 0., 0.],\n",
       "        [0., 0., 0., ..., 0., 0., 0.]]],\n",
       "      shape=(256, 256, 256), dtype=float32)"
      ]
     },
     "execution_count": 42,
     "metadata": {},
     "output_type": "execute_result"
    }
   ],
   "execution_count": 42
  },
  {
   "metadata": {
    "ExecuteTime": {
     "end_time": "2025-04-30T02:21:23.515345Z",
     "start_time": "2025-04-30T02:21:23.001309Z"
    }
   },
   "cell_type": "code",
   "source": [
    "# Marching cubes ищет поверхность, где D == 0\n",
    "verts, faces, normals, values = measure.marching_cubes(safe_D, level=0, spacing=(voxel_space[\"voxel_size\"]))"
   ],
   "id": "7efab054e3fb2438",
   "outputs": [],
   "execution_count": 166
  },
  {
   "metadata": {
    "ExecuteTime": {
     "end_time": "2025-04-30T02:09:28.013134Z",
     "start_time": "2025-04-30T02:09:28.008797Z"
    }
   },
   "cell_type": "code",
   "source": [
    "# # Преобразуем координаты обратно в мировую систему\n",
    "# verts = verts / VOXEL_GRID_SIZE * voxel_space[\"scene_size\"] + voxel_space[\"min_bound\"]"
   ],
   "id": "47c2797be4862b70",
   "outputs": [],
   "execution_count": 153
  },
  {
   "metadata": {
    "ExecuteTime": {
     "end_time": "2025-04-30T02:21:24.222200Z",
     "start_time": "2025-04-30T02:21:23.518872Z"
    }
   },
   "cell_type": "code",
   "source": [
    "# Создадим меш на основе вершин и треугольников\n",
    "mesh = o3d.geometry.TriangleMesh()\n",
    "mesh.vertices = o3d.utility.Vector3dVector(verts)\n",
    "mesh.triangles = o3d.utility.Vector3iVector(faces)"
   ],
   "id": "55986642bb4bd2ee",
   "outputs": [],
   "execution_count": 167
  },
  {
   "metadata": {
    "ExecuteTime": {
     "end_time": "2025-04-30T02:21:24.266099Z",
     "start_time": "2025-04-30T02:21:24.225266Z"
    }
   },
   "cell_type": "code",
   "source": [
    "# Пересчитаем нормали\n",
    "mesh.compute_vertex_normals()\n",
    "mesh.compute_triangle_normals()\n",
    "mesh.normalize_normals()"
   ],
   "id": "f486a429fd27cf53",
   "outputs": [
    {
     "data": {
      "text/plain": [
       "TriangleMesh with 275922 points and 551878 triangles."
      ]
     },
     "execution_count": 168,
     "metadata": {},
     "output_type": "execute_result"
    }
   ],
   "execution_count": 168
  },
  {
   "metadata": {
    "ExecuteTime": {
     "end_time": "2025-04-30T02:23:48.810967Z",
     "start_time": "2025-04-30T02:21:24.267114Z"
    }
   },
   "cell_type": "code",
   "source": [
    "# Посмотрим на результат объединения\n",
    "o3d.visualization.draw_geometries([mesh])"
   ],
   "id": "ad222bcf4f1b26",
   "outputs": [],
   "execution_count": 169
  },
  {
   "metadata": {},
   "cell_type": "markdown",
   "source": "",
   "id": "5b38597e234b9dfa"
  },
  {
   "metadata": {},
   "cell_type": "code",
   "outputs": [],
   "execution_count": 47,
   "source": "zero_9_D = np.copy(D)",
   "id": "fd6f943c76257990"
  },
  {
   "metadata": {
    "ExecuteTime": {
     "end_time": "2025-04-30T01:20:40.590050Z",
     "start_time": "2025-04-30T01:20:40.554540Z"
    }
   },
   "cell_type": "code",
   "source": "zero_7_D = np.copy(D)",
   "id": "2648f35d00c7e246",
   "outputs": [],
   "execution_count": 104
  },
  {
   "metadata": {
    "ExecuteTime": {
     "end_time": "2025-04-30T01:38:43.808819Z",
     "start_time": "2025-04-30T01:38:43.773284Z"
    }
   },
   "cell_type": "code",
   "source": "camera_fix_D = np.copy(D)",
   "id": "a0ae7f5b647ef937",
   "outputs": [],
   "execution_count": 122
  },
  {
   "metadata": {
    "ExecuteTime": {
     "end_time": "2025-04-30T01:58:34.714708Z",
     "start_time": "2025-04-30T01:58:34.684873Z"
    }
   },
   "cell_type": "code",
   "source": "weight_zero_D = np.copy(D)",
   "id": "1f177f48b9530608",
   "outputs": [],
   "execution_count": 136
  },
  {
   "metadata": {
    "ExecuteTime": {
     "end_time": "2025-04-30T02:11:03.171552Z",
     "start_time": "2025-04-30T02:11:03.142967Z"
    }
   },
   "cell_type": "code",
   "source": "abs_D = np.copy(D) # Лучший пока что",
   "id": "8d0058bca1df5857",
   "outputs": [],
   "execution_count": 157
  },
  {
   "metadata": {
    "ExecuteTime": {
     "end_time": "2025-04-30T02:23:48.854245Z",
     "start_time": "2025-04-30T02:23:48.812977Z"
    }
   },
   "cell_type": "code",
   "source": "abs_only_D = np.copy(D)",
   "id": "642fc750a8112a4d",
   "outputs": [],
   "execution_count": 170
  },
  {
   "metadata": {},
   "cell_type": "markdown",
   "source": "",
   "id": "8af52b960d14c50b"
  },
  {
   "metadata": {},
   "cell_type": "code",
   "outputs": [],
   "execution_count": null,
   "source": [
    "# Переведём координаты в исходный размер\n",
    "for mesh in meshes:\n",
    "    mesh['vertices'] = mesh.get('vertices') / VOXEL_GRID_SIZE * voxel_space.get('scene_size') + voxel_space[\"min_bound\"]"
   ],
   "id": "7e19f814d6a396e6"
  },
  {
   "metadata": {
    "ExecuteTime": {
     "end_time": "2025-04-29T23:15:10.949798Z",
     "start_time": "2025-04-29T23:15:10.891763Z"
    }
   },
   "cell_type": "code",
   "source": "len(D[(D == 0) & (W > 0)])",
   "id": "7ce27c52bb9e9118",
   "outputs": [
    {
     "data": {
      "text/plain": [
       "0"
      ]
     },
     "execution_count": 63,
     "metadata": {},
     "output_type": "execute_result"
    }
   ],
   "execution_count": 63
  },
  {
   "metadata": {
    "ExecuteTime": {
     "end_time": "2025-04-29T23:15:12.072189Z",
     "start_time": "2025-04-29T23:15:12.014847Z"
    }
   },
   "cell_type": "code",
   "source": "len(D[W == 0])",
   "id": "6e9a420d8528ad45",
   "outputs": [
    {
     "data": {
      "text/plain": [
       "16603396"
      ]
     },
     "execution_count": 64,
     "metadata": {},
     "output_type": "execute_result"
    }
   ],
   "execution_count": 64
  },
  {
   "metadata": {},
   "cell_type": "markdown",
   "source": "",
   "id": "133b43733abe4341"
  },
  {
   "metadata": {},
   "cell_type": "markdown",
   "source": "",
   "id": "a97de4d8f3c5766d"
  },
  {
   "metadata": {},
   "cell_type": "markdown",
   "source": "",
   "id": "a6bf5adcc8ae1570"
  },
  {
   "metadata": {
    "ExecuteTime": {
     "end_time": "2025-04-29T14:48:05.898143Z",
     "start_time": "2025-04-29T14:48:05.861880Z"
    }
   },
   "cell_type": "code",
   "source": "",
   "id": "14153b93951d69d1",
   "outputs": [
    {
     "data": {
      "text/plain": [
       "0"
      ]
     },
     "execution_count": 36,
     "metadata": {},
     "output_type": "execute_result"
    }
   ],
   "execution_count": 36
  },
  {
   "metadata": {},
   "cell_type": "markdown",
   "source": "2. Объединяем меши в одну вокселную структуру",
   "id": "d9f5a91718bb734c"
  },
  {
   "metadata": {},
   "cell_type": "code",
   "source": [
    "# Чтобы получить больше информации о процессе объединения мешей\n",
    "o3d.utility.set_verbosity_level(o3d.utility.VerbosityLevel.Debug)"
   ],
   "id": "e22937d2c3a8645e",
   "outputs": [],
   "execution_count": null
  },
  {
   "metadata": {},
   "cell_type": "code",
   "source": [
    "# Объединяем меши в один PointCloud\n",
    "pcd, voxel_size = merge_meshes(meshes, VOXEL_GRID_SIZE, mcd_coarse_scale=60, mcd_fine_scale=12, down_sample=True)"
   ],
   "id": "c15798844c05fa4b",
   "outputs": [],
   "execution_count": null
  },
  {
   "metadata": {},
   "cell_type": "code",
   "source": [
    "# Посмотрим на результат объединения\n",
    "o3d.visualization.draw_geometries([pcd])"
   ],
   "id": "e42e4240db8f58d1",
   "outputs": [],
   "execution_count": null
  },
  {
   "metadata": {},
   "cell_type": "markdown",
   "source": "3. Метод Марширующих кубиков",
   "id": "1bf426e8c7b2ddb3"
  },
  {
   "metadata": {},
   "cell_type": "code",
   "source": "voxel_grid, origin, scale = pcd_to_voxel_grid(np.asarray(pcd.points), grid_size=VOXEL_GRID_SIZE, apply_filter=False)",
   "id": "3d2b2b93c6598c6f",
   "outputs": [],
   "execution_count": null
  },
  {
   "metadata": {},
   "cell_type": "code",
   "source": [
    "# Построим меш на воксельной структуре\n",
    "vertices, faces, normals, values = marching_cubes(voxel_grid, voxel_size, level=0.0000001)\n",
    "# Переведём координаты в исходный размер\n",
    "vertices = vertices / (VOXEL_GRID_SIZE - 1) * scale + origin"
   ],
   "id": "7b8c57fa6d6abde2",
   "outputs": [],
   "execution_count": null
  },
  {
   "metadata": {},
   "cell_type": "code",
   "source": [
    "# Создадим меш на основе вершин и треугольников\n",
    "mesh = o3d.geometry.TriangleMesh()\n",
    "mesh.vertices = o3d.utility.Vector3dVector(vertices)\n",
    "mesh.triangles = o3d.utility.Vector3iVector(faces)"
   ],
   "id": "59777098f921f2f5",
   "outputs": [],
   "execution_count": null
  },
  {
   "metadata": {},
   "cell_type": "code",
   "source": [
    "# Уберём лишнее если есть\n",
    "mesh.remove_duplicated_vertices()\n",
    "mesh.remove_duplicated_vertices()\n",
    "mesh.remove_unreferenced_vertices()\n",
    "mesh.remove_non_manifold_edges()\n",
    "mesh.remove_degenerate_triangles()\n",
    "mesh.remove_duplicated_triangles()"
   ],
   "id": "bcfc24f19716128a",
   "outputs": [],
   "execution_count": null
  },
  {
   "metadata": {},
   "cell_type": "code",
   "source": [
    "# Пересчитаем нормали\n",
    "mesh.compute_vertex_normals()\n",
    "mesh.compute_triangle_normals()\n",
    "mesh.normalize_normals()"
   ],
   "id": "bb26d362d6e48e1a",
   "outputs": [],
   "execution_count": null
  },
  {
   "metadata": {},
   "cell_type": "code",
   "source": [
    "# Посмотрим на результат объединения\n",
    "o3d.visualization.draw_geometries([mesh])"
   ],
   "id": "172877ad5983ae88",
   "outputs": [],
   "execution_count": null
  },
  {
   "metadata": {},
   "cell_type": "markdown",
   "source": "3.2 Метод Пуассона",
   "id": "42e8191f9b01602b"
  },
  {
   "metadata": {},
   "cell_type": "code",
   "source": [
    "# Построим воксельную структуру из откалиброванных точек всех мешей\n",
    "voxels, origin, _ = build_voxel_grid(meshes, grid_size=VOXEL_GRID_SIZE)"
   ],
   "id": "9f962fa734f25fcc",
   "outputs": [],
   "execution_count": null
  },
  {
   "metadata": {},
   "cell_type": "code",
   "source": [
    "# Запустим метод Пуассона\n",
    "mesh, densities = o3d.geometry.TriangleMesh.create_from_point_cloud_poisson(pcd=pcd, depth=9)"
   ],
   "id": "3881606e1bdddc28",
   "outputs": [],
   "execution_count": null
  },
  {
   "metadata": {},
   "cell_type": "code",
   "source": [
    "# Убрём шум\n",
    "vertices_to_remove = densities < np.quantile(densities, 0.02)\n",
    "mesh.remove_vertices_by_mask(vertices_to_remove)\n",
    "\n",
    "# Пересчитаем нормали\n",
    "mesh.compute_vertex_normals()\n",
    "mesh.compute_triangle_normals()\n",
    "mesh.normalize_normals()"
   ],
   "id": "360c9fc4d39aabe7",
   "outputs": [],
   "execution_count": null
  },
  {
   "metadata": {},
   "cell_type": "code",
   "source": [
    "# Посмотрим на результат\n",
    "o3d.visualization.draw_geometries([mesh])"
   ],
   "id": "be005de9d2b8ac5e",
   "outputs": [],
   "execution_count": null
  },
  {
   "metadata": {},
   "cell_type": "markdown",
   "source": "3.3 Метод Альфа-формы (Alpha shapes)",
   "id": "53153e79a6ee6b85"
  },
  {
   "metadata": {},
   "cell_type": "code",
   "source": [
    "alpha = voxel_size * 0.8\n",
    "mesh = o3d.geometry.TriangleMesh.create_from_point_cloud_alpha_shape(pcd, alpha)\n",
    "mesh.compute_vertex_normals()\n",
    "o3d.visualization.draw_geometries([mesh])"
   ],
   "id": "58bcb5f5fba858ee",
   "outputs": [],
   "execution_count": null
  },
  {
   "metadata": {},
   "cell_type": "markdown",
   "source": "4. Сохранение полученного меша",
   "id": "12051a5f05fa17e2"
  },
  {
   "metadata": {
    "ExecuteTime": {
     "end_time": "2025-04-30T02:24:04.883050Z",
     "start_time": "2025-04-30T02:24:04.876052Z"
    }
   },
   "cell_type": "code",
   "source": "mesh.triangles",
   "id": "bdd8a727d62c0a11",
   "outputs": [
    {
     "data": {
      "text/plain": [
       "std::vector<Eigen::Vector3i> with 551878 elements.\n",
       "Use numpy.asarray() to access data."
      ]
     },
     "execution_count": 171,
     "metadata": {},
     "output_type": "execute_result"
    }
   ],
   "execution_count": 171
  },
  {
   "metadata": {
    "ExecuteTime": {
     "end_time": "2025-04-30T02:24:09.898665Z",
     "start_time": "2025-04-30T02:24:05.967155Z"
    }
   },
   "cell_type": "code",
   "source": "write_mesh_to_x(mesh, 'output_mesh.x', save_normals=False, save_texture=False)",
   "id": "7d0db52aa67e2e35",
   "outputs": [
    {
     "name": "stderr",
     "output_type": "stream",
     "text": [
      "Vertices: 100%|██████████| 276k/276k [00:02<00:00, 130k points/s] \n",
      "Faces: 100%|██████████| 552k/552k [00:01<00:00, 307k triangles/s] \n"
     ]
    }
   ],
   "execution_count": 172
  },
  {
   "metadata": {},
   "cell_type": "code",
   "source": "",
   "id": "ab5c330cce3596b4",
   "outputs": [],
   "execution_count": null
  }
 ],
 "metadata": {
  "kernelspec": {
   "display_name": "Python 3",
   "language": "python",
   "name": "python3"
  },
  "language_info": {
   "codemirror_mode": {
    "name": "ipython",
    "version": 2
   },
   "file_extension": ".py",
   "mimetype": "text/x-python",
   "name": "python",
   "nbconvert_exporter": "python",
   "pygments_lexer": "ipython2",
   "version": "2.7.6"
  }
 },
 "nbformat": 4,
 "nbformat_minor": 5
}
