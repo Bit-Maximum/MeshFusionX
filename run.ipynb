{
 "cells": [
  {
   "metadata": {
    "ExecuteTime": {
     "end_time": "2025-04-29T12:08:11.686417Z",
     "start_time": "2025-04-29T12:08:09.961097Z"
    }
   },
   "cell_type": "code",
   "source": [
    "from utils import *\n",
    "import numpy as np\n",
    "import os\n",
    "import cv2"
   ],
   "id": "fbc121e30a2defb3",
   "outputs": [
    {
     "name": "stdout",
     "output_type": "stream",
     "text": [
      "Jupyter environment detected. Enabling Open3D WebVisualizer.\n",
      "[Open3D INFO] WebRTC GUI backend enabled.\n",
      "[Open3D INFO] WebRTCWindowSystem: HTTP handshake server disabled.\n"
     ]
    }
   ],
   "execution_count": 1
  },
  {
   "metadata": {
    "ExecuteTime": {
     "end_time": "2025-04-29T12:08:12.135722Z",
     "start_time": "2025-04-29T12:08:12.126854Z"
    }
   },
   "cell_type": "code",
   "source": [
    "def project_vertices(vertices, frame_matrix, image_size):\n",
    "    # Берём только 3х3 матрицу вращения и 3х1 вектор смещения\n",
    "    R = frame_matrix[:3, :3]\n",
    "    T = frame_matrix[:3, 3]\n",
    "    f = 1.0\n",
    "    H = np.vstack([R * f, T])\n",
    "\n",
    "    # Ортографическая проекция\n",
    "    projected = vertices @ H[:3, :3].T + H[:3, 2]\n",
    "    projected = projected[:, :2]\n",
    "\n",
    "    # Масштабируем до размера изображения\n",
    "    projected -= projected.min(axis=0)\n",
    "    projected /= projected.max(axis=0)\n",
    "    projected *= np.array(image_size)[::-1]  # W x H\n",
    "    return projected\n",
    "\n",
    "\n",
    "def build_triangle_index_map(mesh, image_size):\n",
    "    vertices = mesh[\"vertices\"]\n",
    "    faces = mesh[\"faces\"]\n",
    "    frame_matrix = mesh[\"frame_matrix\"]\n",
    "    projected_vertices = project_vertices(vertices, frame_matrix, image_size)\n",
    "    index_map = np.full(image_size[::-1], -1, dtype=np.int32)  # (H, W)\n",
    "\n",
    "    for tri_idx, face in enumerate(faces):\n",
    "        pts = projected_vertices[face].astype(np.int32)\n",
    "        cv2.fillPoly(index_map, [pts], color=tri_idx)\n",
    "\n",
    "    return index_map"
   ],
   "id": "2a1a902d92130649",
   "outputs": [],
   "execution_count": 2
  },
  {
   "metadata": {},
   "cell_type": "markdown",
   "source": "1. Считываем данные и приводим к единой системе координат",
   "id": "22b30d31d3e68a5b"
  },
  {
   "metadata": {
    "ExecuteTime": {
     "end_time": "2025-04-29T12:08:14.049239Z",
     "start_time": "2025-04-29T12:08:14.044077Z"
    }
   },
   "cell_type": "code",
   "source": [
    "# Размер воксельного пространства\n",
    "VOXEL_GRID_SIZE = 256\n",
    "# Размер проекции\n",
    "image_size = (VOXEL_GRID_SIZE * 2, VOXEL_GRID_SIZE * 2)"
   ],
   "id": "b7740878802d5690",
   "outputs": [],
   "execution_count": 3
  },
  {
   "metadata": {
    "ExecuteTime": {
     "end_time": "2025-04-29T12:08:16.420021Z",
     "start_time": "2025-04-29T12:08:16.414788Z"
    }
   },
   "cell_type": "code",
   "source": [
    "# Получим пути к исходным файлам\n",
    "files = [f for f in os.listdir(\"data\") if f.endswith('.x')]"
   ],
   "id": "a266c4f8f2efef5a",
   "outputs": [],
   "execution_count": 4
  },
  {
   "metadata": {
    "ExecuteTime": {
     "end_time": "2025-04-29T12:08:28.142309Z",
     "start_time": "2025-04-29T12:08:19.130137Z"
    }
   },
   "cell_type": "code",
   "source": [
    "meshes = []\n",
    "for f in files:\n",
    "    print(f)\n",
    "    filepath = os.path.abspath(f'data\\\\{f}')\n",
    "    data = parse_x_file(filepath)\n",
    "\n",
    "    # Переведём координаты точек из локальной системы координат в систему координат камеры\n",
    "    data['vertices'] = apply_transformation(data.get('vertices'), data.get('frame_matrix'))\n",
    "    \n",
    "    # Предварительная индексация треугольников\n",
    "    data[\"index_map\"] = build_triangle_index_map(data, image_size)\n",
    "    meshes.append(data)"
   ],
   "id": "89384dcaac4d0b77",
   "outputs": [
    {
     "name": "stdout",
     "output_type": "stream",
     "text": [
      "teapot_1.x\n",
      "num_vertices: 200310\n",
      "num_faces: 379304\n",
      "num_uvs: 200310\n",
      "teapot_2.x\n",
      "num_vertices: 190307\n",
      "num_faces: 358169\n",
      "num_uvs: 190307\n"
     ]
    }
   ],
   "execution_count": 5
  },
  {
   "metadata": {},
   "cell_type": "markdown",
   "source": "2. Инициализируем воксельное пространство",
   "id": "87b87c0074e9c386"
  },
  {
   "metadata": {
    "ExecuteTime": {
     "end_time": "2025-04-29T13:48:32.922554Z",
     "start_time": "2025-04-29T13:48:32.908662Z"
    }
   },
   "cell_type": "code",
   "source": [
    "# Сбор всех вершин в единую структуру\n",
    "all_vertices = np.vstack([mesh[\"vertices\"] for mesh in meshes])"
   ],
   "id": "b64140581e4aaa6e",
   "outputs": [],
   "execution_count": 15
  },
  {
   "metadata": {},
   "cell_type": "code",
   "outputs": [],
   "execution_count": 16,
   "source": [
    "# Границы сцены\n",
    "min_bound = np.min(all_vertices, axis=0)\n",
    "max_bound = np.max(all_vertices, axis=0)\n",
    "scene_size = max_bound - min_bound"
   ],
   "id": "c73e6952903dec2"
  },
  {
   "metadata": {},
   "cell_type": "code",
   "outputs": [],
   "execution_count": 17,
   "source": [
    "# Размер одного вокселя\n",
    "voxel_size = scene_size / VOXEL_GRID_SIZE"
   ],
   "id": "6a6e417eff059cdd"
  },
  {
   "metadata": {},
   "cell_type": "code",
   "outputs": [],
   "execution_count": 18,
   "source": [
    "# Инициализация скалярного поля и весов\n",
    "D = np.zeros((VOXEL_GRID_SIZE, VOXEL_GRID_SIZE, VOXEL_GRID_SIZE), dtype=np.float32)\n",
    "W = np.zeros_like(D)"
   ],
   "id": "4aeacc84c659f2ba"
  },
  {
   "metadata": {},
   "cell_type": "code",
   "outputs": [],
   "execution_count": 19,
   "source": [
    "# Сохраняем параметры для дальнейших преобразований\n",
    "voxel_space = {\n",
    "    \"min_bound\": min_bound,\n",
    "    \"max_bound\": max_bound,\n",
    "    \"voxel_size\": voxel_size,\n",
    "    \"D\": D,\n",
    "    \"W\": W,\n",
    "    \"grid_size\": VOXEL_GRID_SIZE\n",
    "}"
   ],
   "id": "e50bf7cb1efc231a"
  },
  {
   "metadata": {
    "ExecuteTime": {
     "end_time": "2025-04-29T14:56:40.859284Z",
     "start_time": "2025-04-29T14:56:40.850173Z"
    }
   },
   "cell_type": "code",
   "source": "voxel_space.get('voxel_size')",
   "id": "ad3f5de7bec8bf36",
   "outputs": [
    {
     "data": {
      "text/plain": [
       "array([0.81945304, 0.48625126, 0.40774163])"
      ]
     },
     "execution_count": 44,
     "metadata": {},
     "output_type": "execute_result"
    }
   ],
   "execution_count": 44
  },
  {
   "metadata": {},
   "cell_type": "markdown",
   "source": "3. Объединяем меши воксельным методом",
   "id": "e3e109cf8502c2bf"
  },
  {
   "metadata": {
    "ExecuteTime": {
     "end_time": "2025-04-29T13:48:37.757289Z",
     "start_time": "2025-04-29T13:48:37.742820Z"
    }
   },
   "cell_type": "code",
   "source": [
    "def compute_triangle_normal(p0, p1, p2):\n",
    "    return np.cross(p1 - p0, p2 - p0)\n",
    "\n",
    "\n",
    "def point_to_triangle_distance(p, a, b, c):\n",
    "    # Проекция на плоскость + знак от нормали\n",
    "    normal = compute_triangle_normal(a, b, c)\n",
    "    normal /= np.linalg.norm(normal) + 1e-8\n",
    "    distance = np.dot(p - a, normal)\n",
    "    return distance\n",
    "\n",
    "\n",
    "def compute_weight(p, camera_center, normal):\n",
    "    direction = camera_center - p\n",
    "    direction /= np.linalg.norm(direction) + 1e-8\n",
    "    weight = max(0.0, np.dot(direction, normal))\n",
    "    return weight\n",
    "\n",
    "\n",
    "def integrate_mesh_to_voxel_grid(mesh, voxel_space):\n",
    "    vertices = mesh[\"vertices\"]\n",
    "    faces = mesh[\"faces\"]\n",
    "    frame_matrix = mesh[\"frame_matrix\"]\n",
    "    camera_center = frame_matrix[:3, 3]\n",
    "\n",
    "    D = voxel_space[\"D\"]\n",
    "    W = voxel_space[\"W\"]\n",
    "    min_bound = voxel_space[\"min_bound\"]\n",
    "    voxel_size = voxel_space[\"voxel_size\"]\n",
    "    grid_size = voxel_space[\"grid_size\"]\n",
    "\n",
    "    # Попробуем нормализовать координаты вершан и треугольников под размер воксельной сетки\n",
    "    # До этого большая часть пространства оставалась пустной...\n",
    "    # Нормализация координат в диапазон [0, GRID_SIZE]\n",
    "    vertices = (vertices - voxel_space[\"min_bound\"]) / voxel_size\n",
    "\n",
    "    for face in tqdm(faces, desc=\"Faces\", unit=\" triangles\", unit_scale=1):\n",
    "        a, b, c = vertices[face[0]], vertices[face[1]], vertices[face[2]]\n",
    "        normal = compute_triangle_normal(a, b, c)\n",
    "        normal /= np.linalg.norm(normal) + 1e-8\n",
    "\n",
    "        # В каких вокселях лежит треугольник\n",
    "        tri_min = np.minimum(np.minimum(a, b), c)\n",
    "        tri_max = np.maximum(np.maximum(a, b), c)\n",
    "        min_idx = np.floor((tri_min - min_bound) / voxel_size).astype(int)\n",
    "        max_idx = np.ceil((tri_max - min_bound) / voxel_size).astype(int)\n",
    "        min_idx = np.clip(min_idx, 0, grid_size - 1)\n",
    "        max_idx = np.clip(max_idx, 0, grid_size - 1)\n",
    "\n",
    "        for i in range(min_idx[0], max_idx[0] + 1):\n",
    "            for j in range(min_idx[1], max_idx[1] + 1):\n",
    "                for k in range(min_idx[2], max_idx[2] + 1):\n",
    "                    voxel_center = min_bound + voxel_size * (np.array([i, j, k]) + 0.5)\n",
    "                    distance = point_to_triangle_distance(voxel_center, a, b, c)\n",
    "                    weight = compute_weight(voxel_center, camera_center, normal)\n",
    "\n",
    "                    if weight < 1e-5:\n",
    "                        continue  # скипаем неинтересные места\n",
    "\n",
    "                    D[i, j, k] = (W[i, j, k] * D[i, j, k] + weight * distance) / (W[i, j, k] + weight)\n",
    "                    W[i, j, k] += weight\n"
   ],
   "id": "b5d11a8eea08f170",
   "outputs": [],
   "execution_count": 20
  },
  {
   "metadata": {
    "ExecuteTime": {
     "end_time": "2025-04-29T14:32:13.855604Z",
     "start_time": "2025-04-29T14:32:13.847569Z"
    }
   },
   "cell_type": "code",
   "source": "voxel_space[\"D\"]",
   "id": "1452f8a1d0cce5ad",
   "outputs": [
    {
     "data": {
      "text/plain": [
       "array([[[0., 0., 0., ..., 0., 0., 0.],\n",
       "        [0., 0., 0., ..., 0., 0., 0.],\n",
       "        [0., 0., 0., ..., 0., 0., 0.],\n",
       "        ...,\n",
       "        [0., 0., 0., ..., 0., 0., 0.],\n",
       "        [0., 0., 0., ..., 0., 0., 0.],\n",
       "        [0., 0., 0., ..., 0., 0., 0.]],\n",
       "\n",
       "       [[0., 0., 0., ..., 0., 0., 0.],\n",
       "        [0., 0., 0., ..., 0., 0., 0.],\n",
       "        [0., 0., 0., ..., 0., 0., 0.],\n",
       "        ...,\n",
       "        [0., 0., 0., ..., 0., 0., 0.],\n",
       "        [0., 0., 0., ..., 0., 0., 0.],\n",
       "        [0., 0., 0., ..., 0., 0., 0.]],\n",
       "\n",
       "       [[0., 0., 0., ..., 0., 0., 0.],\n",
       "        [0., 0., 0., ..., 0., 0., 0.],\n",
       "        [0., 0., 0., ..., 0., 0., 0.],\n",
       "        ...,\n",
       "        [0., 0., 0., ..., 0., 0., 0.],\n",
       "        [0., 0., 0., ..., 0., 0., 0.],\n",
       "        [0., 0., 0., ..., 0., 0., 0.]],\n",
       "\n",
       "       ...,\n",
       "\n",
       "       [[0., 0., 0., ..., 0., 0., 0.],\n",
       "        [0., 0., 0., ..., 0., 0., 0.],\n",
       "        [0., 0., 0., ..., 0., 0., 0.],\n",
       "        ...,\n",
       "        [0., 0., 0., ..., 0., 0., 0.],\n",
       "        [0., 0., 0., ..., 0., 0., 0.],\n",
       "        [0., 0., 0., ..., 0., 0., 0.]],\n",
       "\n",
       "       [[0., 0., 0., ..., 0., 0., 0.],\n",
       "        [0., 0., 0., ..., 0., 0., 0.],\n",
       "        [0., 0., 0., ..., 0., 0., 0.],\n",
       "        ...,\n",
       "        [0., 0., 0., ..., 0., 0., 0.],\n",
       "        [0., 0., 0., ..., 0., 0., 0.],\n",
       "        [0., 0., 0., ..., 0., 0., 0.]],\n",
       "\n",
       "       [[0., 0., 0., ..., 0., 0., 0.],\n",
       "        [0., 0., 0., ..., 0., 0., 0.],\n",
       "        [0., 0., 0., ..., 0., 0., 0.],\n",
       "        ...,\n",
       "        [0., 0., 0., ..., 0., 0., 0.],\n",
       "        [0., 0., 0., ..., 0., 0., 0.],\n",
       "        [0., 0., 0., ..., 0., 0., 0.]]],\n",
       "      shape=(256, 256, 256), dtype=float32)"
      ]
     },
     "execution_count": 30,
     "metadata": {},
     "output_type": "execute_result"
    }
   ],
   "execution_count": 30
  },
  {
   "metadata": {
    "ExecuteTime": {
     "end_time": "2025-04-29T14:32:24.673009Z",
     "start_time": "2025-04-29T14:32:24.662434Z"
    }
   },
   "cell_type": "code",
   "source": "voxel_space[\"W\"]",
   "id": "549627c28efcdd42",
   "outputs": [
    {
     "data": {
      "text/plain": [
       "array([[[0., 0., 0., ..., 0., 0., 0.],\n",
       "        [0., 0., 0., ..., 0., 0., 0.],\n",
       "        [0., 0., 0., ..., 0., 0., 0.],\n",
       "        ...,\n",
       "        [0., 0., 0., ..., 0., 0., 0.],\n",
       "        [0., 0., 0., ..., 0., 0., 0.],\n",
       "        [0., 0., 0., ..., 0., 0., 0.]],\n",
       "\n",
       "       [[0., 0., 0., ..., 0., 0., 0.],\n",
       "        [0., 0., 0., ..., 0., 0., 0.],\n",
       "        [0., 0., 0., ..., 0., 0., 0.],\n",
       "        ...,\n",
       "        [0., 0., 0., ..., 0., 0., 0.],\n",
       "        [0., 0., 0., ..., 0., 0., 0.],\n",
       "        [0., 0., 0., ..., 0., 0., 0.]],\n",
       "\n",
       "       [[0., 0., 0., ..., 0., 0., 0.],\n",
       "        [0., 0., 0., ..., 0., 0., 0.],\n",
       "        [0., 0., 0., ..., 0., 0., 0.],\n",
       "        ...,\n",
       "        [0., 0., 0., ..., 0., 0., 0.],\n",
       "        [0., 0., 0., ..., 0., 0., 0.],\n",
       "        [0., 0., 0., ..., 0., 0., 0.]],\n",
       "\n",
       "       ...,\n",
       "\n",
       "       [[0., 0., 0., ..., 0., 0., 0.],\n",
       "        [0., 0., 0., ..., 0., 0., 0.],\n",
       "        [0., 0., 0., ..., 0., 0., 0.],\n",
       "        ...,\n",
       "        [0., 0., 0., ..., 0., 0., 0.],\n",
       "        [0., 0., 0., ..., 0., 0., 0.],\n",
       "        [0., 0., 0., ..., 0., 0., 0.]],\n",
       "\n",
       "       [[0., 0., 0., ..., 0., 0., 0.],\n",
       "        [0., 0., 0., ..., 0., 0., 0.],\n",
       "        [0., 0., 0., ..., 0., 0., 0.],\n",
       "        ...,\n",
       "        [0., 0., 0., ..., 0., 0., 0.],\n",
       "        [0., 0., 0., ..., 0., 0., 0.],\n",
       "        [0., 0., 0., ..., 0., 0., 0.]],\n",
       "\n",
       "       [[0., 0., 0., ..., 0., 0., 0.],\n",
       "        [0., 0., 0., ..., 0., 0., 0.],\n",
       "        [0., 0., 0., ..., 0., 0., 0.],\n",
       "        ...,\n",
       "        [0., 0., 0., ..., 0., 0., 0.],\n",
       "        [0., 0., 0., ..., 0., 0., 0.],\n",
       "        [0., 0., 0., ..., 0., 0., 0.]]],\n",
       "      shape=(256, 256, 256), dtype=float32)"
      ]
     },
     "execution_count": 31,
     "metadata": {},
     "output_type": "execute_result"
    }
   ],
   "execution_count": 31
  },
  {
   "metadata": {
    "ExecuteTime": {
     "end_time": "2025-04-29T14:06:52.664167Z",
     "start_time": "2025-04-29T13:48:42.903879Z"
    }
   },
   "cell_type": "code",
   "source": [
    "for mesh in meshes:\n",
    "    integrate_mesh_to_voxel_grid(mesh, voxel_space)"
   ],
   "id": "d4c7e3f53a262f4f",
   "outputs": [
    {
     "name": "stderr",
     "output_type": "stream",
     "text": [
      "Faces: 100%|██████████| 379k/379k [09:09<00:00, 690 triangles/s]   \n",
      "Faces: 100%|██████████| 358k/358k [08:59<00:00, 664 triangles/s] \n"
     ]
    }
   ],
   "execution_count": 23
  },
  {
   "metadata": {},
   "cell_type": "code",
   "outputs": [],
   "execution_count": null,
   "source": "len(D[(D == 0) & (W > 0)])",
   "id": "7ce27c52bb9e9118"
  },
  {
   "metadata": {},
   "cell_type": "code",
   "outputs": [],
   "execution_count": null,
   "source": "len(D[W == 0])",
   "id": "6e9a420d8528ad45"
  },
  {
   "metadata": {},
   "cell_type": "markdown",
   "source": "",
   "id": "133b43733abe4341"
  },
  {
   "metadata": {},
   "cell_type": "markdown",
   "source": "",
   "id": "a97de4d8f3c5766d"
  },
  {
   "metadata": {},
   "cell_type": "markdown",
   "source": "",
   "id": "a6bf5adcc8ae1570"
  },
  {
   "metadata": {
    "ExecuteTime": {
     "end_time": "2025-04-29T14:48:05.898143Z",
     "start_time": "2025-04-29T14:48:05.861880Z"
    }
   },
   "cell_type": "code",
   "source": [
    "# Если дистанция и вес равны 0 — это значит, что воксель не был затронут.\n",
    "D[W == 0] = np.inf"
   ],
   "id": "14153b93951d69d1",
   "outputs": [
    {
     "data": {
      "text/plain": [
       "0"
      ]
     },
     "execution_count": 36,
     "metadata": {},
     "output_type": "execute_result"
    }
   ],
   "execution_count": 36
  },
  {
   "metadata": {},
   "cell_type": "markdown",
   "source": "2. Объединяем меши в одну вокселную структуру",
   "id": "d9f5a91718bb734c"
  },
  {
   "metadata": {},
   "cell_type": "code",
   "source": [
    "# Чтобы получить больше информации о процессе объединения мешей\n",
    "o3d.utility.set_verbosity_level(o3d.utility.VerbosityLevel.Debug)"
   ],
   "id": "e22937d2c3a8645e",
   "outputs": [],
   "execution_count": null
  },
  {
   "metadata": {},
   "cell_type": "code",
   "source": [
    "# Объединяем меши в один PointCloud\n",
    "pcd, voxel_size = merge_meshes(meshes, VOXEL_GRID_SIZE, mcd_coarse_scale=60, mcd_fine_scale=12, down_sample=True)"
   ],
   "id": "c15798844c05fa4b",
   "outputs": [],
   "execution_count": null
  },
  {
   "metadata": {},
   "cell_type": "code",
   "source": [
    "# Посмотрим на результат объединения\n",
    "o3d.visualization.draw_geometries([pcd])"
   ],
   "id": "e42e4240db8f58d1",
   "outputs": [],
   "execution_count": null
  },
  {
   "metadata": {},
   "cell_type": "markdown",
   "source": "3. Метод Марширующих кубиков",
   "id": "1bf426e8c7b2ddb3"
  },
  {
   "metadata": {},
   "cell_type": "code",
   "source": "voxel_grid, origin, scale = pcd_to_voxel_grid(np.asarray(pcd.points), grid_size=VOXEL_GRID_SIZE, apply_filter=False)",
   "id": "3d2b2b93c6598c6f",
   "outputs": [],
   "execution_count": null
  },
  {
   "metadata": {},
   "cell_type": "code",
   "source": [
    "# Построим меш на воксельной структуре\n",
    "vertices, faces, normals, values = marching_cubes(voxel_grid, voxel_size, level=0.0000001)\n",
    "# Переведём координаты в исходный размер\n",
    "vertices = vertices / (VOXEL_GRID_SIZE - 1) * scale + origin"
   ],
   "id": "7b8c57fa6d6abde2",
   "outputs": [],
   "execution_count": null
  },
  {
   "metadata": {},
   "cell_type": "code",
   "source": [
    "# Создадим меш на основе вершин и треугольников\n",
    "mesh = o3d.geometry.TriangleMesh()\n",
    "mesh.vertices = o3d.utility.Vector3dVector(vertices)\n",
    "mesh.triangles = o3d.utility.Vector3iVector(faces)"
   ],
   "id": "59777098f921f2f5",
   "outputs": [],
   "execution_count": null
  },
  {
   "metadata": {},
   "cell_type": "code",
   "source": [
    "# Уберём лишнее если есть\n",
    "mesh.remove_duplicated_vertices()\n",
    "mesh.remove_duplicated_vertices()\n",
    "mesh.remove_unreferenced_vertices()\n",
    "mesh.remove_non_manifold_edges()\n",
    "mesh.remove_degenerate_triangles()\n",
    "mesh.remove_duplicated_triangles()"
   ],
   "id": "bcfc24f19716128a",
   "outputs": [],
   "execution_count": null
  },
  {
   "metadata": {},
   "cell_type": "code",
   "source": [
    "# Пересчитаем нормали\n",
    "mesh.compute_vertex_normals()\n",
    "mesh.compute_triangle_normals()\n",
    "mesh.normalize_normals()"
   ],
   "id": "bb26d362d6e48e1a",
   "outputs": [],
   "execution_count": null
  },
  {
   "metadata": {},
   "cell_type": "code",
   "source": [
    "# Посмотрим на результат объединения\n",
    "o3d.visualization.draw_geometries([mesh])"
   ],
   "id": "172877ad5983ae88",
   "outputs": [],
   "execution_count": null
  },
  {
   "metadata": {},
   "cell_type": "markdown",
   "source": "3.2 Метод Пуассона",
   "id": "42e8191f9b01602b"
  },
  {
   "metadata": {},
   "cell_type": "code",
   "source": [
    "# Построим воксельную структуру из откалиброванных точек всех мешей\n",
    "voxels, origin, _ = build_voxel_grid(meshes, grid_size=VOXEL_GRID_SIZE)"
   ],
   "id": "9f962fa734f25fcc",
   "outputs": [],
   "execution_count": null
  },
  {
   "metadata": {},
   "cell_type": "code",
   "source": [
    "# Запустим метод Пуассона\n",
    "mesh, densities = o3d.geometry.TriangleMesh.create_from_point_cloud_poisson(pcd=pcd, depth=9)"
   ],
   "id": "3881606e1bdddc28",
   "outputs": [],
   "execution_count": null
  },
  {
   "metadata": {},
   "cell_type": "code",
   "source": [
    "# Убрём шум\n",
    "vertices_to_remove = densities < np.quantile(densities, 0.02)\n",
    "mesh.remove_vertices_by_mask(vertices_to_remove)\n",
    "\n",
    "# Пересчитаем нормали\n",
    "mesh.compute_vertex_normals()\n",
    "mesh.compute_triangle_normals()\n",
    "mesh.normalize_normals()"
   ],
   "id": "360c9fc4d39aabe7",
   "outputs": [],
   "execution_count": null
  },
  {
   "metadata": {},
   "cell_type": "code",
   "source": [
    "# Посмотрим на результат\n",
    "o3d.visualization.draw_geometries([mesh])"
   ],
   "id": "be005de9d2b8ac5e",
   "outputs": [],
   "execution_count": null
  },
  {
   "metadata": {},
   "cell_type": "markdown",
   "source": "3.3 Метод Альфа-формы (Alpha shapes)",
   "id": "53153e79a6ee6b85"
  },
  {
   "metadata": {},
   "cell_type": "code",
   "source": [
    "alpha = voxel_size * 0.8\n",
    "mesh = o3d.geometry.TriangleMesh.create_from_point_cloud_alpha_shape(pcd, alpha)\n",
    "mesh.compute_vertex_normals()\n",
    "o3d.visualization.draw_geometries([mesh])"
   ],
   "id": "58bcb5f5fba858ee",
   "outputs": [],
   "execution_count": null
  },
  {
   "metadata": {},
   "cell_type": "markdown",
   "source": "4. Сохранение полученного меша",
   "id": "12051a5f05fa17e2"
  },
  {
   "metadata": {},
   "cell_type": "code",
   "source": "mesh.triangles",
   "id": "bdd8a727d62c0a11",
   "outputs": [],
   "execution_count": null
  },
  {
   "metadata": {},
   "cell_type": "code",
   "source": "write_mesh_to_x(mesh, 'output_mesh.x', save_normals=False, save_texture=False)",
   "id": "7d0db52aa67e2e35",
   "outputs": [],
   "execution_count": null
  },
  {
   "metadata": {},
   "cell_type": "code",
   "source": "",
   "id": "ab5c330cce3596b4",
   "outputs": [],
   "execution_count": null
  }
 ],
 "metadata": {
  "kernelspec": {
   "display_name": "Python 3",
   "language": "python",
   "name": "python3"
  },
  "language_info": {
   "codemirror_mode": {
    "name": "ipython",
    "version": 2
   },
   "file_extension": ".py",
   "mimetype": "text/x-python",
   "name": "python",
   "nbconvert_exporter": "python",
   "pygments_lexer": "ipython2",
   "version": "2.7.6"
  }
 },
 "nbformat": 4,
 "nbformat_minor": 5
}
