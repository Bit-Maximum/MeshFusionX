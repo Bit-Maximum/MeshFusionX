{
 "cells": [
  {
   "metadata": {
    "ExecuteTime": {
     "end_time": "2025-04-17T14:20:43.229294Z",
     "start_time": "2025-04-17T14:20:41.601570Z"
    }
   },
   "cell_type": "code",
   "source": [
    "from utils import *\n",
    "import os"
   ],
   "id": "fbc121e30a2defb3",
   "outputs": [
    {
     "name": "stdout",
     "output_type": "stream",
     "text": [
      "Jupyter environment detected. Enabling Open3D WebVisualizer.\n",
      "[Open3D INFO] WebRTC GUI backend enabled.\n",
      "[Open3D INFO] WebRTCWindowSystem: HTTP handshake server disabled.\n"
     ]
    }
   ],
   "execution_count": 1
  },
  {
   "metadata": {},
   "cell_type": "markdown",
   "source": "1. Считываем данные",
   "id": "22b30d31d3e68a5b"
  },
  {
   "metadata": {
    "ExecuteTime": {
     "end_time": "2025-04-17T14:20:45.616433Z",
     "start_time": "2025-04-17T14:20:45.611823Z"
    }
   },
   "cell_type": "code",
   "source": "VOXEL_GRID_SIZE = 512",
   "id": "b7740878802d5690",
   "outputs": [],
   "execution_count": 2
  },
  {
   "metadata": {
    "ExecuteTime": {
     "end_time": "2025-04-17T14:20:45.856805Z",
     "start_time": "2025-04-17T14:20:45.851417Z"
    }
   },
   "cell_type": "code",
   "source": "files = [f for f in os.listdir(\"data\") if f.endswith('.x')]",
   "id": "a266c4f8f2efef5a",
   "outputs": [],
   "execution_count": 3
  },
  {
   "metadata": {
    "ExecuteTime": {
     "end_time": "2025-04-17T14:20:55.708540Z",
     "start_time": "2025-04-17T14:20:46.069724Z"
    }
   },
   "cell_type": "code",
   "source": [
    "meshes = []\n",
    "for f in files:\n",
    "    print(f)\n",
    "    filepath = os.path.abspath(f'data\\\\{f}')\n",
    "    raw_data = parse_x_file(filepath)\n",
    "\n",
    "    # Переведём координаты точек из локальной системы координат в систему координат камеры\n",
    "    # world_transform = apply_transformation(raw_data.get('vertices'), raw_data.get('frame_matrix')) # Даёт худшие результаты\n",
    "    world_transform = raw_data.get('vertices')\n",
    "    transformed = apply_transformation(world_transform, raw_data.get('rv_matrix'))\n",
    "    meshes.append(transformed)"
   ],
   "id": "89384dcaac4d0b77",
   "outputs": [
    {
     "name": "stdout",
     "output_type": "stream",
     "text": [
      "teapot_1.x\n",
      "num_vertices: 200310\n",
      "num_faces: 379304\n",
      "num_uvs: 200310\n",
      "teapot_2.x\n",
      "num_vertices: 190307\n",
      "num_faces: 358169\n",
      "num_uvs: 190307\n"
     ]
    }
   ],
   "execution_count": 4
  },
  {
   "metadata": {},
   "cell_type": "markdown",
   "source": "2. Объединяем меши в одну вокселную структуру",
   "id": "d9f5a91718bb734c"
  },
  {
   "metadata": {
    "ExecuteTime": {
     "end_time": "2025-04-17T14:20:55.720326Z",
     "start_time": "2025-04-17T14:20:55.712786Z"
    }
   },
   "cell_type": "code",
   "source": [
    "# Чтобы получить больше информации о процессе объединения мешей\n",
    "o3d.utility.set_verbosity_level(o3d.utility.VerbosityLevel.Debug)"
   ],
   "id": "e22937d2c3a8645e",
   "outputs": [],
   "execution_count": 5
  },
  {
   "metadata": {
    "ExecuteTime": {
     "end_time": "2025-04-17T14:21:21.979074Z",
     "start_time": "2025-04-17T14:20:55.722849Z"
    }
   },
   "cell_type": "code",
   "source": [
    "# Объединяем меши в один PointCloud\n",
    "pcd, voxel_size = merge_meshes(meshes, VOXEL_GRID_SIZE, mcd_coarse_scale=60, mcd_fine_scale=12, down_sample=True)"
   ],
   "id": "c15798844c05fa4b",
   "outputs": [
    {
     "name": "stdout",
     "output_type": "stream",
     "text": [
      "[Open3D DEBUG] [Visualizer] Creating window.\n",
      "[Open3D DEBUG] GLFW init.\n",
      "[Open3D DEBUG] Add geometry and update bounding box to [(-0.9998, -83.8568, -51.5618) - (123.1499, 119.4377, 49.6524)]\n",
      "[Open3D DEBUG] Add geometry and update bounding box to [(-0.9998, -83.8568, -83.0561) - (123.8560, 119.4377, 60.6963)]\n",
      "[Open3D DEBUG] Global colormap init.\n",
      "[Open3D DEBUG] [Visualizer] Destroying window.\n",
      "[Open3D DEBUG] GLFW destruct.\n",
      "[Open3D DEBUG] ICP Iteration #0: Fitness 0.9198, RMSE 7.7567\n",
      "[Open3D DEBUG] ICP Iteration #1: Fitness 0.9249, RMSE 7.1981\n",
      "[Open3D DEBUG] ICP Iteration #2: Fitness 0.9299, RMSE 6.9502\n",
      "[Open3D DEBUG] ICP Iteration #3: Fitness 0.9323, RMSE 6.7491\n",
      "[Open3D DEBUG] ICP Iteration #4: Fitness 0.9337, RMSE 6.6078\n",
      "[Open3D DEBUG] ICP Iteration #5: Fitness 0.9348, RMSE 6.5126\n",
      "[Open3D DEBUG] ICP Iteration #6: Fitness 0.9359, RMSE 6.4619\n",
      "[Open3D DEBUG] ICP Iteration #7: Fitness 0.9367, RMSE 6.4281\n",
      "[Open3D DEBUG] ICP Iteration #8: Fitness 0.9374, RMSE 6.4043\n",
      "[Open3D DEBUG] ICP Iteration #9: Fitness 0.9379, RMSE 6.3891\n",
      "[Open3D DEBUG] ICP Iteration #10: Fitness 0.9383, RMSE 6.3768\n",
      "[Open3D DEBUG] ICP Iteration #11: Fitness 0.9386, RMSE 6.3701\n",
      "[Open3D DEBUG] ICP Iteration #12: Fitness 0.9389, RMSE 6.3663\n",
      "[Open3D DEBUG] ICP Iteration #13: Fitness 0.9392, RMSE 6.3665\n",
      "[Open3D DEBUG] ICP Iteration #14: Fitness 0.9394, RMSE 6.3622\n",
      "[Open3D DEBUG] ICP Iteration #15: Fitness 0.9397, RMSE 6.3659\n",
      "[Open3D DEBUG] ICP Iteration #16: Fitness 0.9400, RMSE 6.3692\n",
      "[Open3D DEBUG] ICP Iteration #17: Fitness 0.9403, RMSE 6.3735\n",
      "[Open3D DEBUG] ICP Iteration #18: Fitness 0.9407, RMSE 6.3790\n",
      "[Open3D DEBUG] ICP Iteration #19: Fitness 0.9410, RMSE 6.3855\n",
      "[Open3D DEBUG] ICP Iteration #20: Fitness 0.9414, RMSE 6.3960\n",
      "[Open3D DEBUG] ICP Iteration #21: Fitness 0.9418, RMSE 6.4042\n",
      "[Open3D DEBUG] ICP Iteration #22: Fitness 0.9422, RMSE 6.4145\n",
      "[Open3D DEBUG] ICP Iteration #23: Fitness 0.9427, RMSE 6.4246\n",
      "[Open3D DEBUG] ICP Iteration #24: Fitness 0.9432, RMSE 6.4372\n",
      "[Open3D DEBUG] ICP Iteration #25: Fitness 0.9437, RMSE 6.4505\n",
      "[Open3D DEBUG] ICP Iteration #26: Fitness 0.9443, RMSE 6.4653\n",
      "[Open3D DEBUG] ICP Iteration #27: Fitness 0.9448, RMSE 6.4786\n",
      "[Open3D DEBUG] ICP Iteration #28: Fitness 0.9455, RMSE 6.4960\n",
      "[Open3D DEBUG] ICP Iteration #29: Fitness 0.9462, RMSE 6.5102\n",
      "[Open3D DEBUG] ICP Iteration #0: Fitness 0.6210, RMSE 2.5714\n",
      "[Open3D DEBUG] Residual : 5.66e+00 (# of elements : 124400)\n",
      "[Open3D DEBUG] ICP Iteration #1: Fitness 0.6264, RMSE 2.3780\n",
      "[Open3D DEBUG] Residual : 4.88e+00 (# of elements : 125476)\n",
      "[Open3D DEBUG] ICP Iteration #2: Fitness 0.6294, RMSE 2.3133\n",
      "[Open3D DEBUG] Residual : 4.62e+00 (# of elements : 126073)\n",
      "[Open3D DEBUG] ICP Iteration #3: Fitness 0.6304, RMSE 2.2798\n",
      "[Open3D DEBUG] Residual : 4.45e+00 (# of elements : 126285)\n",
      "[Open3D DEBUG] ICP Iteration #4: Fitness 0.6319, RMSE 2.2593\n",
      "[Open3D DEBUG] Residual : 4.35e+00 (# of elements : 126570)\n",
      "[Open3D DEBUG] ICP Iteration #5: Fitness 0.6344, RMSE 2.2474\n",
      "[Open3D DEBUG] Residual : 4.29e+00 (# of elements : 127082)\n",
      "[Open3D DEBUG] ICP Iteration #6: Fitness 0.6372, RMSE 2.2323\n",
      "[Open3D DEBUG] Residual : 4.22e+00 (# of elements : 127630)\n",
      "[Open3D DEBUG] ICP Iteration #7: Fitness 0.6415, RMSE 2.2187\n",
      "[Open3D DEBUG] Residual : 4.17e+00 (# of elements : 128507)\n",
      "[Open3D DEBUG] ICP Iteration #8: Fitness 0.6463, RMSE 2.1995\n",
      "[Open3D DEBUG] Residual : 4.11e+00 (# of elements : 129455)\n",
      "[Open3D DEBUG] ICP Iteration #9: Fitness 0.6526, RMSE 2.1815\n",
      "[Open3D DEBUG] Residual : 4.04e+00 (# of elements : 130717)\n",
      "[Open3D DEBUG] ICP Iteration #10: Fitness 0.6596, RMSE 2.1642\n",
      "[Open3D DEBUG] Residual : 3.99e+00 (# of elements : 132116)\n",
      "[Open3D DEBUG] ICP Iteration #11: Fitness 0.6670, RMSE 2.1491\n",
      "[Open3D DEBUG] Residual : 3.94e+00 (# of elements : 133611)\n",
      "[Open3D DEBUG] ICP Iteration #12: Fitness 0.6752, RMSE 2.1362\n",
      "[Open3D DEBUG] Residual : 3.88e+00 (# of elements : 135245)\n",
      "[Open3D DEBUG] ICP Iteration #13: Fitness 0.6851, RMSE 2.1316\n",
      "[Open3D DEBUG] Residual : 3.84e+00 (# of elements : 137225)\n",
      "[Open3D DEBUG] ICP Iteration #14: Fitness 0.6979, RMSE 2.1357\n",
      "[Open3D DEBUG] Residual : 3.82e+00 (# of elements : 139798)\n",
      "[Open3D DEBUG] ICP Iteration #15: Fitness 0.7113, RMSE 2.1198\n",
      "[Open3D DEBUG] Residual : 3.71e+00 (# of elements : 142471)\n",
      "[Open3D DEBUG] ICP Iteration #16: Fitness 0.7252, RMSE 2.0881\n",
      "[Open3D DEBUG] Residual : 3.58e+00 (# of elements : 145272)\n",
      "[Open3D DEBUG] ICP Iteration #17: Fitness 0.7423, RMSE 2.0620\n",
      "[Open3D DEBUG] Residual : 3.51e+00 (# of elements : 148692)\n",
      "[Open3D DEBUG] ICP Iteration #18: Fitness 0.7577, RMSE 2.0112\n",
      "[Open3D DEBUG] Residual : 3.38e+00 (# of elements : 151769)\n",
      "[Open3D DEBUG] ICP Iteration #19: Fitness 0.7670, RMSE 1.9310\n",
      "[Open3D DEBUG] Residual : 3.08e+00 (# of elements : 153629)\n",
      "[Open3D DEBUG] ICP Iteration #20: Fitness 0.7772, RMSE 1.8537\n",
      "[Open3D DEBUG] Residual : 2.77e+00 (# of elements : 155685)\n",
      "[Open3D DEBUG] ICP Iteration #21: Fitness 0.7956, RMSE 1.7936\n",
      "[Open3D DEBUG] Residual : 2.46e+00 (# of elements : 159372)\n",
      "[Open3D DEBUG] ICP Iteration #22: Fitness 0.8169, RMSE 1.6840\n",
      "[Open3D DEBUG] Residual : 2.13e+00 (# of elements : 163630)\n",
      "[Open3D DEBUG] ICP Iteration #23: Fitness 0.8376, RMSE 1.6057\n",
      "[Open3D DEBUG] Residual : 1.95e+00 (# of elements : 167772)\n",
      "[Open3D DEBUG] ICP Iteration #24: Fitness 0.8623, RMSE 1.5351\n",
      "[Open3D DEBUG] Residual : 1.70e+00 (# of elements : 172725)\n",
      "[Open3D DEBUG] ICP Iteration #25: Fitness 0.8884, RMSE 1.2858\n",
      "[Open3D DEBUG] Residual : 1.01e+00 (# of elements : 177960)\n",
      "[Open3D DEBUG] ICP Iteration #26: Fitness 0.8839, RMSE 0.9694\n",
      "[Open3D DEBUG] Residual : 3.09e-01 (# of elements : 177044)\n",
      "[Open3D DEBUG] ICP Iteration #27: Fitness 0.8813, RMSE 0.9051\n",
      "[Open3D DEBUG] Residual : 1.59e-01 (# of elements : 176543)\n",
      "[Open3D DEBUG] ICP Iteration #28: Fitness 0.8804, RMSE 0.8992\n",
      "[Open3D DEBUG] Residual : 1.40e-01 (# of elements : 176352)\n",
      "[Open3D DEBUG] ICP Iteration #29: Fitness 0.8801, RMSE 0.8980\n",
      "[Open3D DEBUG] Residual : 1.36e-01 (# of elements : 176296)\n",
      "Build o3d.registration.PoseGraph\n",
      "[Open3D DEBUG] Validating PoseGraph - finished.\n",
      "[Open3D DEBUG] [GlobalOptimizationLM] Optimizing PoseGraph having 2 nodes and 1 edges.\n",
      "[Open3D DEBUG] Line process weight : 4002222.211997\n",
      "[Open3D DEBUG] [Initial     ] residual : 2.015734e-24, lambda : 9.714477e+03\n",
      "[Open3D DEBUG] Maximum coefficient of right term < 1.000000e-06\n",
      "[Open3D DEBUG] [GlobalOptimizationLM] Optimizing PoseGraph having 2 nodes and 1 edges.\n",
      "[Open3D DEBUG] Line process weight : 4002222.211997\n",
      "[Open3D DEBUG] [Initial     ] residual : 2.015734e-24, lambda : 9.714477e+03\n",
      "[Open3D DEBUG] Maximum coefficient of right term < 1.000000e-06\n",
      "[Open3D DEBUG] CompensateReferencePoseGraphNode : reference : 0\n",
      "[[1. 0. 0. 0.]\n",
      " [0. 1. 0. 0.]\n",
      " [0. 0. 1. 0.]\n",
      " [0. 0. 0. 1.]]\n",
      "[[  0.9558944   -0.24408291   0.16336897   5.70214685]\n",
      " [  0.29179171   0.72571249  -0.62305616 -11.97014933]\n",
      " [  0.03351845   0.64324561   0.76492588 -10.88610239]\n",
      " [  0.           0.           0.           1.        ]]\n",
      "[Open3D DEBUG] Pointcloud down sampled from 390617 points to 185068 points.\n"
     ]
    }
   ],
   "execution_count": 6
  },
  {
   "metadata": {
    "ExecuteTime": {
     "end_time": "2025-04-17T14:22:12.527343Z",
     "start_time": "2025-04-17T14:21:41.846565Z"
    }
   },
   "cell_type": "code",
   "source": [
    "# Посмотрим на результат объединения\n",
    "o3d.visualization.draw_geometries([pcd])"
   ],
   "id": "e42e4240db8f58d1",
   "outputs": [
    {
     "name": "stdout",
     "output_type": "stream",
     "text": [
      "[Open3D DEBUG] [Visualizer] Creating window.\n",
      "[Open3D DEBUG] GLFW init.\n",
      "[Open3D DEBUG] Add geometry and update bounding box to [(-1.1612, -83.8371, -51.5121) - (125.4540, 119.8893, 51.6128)]\n",
      "[Open3D DEBUG] [Visualizer] Destroying window.\n",
      "[Open3D DEBUG] GLFW destruct.\n"
     ]
    }
   ],
   "execution_count": 7
  },
  {
   "metadata": {},
   "cell_type": "markdown",
   "source": "3. Метод Марширующих кубиков",
   "id": "1bf426e8c7b2ddb3"
  },
  {
   "metadata": {
    "ExecuteTime": {
     "end_time": "2025-04-17T14:22:16.012630Z",
     "start_time": "2025-04-17T14:22:15.459611Z"
    }
   },
   "cell_type": "code",
   "source": "voxel_grid, origin, scale = pcd_to_voxel_grid(np.asarray(pcd.points), grid_size=VOXEL_GRID_SIZE, apply_filter=False)",
   "id": "3d2b2b93c6598c6f",
   "outputs": [],
   "execution_count": 8
  },
  {
   "metadata": {
    "ExecuteTime": {
     "end_time": "2025-04-17T14:22:23.018595Z",
     "start_time": "2025-04-17T14:22:16.017384Z"
    }
   },
   "cell_type": "code",
   "source": [
    "# Построим меш на воксельной структуре\n",
    "vertices, faces, normals, values = marching_cubes(voxel_grid, voxel_size, level=0.0001)\n",
    "# Переведём координаты в исходный размер\n",
    "vertices = vertices / (VOXEL_GRID_SIZE - 1) * scale + origin"
   ],
   "id": "7b8c57fa6d6abde2",
   "outputs": [],
   "execution_count": 9
  },
  {
   "metadata": {
    "ExecuteTime": {
     "end_time": "2025-04-17T14:22:25.057471Z",
     "start_time": "2025-04-17T14:22:23.022012Z"
    }
   },
   "cell_type": "code",
   "source": [
    "# Создадим меш на основе вершин и треугольников\n",
    "mesh = o3d.geometry.TriangleMesh()\n",
    "mesh.vertices = o3d.utility.Vector3dVector(vertices)\n",
    "mesh.triangles = o3d.utility.Vector3iVector(faces)"
   ],
   "id": "59777098f921f2f5",
   "outputs": [],
   "execution_count": 10
  },
  {
   "metadata": {
    "ExecuteTime": {
     "end_time": "2025-04-17T14:22:30.299301Z",
     "start_time": "2025-04-17T14:22:25.059480Z"
    }
   },
   "cell_type": "code",
   "source": [
    "# Уберём лишнее если есть\n",
    "mesh.remove_duplicated_vertices()\n",
    "mesh.remove_duplicated_vertices()\n",
    "mesh.remove_unreferenced_vertices()\n",
    "mesh.remove_non_manifold_edges()\n",
    "mesh.remove_degenerate_triangles()\n",
    "mesh.remove_duplicated_triangles()"
   ],
   "id": "bcfc24f19716128a",
   "outputs": [
    {
     "name": "stdout",
     "output_type": "stream",
     "text": [
      "[Open3D DEBUG] [RemoveDuplicatedVertices] 0 vertices have been removed.\n",
      "[Open3D DEBUG] [RemoveDuplicatedVertices] 0 vertices have been removed.\n",
      "[Open3D DEBUG] [RemoveUnreferencedVertices] 0 vertices have been removed.\n",
      "[Open3D DEBUG] [RemoveDegenerateTriangles] 0 triangles have been removed.\n",
      "[Open3D DEBUG] [RemoveDuplicatedTriangles] 0 triangles have been removed.\n"
     ]
    },
    {
     "data": {
      "text/plain": [
       "TriangleMesh with 834736 points and 1744530 triangles."
      ]
     },
     "execution_count": 11,
     "metadata": {},
     "output_type": "execute_result"
    }
   ],
   "execution_count": 11
  },
  {
   "metadata": {
    "ExecuteTime": {
     "end_time": "2025-04-17T14:22:30.421097Z",
     "start_time": "2025-04-17T14:22:30.301313Z"
    }
   },
   "cell_type": "code",
   "source": [
    "# Пересчитаем нормали\n",
    "mesh.compute_vertex_normals()\n",
    "mesh.compute_triangle_normals()\n",
    "mesh.normalize_normals()"
   ],
   "id": "bb26d362d6e48e1a",
   "outputs": [
    {
     "data": {
      "text/plain": [
       "TriangleMesh with 834736 points and 1744530 triangles."
      ]
     },
     "execution_count": 12,
     "metadata": {},
     "output_type": "execute_result"
    }
   ],
   "execution_count": 12
  },
  {
   "metadata": {
    "ExecuteTime": {
     "end_time": "2025-04-17T14:23:29.847549Z",
     "start_time": "2025-04-17T14:22:30.422114Z"
    }
   },
   "cell_type": "code",
   "source": [
    "# Посмотрим на результат объединения\n",
    "o3d.visualization.draw_geometries([mesh])"
   ],
   "id": "172877ad5983ae88",
   "outputs": [
    {
     "name": "stdout",
     "output_type": "stream",
     "text": [
      "[Open3D DEBUG] [Visualizer] Creating window.\n",
      "[Open3D DEBUG] GLFW init.\n",
      "[Open3D DEBUG] Add geometry and update bounding box to [(-1.1612, -83.8371, -51.5121) - (49.1126, -2.9456, -10.5654)]\n",
      "[Open3D DEBUG] [Visualizer] Destroying window.\n",
      "[Open3D DEBUG] GLFW destruct.\n"
     ]
    }
   ],
   "execution_count": 13
  },
  {
   "metadata": {},
   "cell_type": "markdown",
   "source": "3.2 Метод Пуассона",
   "id": "42e8191f9b01602b"
  },
  {
   "metadata": {
    "ExecuteTime": {
     "end_time": "2025-04-17T00:29:21.252742Z",
     "start_time": "2025-04-17T00:29:21.185649Z"
    }
   },
   "cell_type": "code",
   "source": [
    "# Построим воксельную структуру из откалиброванных точек всех мешей\n",
    "voxels, origin, _ = build_voxel_grid(meshes, grid_size=VOXEL_GRID_SIZE)"
   ],
   "id": "9f962fa734f25fcc",
   "outputs": [],
   "execution_count": 106
  },
  {
   "metadata": {},
   "cell_type": "code",
   "outputs": [
    {
     "name": "stdout",
     "output_type": "stream",
     "text": [
      "[Open3D DEBUG] Input Points / Samples: 390617 / 160066\n",
      "[Open3D DEBUG] #   Got kernel density: 0.07599997520446777 (s), 365.3125 (MB) / 480.3828125 (MB) / 484 (MB)\n",
      "[Open3D DEBUG] #     Got normal field: 0.6400001049041748 (s), 404.890625 (MB) / 480.3828125 (MB) / 484 (MB)\n",
      "[Open3D DEBUG] Point weight / Estimated Area: 2.137608e-06 / 8.349860e-01\n",
      "[Open3D DEBUG] #       Finalized tree: 0.5130000114440918 (s), 449.40234375 (MB) / 480.3828125 (MB) / 484 (MB)\n",
      "[Open3D DEBUG] #  Set FEM constraints: 0.37600016593933105 (s), 427.79296875 (MB) / 480.3828125 (MB) / 484 (MB)\n",
      "[Open3D DEBUG] #Set point constraints: 0.11299991607666016 (s), 421.58203125 (MB) / 480.3828125 (MB) / 484 (MB)\n",
      "[Open3D DEBUG] Leaf Nodes / Active Nodes / Ghost Nodes: 1272650 / 1453336 / 1121\n",
      "[Open3D DEBUG] Memory Usage: 421.582 MB\n",
      "[Open3D DEBUG] # Linear system solved: 1.128999948501587 (s), 464.65625 (MB) / 480.3828125 (MB) / 484 (MB)\n",
      "[Open3D DEBUG] Got average: 0.01900005340576172 (s), 413.90234375 (MB) / 480.3828125 (MB) / 484 (MB)\n",
      "[Open3D DEBUG] Iso-Value: 4.977697e-01 = 1.944373e+05 / 3.906170e+05\n",
      "[Open3D DEBUG] #          Total Solve:       4.9 (s),     522.6 (MB)\n"
     ]
    }
   ],
   "execution_count": 17,
   "source": [
    "# Запустим метод Пуассона\n",
    "poisson, densities = o3d.geometry.TriangleMesh.create_from_point_cloud_poisson( pcd=pcd, depth=9)"
   ],
   "id": "3881606e1bdddc28"
  },
  {
   "metadata": {},
   "cell_type": "code",
   "outputs": [
    {
     "ename": "RuntimeError",
     "evalue": "[Open3D Error] (void __cdecl open3d::geometry::TriangleMesh::RemoveVerticesByMask(const class std::vector<bool,class std::allocator<bool> > &)) D:\\a\\Open3D\\Open3D\\cpp\\open3d\\geometry\\TriangleMesh.cpp:1572: vertex_mask has a different size than vertices_\n",
     "output_type": "error",
     "traceback": [
      "\u001B[1;31m---------------------------------------------------------------------------\u001B[0m",
      "\u001B[1;31mRuntimeError\u001B[0m                              Traceback (most recent call last)",
      "Cell \u001B[1;32mIn[20], line 3\u001B[0m\n\u001B[0;32m      1\u001B[0m \u001B[38;5;66;03m# Убрём шум\u001B[39;00m\n\u001B[0;32m      2\u001B[0m vertices_to_remove \u001B[38;5;241m=\u001B[39m densities \u001B[38;5;241m<\u001B[39m np\u001B[38;5;241m.\u001B[39mquantile(densities, \u001B[38;5;241m0.02\u001B[39m)\n\u001B[1;32m----> 3\u001B[0m poisson\u001B[38;5;241m.\u001B[39mremove_vertices_by_mask(vertices_to_remove)\n\u001B[0;32m      5\u001B[0m \u001B[38;5;66;03m# Пересчитаем нормали\u001B[39;00m\n\u001B[0;32m      6\u001B[0m poisson\u001B[38;5;241m.\u001B[39mcompute_vertex_normals()\n",
      "\u001B[1;31mRuntimeError\u001B[0m: [Open3D Error] (void __cdecl open3d::geometry::TriangleMesh::RemoveVerticesByMask(const class std::vector<bool,class std::allocator<bool> > &)) D:\\a\\Open3D\\Open3D\\cpp\\open3d\\geometry\\TriangleMesh.cpp:1572: vertex_mask has a different size than vertices_\n"
     ]
    }
   ],
   "execution_count": 20,
   "source": [
    "# Убрём шум\n",
    "vertices_to_remove = densities < np.quantile(densities, 0.02)\n",
    "poisson.remove_vertices_by_mask(vertices_to_remove)\n",
    "\n",
    "# Пересчитаем нормали\n",
    "poisson.compute_vertex_normals()\n",
    "poisson.compute_triangle_normals()\n",
    "poisson.normalize_normals()"
   ],
   "id": "360c9fc4d39aabe7"
  },
  {
   "metadata": {},
   "cell_type": "code",
   "outputs": [
    {
     "name": "stdout",
     "output_type": "stream",
     "text": [
      "[Open3D DEBUG] [Visualizer] Creating window.\n",
      "[Open3D DEBUG] GLFW init.\n",
      "[Open3D DEBUG] Add geometry and update bounding box to [(-3.3386, -94.0503, -51.4145) - (135.7395, 122.1096, 53.1562)]\n",
      "[Open3D DEBUG] [Visualizer] Destroying window.\n",
      "[Open3D DEBUG] GLFW destruct.\n"
     ]
    }
   ],
   "execution_count": 21,
   "source": [
    "# Посмотрим на результат\n",
    "o3d.visualization.draw_geometries([poisson])"
   ],
   "id": "be005de9d2b8ac5e"
  },
  {
   "metadata": {},
   "cell_type": "markdown",
   "source": "3.3 Метод Альфа-формы (Alpha shapes)",
   "id": "53153e79a6ee6b85"
  },
  {
   "metadata": {
    "ExecuteTime": {
     "end_time": "2025-04-17T06:33:22.839755Z",
     "start_time": "2025-04-17T06:32:58.981091Z"
    }
   },
   "cell_type": "code",
   "source": [
    "alpha = voxel_size * 0.8\n",
    "mesh = o3d.geometry.TriangleMesh.create_from_point_cloud_alpha_shape(pcd, alpha)\n",
    "mesh.compute_vertex_normals()\n",
    "o3d.visualization.draw_geometries([mesh])"
   ],
   "id": "58bcb5f5fba858ee",
   "outputs": [
    {
     "name": "stdout",
     "output_type": "stream",
     "text": [
      "[Open3D DEBUG] [CreateFromPointCloudAlphaShape] ComputeDelaunayTetrahedralization\n",
      "[Open3D DEBUG] [CreateFromPointCloudAlphaShape] done ComputeDelaunayTetrahedralization\n",
      "[Open3D DEBUG] [CreateFromPointCloudAlphaShape] init triangle mesh\n",
      "[Open3D DEBUG] [CreateFromPointCloudAlphaShape] done init triangle mesh\n",
      "[Open3D DEBUG] [CreateFromPointCloudAlphaShape] add triangles from tetras that satisfy constraint\n",
      "[Open3D DEBUG] [CreateFromPointCloudAlphaShape] done add triangles from tetras that satisfy constraint\n",
      "[Open3D DEBUG] [CreateFromPointCloudAlphaShape] remove triangles within the mesh\n",
      "[Open3D DEBUG] [CreateFromPointCloudAlphaShape] done remove triangles within the mesh\n",
      "[Open3D DEBUG] [CreateFromPointCloudAlphaShape] remove duplicate triangles and unreferenced vertices\n",
      "[Open3D DEBUG] [RemoveDuplicatedTriangles] 0 triangles have been removed.\n",
      "[Open3D DEBUG] [RemoveUnreferencedVertices] 46984 vertices have been removed.\n",
      "[Open3D DEBUG] [CreateFromPointCloudAlphaShape] done remove duplicate triangles and unreferenced vertices\n",
      "[Open3D DEBUG] [Visualizer] Creating window.\n",
      "[Open3D DEBUG] GLFW init.\n",
      "[Open3D DEBUG] Add geometry and update bounding box to [(-1.1439, -83.8568, -51.5618) - (125.4630, 120.0148, 51.1036)]\n",
      "[Open3D DEBUG] [Visualizer] Destroying window.\n",
      "[Open3D DEBUG] GLFW destruct.\n"
     ]
    }
   ],
   "execution_count": 39
  },
  {
   "metadata": {},
   "cell_type": "markdown",
   "source": "4. Сохранение полученного меша",
   "id": "12051a5f05fa17e2"
  },
  {
   "metadata": {
    "ExecuteTime": {
     "end_time": "2025-04-17T08:26:25.700203Z",
     "start_time": "2025-04-17T08:26:25.688819Z"
    }
   },
   "cell_type": "code",
   "source": "mesh.triangles",
   "id": "bdd8a727d62c0a11",
   "outputs": [
    {
     "data": {
      "text/plain": [
       "std::vector<Eigen::Vector3i> with 1744530 elements.\n",
       "Use numpy.asarray() to access data."
      ]
     },
     "execution_count": 18,
     "metadata": {},
     "output_type": "execute_result"
    }
   ],
   "execution_count": 18
  },
  {
   "metadata": {
    "ExecuteTime": {
     "end_time": "2025-04-17T08:26:38.591260Z",
     "start_time": "2025-04-17T08:26:25.971516Z"
    }
   },
   "cell_type": "code",
   "source": "write_mesh_to_x(mesh, 'output_mesh.x', save_normals=False, save_texture=False)",
   "id": "7d0db52aa67e2e35",
   "outputs": [
    {
     "name": "stderr",
     "output_type": "stream",
     "text": [
      "Vertices: 100%|██████████| 835k/835k [00:06<00:00, 120k points/s] \n",
      "Faces: 100%|██████████| 1.74M/1.74M [00:05<00:00, 311k triangles/s]\n"
     ]
    }
   ],
   "execution_count": 19
  },
  {
   "metadata": {},
   "cell_type": "code",
   "outputs": [],
   "execution_count": null,
   "source": "",
   "id": "ab5c330cce3596b4"
  }
 ],
 "metadata": {
  "kernelspec": {
   "display_name": "Python 3",
   "language": "python",
   "name": "python3"
  },
  "language_info": {
   "codemirror_mode": {
    "name": "ipython",
    "version": 2
   },
   "file_extension": ".py",
   "mimetype": "text/x-python",
   "name": "python",
   "nbconvert_exporter": "python",
   "pygments_lexer": "ipython2",
   "version": "2.7.6"
  }
 },
 "nbformat": 4,
 "nbformat_minor": 5
}
