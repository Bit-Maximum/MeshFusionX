{
 "cells": [
  {
   "metadata": {
    "ExecuteTime": {
     "end_time": "2025-04-29T03:50:19.447905Z",
     "start_time": "2025-04-29T03:50:16.809715Z"
    }
   },
   "cell_type": "code",
   "source": [
    "from utils import *\n",
    "import os"
   ],
   "id": "fbc121e30a2defb3",
   "outputs": [
    {
     "name": "stdout",
     "output_type": "stream",
     "text": [
      "Jupyter environment detected. Enabling Open3D WebVisualizer.\n",
      "[Open3D INFO] WebRTC GUI backend enabled.\n",
      "[Open3D INFO] WebRTCWindowSystem: HTTP handshake server disabled.\n"
     ]
    }
   ],
   "execution_count": 1
  },
  {
   "metadata": {},
   "cell_type": "markdown",
   "source": "1. Считываем данные",
   "id": "22b30d31d3e68a5b"
  },
  {
   "metadata": {
    "ExecuteTime": {
     "end_time": "2025-04-29T03:50:19.459787Z",
     "start_time": "2025-04-29T03:50:19.452171Z"
    }
   },
   "cell_type": "code",
   "source": "VOXEL_GRID_SIZE = 512",
   "id": "b7740878802d5690",
   "outputs": [],
   "execution_count": 2
  },
  {
   "metadata": {
    "ExecuteTime": {
     "end_time": "2025-04-29T03:50:19.468913Z",
     "start_time": "2025-04-29T03:50:19.462800Z"
    }
   },
   "cell_type": "code",
   "source": [
    "# Получим пути к исходным файлам\n",
    "files = [f for f in os.listdir(\"data\") if f.endswith('.x')]"
   ],
   "id": "a266c4f8f2efef5a",
   "outputs": [],
   "execution_count": 3
  },
  {
   "metadata": {
    "ExecuteTime": {
     "end_time": "2025-04-29T03:50:25.059727Z",
     "start_time": "2025-04-29T03:50:19.470932Z"
    }
   },
   "cell_type": "code",
   "source": [
    "meshes = []\n",
    "for f in files:\n",
    "    print(f)\n",
    "    filepath = os.path.abspath(f'data\\\\{f}')\n",
    "    raw_data = parse_x_file(filepath)\n",
    "\n",
    "    # Переведём координаты точек из локальной системы координат в систему координат камеры\n",
    "    # world_transform = apply_transformation(raw_data.get('vertices'), raw_data.get('frame_matrix')) # Даёт худшие результаты\n",
    "    world_transform = raw_data.get('vertices')\n",
    "    transformed = apply_transformation(world_transform, raw_data.get('rv_matrix'))\n",
    "    meshes.append(transformed)"
   ],
   "id": "89384dcaac4d0b77",
   "outputs": [
    {
     "name": "stdout",
     "output_type": "stream",
     "text": [
      "teapot_1.x\n",
      "num_vertices: 200310\n",
      "num_faces: 379304\n",
      "num_uvs: 200310\n",
      "teapot_2.x\n",
      "num_vertices: 190307\n",
      "num_faces: 358169\n",
      "num_uvs: 190307\n"
     ]
    }
   ],
   "execution_count": 4
  },
  {
   "metadata": {},
   "cell_type": "markdown",
   "source": "2. Объединяем меши в одну вокселную структуру",
   "id": "d9f5a91718bb734c"
  },
  {
   "metadata": {
    "ExecuteTime": {
     "end_time": "2025-04-29T03:50:25.068929Z",
     "start_time": "2025-04-29T03:50:25.062864Z"
    }
   },
   "cell_type": "code",
   "source": [
    "# Чтобы получить больше информации о процессе объединения мешей\n",
    "o3d.utility.set_verbosity_level(o3d.utility.VerbosityLevel.Debug)"
   ],
   "id": "e22937d2c3a8645e",
   "outputs": [],
   "execution_count": 5
  },
  {
   "metadata": {
    "ExecuteTime": {
     "end_time": "2025-04-29T03:50:37.075884Z",
     "start_time": "2025-04-29T03:50:25.070963Z"
    }
   },
   "cell_type": "code",
   "source": [
    "# Объединяем меши в один PointCloud\n",
    "pcd, voxel_size = merge_meshes(meshes, VOXEL_GRID_SIZE, mcd_coarse_scale=60, mcd_fine_scale=12, down_sample=True)"
   ],
   "id": "c15798844c05fa4b",
   "outputs": [
    {
     "name": "stdout",
     "output_type": "stream",
     "text": [
      "[Open3D DEBUG] [Visualizer] Creating window.\n",
      "[Open3D DEBUG] GLFW init.\n",
      "[Open3D DEBUG] Add geometry and update bounding box to [(-0.9998, -83.8568, -51.5618) - (123.1499, 119.4377, 49.6524)]\n",
      "[Open3D DEBUG] Add geometry and update bounding box to [(-0.9998, -83.8568, -83.0561) - (123.8560, 119.4377, 60.6963)]\n",
      "[Open3D DEBUG] Global colormap init.\n",
      "[Open3D DEBUG] [Visualizer] Destroying window.\n",
      "[Open3D DEBUG] GLFW destruct.\n",
      "[Open3D DEBUG] ICP Iteration #0: Fitness 0.9198, RMSE 7.7567\n",
      "[Open3D DEBUG] ICP Iteration #1: Fitness 0.9249, RMSE 7.1981\n",
      "[Open3D DEBUG] ICP Iteration #2: Fitness 0.9299, RMSE 6.9502\n",
      "[Open3D DEBUG] ICP Iteration #3: Fitness 0.9323, RMSE 6.7491\n",
      "[Open3D DEBUG] ICP Iteration #4: Fitness 0.9337, RMSE 6.6078\n",
      "[Open3D DEBUG] ICP Iteration #5: Fitness 0.9348, RMSE 6.5126\n",
      "[Open3D DEBUG] ICP Iteration #6: Fitness 0.9359, RMSE 6.4619\n",
      "[Open3D DEBUG] ICP Iteration #7: Fitness 0.9367, RMSE 6.4281\n",
      "[Open3D DEBUG] ICP Iteration #8: Fitness 0.9374, RMSE 6.4043\n",
      "[Open3D DEBUG] ICP Iteration #9: Fitness 0.9379, RMSE 6.3891\n",
      "[Open3D DEBUG] ICP Iteration #10: Fitness 0.9383, RMSE 6.3768\n",
      "[Open3D DEBUG] ICP Iteration #11: Fitness 0.9386, RMSE 6.3701\n",
      "[Open3D DEBUG] ICP Iteration #12: Fitness 0.9389, RMSE 6.3663\n",
      "[Open3D DEBUG] ICP Iteration #13: Fitness 0.9392, RMSE 6.3665\n",
      "[Open3D DEBUG] ICP Iteration #14: Fitness 0.9394, RMSE 6.3622\n",
      "[Open3D DEBUG] ICP Iteration #15: Fitness 0.9397, RMSE 6.3659\n",
      "[Open3D DEBUG] ICP Iteration #16: Fitness 0.9400, RMSE 6.3692\n",
      "[Open3D DEBUG] ICP Iteration #17: Fitness 0.9403, RMSE 6.3735\n",
      "[Open3D DEBUG] ICP Iteration #18: Fitness 0.9407, RMSE 6.3790\n",
      "[Open3D DEBUG] ICP Iteration #19: Fitness 0.9410, RMSE 6.3855\n",
      "[Open3D DEBUG] ICP Iteration #20: Fitness 0.9414, RMSE 6.3960\n",
      "[Open3D DEBUG] ICP Iteration #21: Fitness 0.9418, RMSE 6.4042\n",
      "[Open3D DEBUG] ICP Iteration #22: Fitness 0.9422, RMSE 6.4145\n",
      "[Open3D DEBUG] ICP Iteration #23: Fitness 0.9427, RMSE 6.4246\n",
      "[Open3D DEBUG] ICP Iteration #24: Fitness 0.9432, RMSE 6.4372\n",
      "[Open3D DEBUG] ICP Iteration #25: Fitness 0.9437, RMSE 6.4505\n",
      "[Open3D DEBUG] ICP Iteration #26: Fitness 0.9443, RMSE 6.4653\n",
      "[Open3D DEBUG] ICP Iteration #27: Fitness 0.9448, RMSE 6.4786\n",
      "[Open3D DEBUG] ICP Iteration #28: Fitness 0.9455, RMSE 6.4960\n",
      "[Open3D DEBUG] ICP Iteration #29: Fitness 0.9462, RMSE 6.5102\n",
      "[Open3D DEBUG] ICP Iteration #0: Fitness 0.6210, RMSE 2.5714\n",
      "[Open3D DEBUG] Residual : 5.66e+00 (# of elements : 124400)\n",
      "[Open3D DEBUG] ICP Iteration #1: Fitness 0.6264, RMSE 2.3780\n",
      "[Open3D DEBUG] Residual : 4.88e+00 (# of elements : 125476)\n",
      "[Open3D DEBUG] ICP Iteration #2: Fitness 0.6294, RMSE 2.3133\n",
      "[Open3D DEBUG] Residual : 4.62e+00 (# of elements : 126073)\n",
      "[Open3D DEBUG] ICP Iteration #3: Fitness 0.6304, RMSE 2.2798\n",
      "[Open3D DEBUG] Residual : 4.45e+00 (# of elements : 126285)\n",
      "[Open3D DEBUG] ICP Iteration #4: Fitness 0.6319, RMSE 2.2593\n",
      "[Open3D DEBUG] Residual : 4.35e+00 (# of elements : 126570)\n",
      "[Open3D DEBUG] ICP Iteration #5: Fitness 0.6344, RMSE 2.2474\n",
      "[Open3D DEBUG] Residual : 4.29e+00 (# of elements : 127082)\n",
      "[Open3D DEBUG] ICP Iteration #6: Fitness 0.6372, RMSE 2.2323\n",
      "[Open3D DEBUG] Residual : 4.22e+00 (# of elements : 127630)\n",
      "[Open3D DEBUG] ICP Iteration #7: Fitness 0.6415, RMSE 2.2187\n",
      "[Open3D DEBUG] Residual : 4.17e+00 (# of elements : 128507)\n",
      "[Open3D DEBUG] ICP Iteration #8: Fitness 0.6463, RMSE 2.1995\n",
      "[Open3D DEBUG] Residual : 4.11e+00 (# of elements : 129455)\n",
      "[Open3D DEBUG] ICP Iteration #9: Fitness 0.6526, RMSE 2.1815\n",
      "[Open3D DEBUG] Residual : 4.04e+00 (# of elements : 130717)\n",
      "[Open3D DEBUG] ICP Iteration #10: Fitness 0.6596, RMSE 2.1642\n",
      "[Open3D DEBUG] Residual : 3.99e+00 (# of elements : 132116)\n",
      "[Open3D DEBUG] ICP Iteration #11: Fitness 0.6670, RMSE 2.1491\n",
      "[Open3D DEBUG] Residual : 3.94e+00 (# of elements : 133611)\n",
      "[Open3D DEBUG] ICP Iteration #12: Fitness 0.6752, RMSE 2.1362\n",
      "[Open3D DEBUG] Residual : 3.88e+00 (# of elements : 135245)\n",
      "[Open3D DEBUG] ICP Iteration #13: Fitness 0.6851, RMSE 2.1316\n",
      "[Open3D DEBUG] Residual : 3.84e+00 (# of elements : 137225)\n",
      "[Open3D DEBUG] ICP Iteration #14: Fitness 0.6979, RMSE 2.1357\n",
      "[Open3D DEBUG] Residual : 3.82e+00 (# of elements : 139798)\n",
      "[Open3D DEBUG] ICP Iteration #15: Fitness 0.7113, RMSE 2.1198\n",
      "[Open3D DEBUG] Residual : 3.71e+00 (# of elements : 142471)\n",
      "[Open3D DEBUG] ICP Iteration #16: Fitness 0.7252, RMSE 2.0881\n",
      "[Open3D DEBUG] Residual : 3.58e+00 (# of elements : 145272)\n",
      "[Open3D DEBUG] ICP Iteration #17: Fitness 0.7423, RMSE 2.0620\n",
      "[Open3D DEBUG] Residual : 3.51e+00 (# of elements : 148692)\n",
      "[Open3D DEBUG] ICP Iteration #18: Fitness 0.7577, RMSE 2.0112\n",
      "[Open3D DEBUG] Residual : 3.38e+00 (# of elements : 151769)\n",
      "[Open3D DEBUG] ICP Iteration #19: Fitness 0.7670, RMSE 1.9310\n",
      "[Open3D DEBUG] Residual : 3.08e+00 (# of elements : 153629)\n",
      "[Open3D DEBUG] ICP Iteration #20: Fitness 0.7772, RMSE 1.8537\n",
      "[Open3D DEBUG] Residual : 2.77e+00 (# of elements : 155685)\n",
      "[Open3D DEBUG] ICP Iteration #21: Fitness 0.7956, RMSE 1.7936\n",
      "[Open3D DEBUG] Residual : 2.46e+00 (# of elements : 159372)\n",
      "[Open3D DEBUG] ICP Iteration #22: Fitness 0.8169, RMSE 1.6840\n",
      "[Open3D DEBUG] Residual : 2.13e+00 (# of elements : 163630)\n",
      "[Open3D DEBUG] ICP Iteration #23: Fitness 0.8376, RMSE 1.6057\n",
      "[Open3D DEBUG] Residual : 1.95e+00 (# of elements : 167772)\n",
      "[Open3D DEBUG] ICP Iteration #24: Fitness 0.8623, RMSE 1.5351\n",
      "[Open3D DEBUG] Residual : 1.70e+00 (# of elements : 172725)\n",
      "[Open3D DEBUG] ICP Iteration #25: Fitness 0.8884, RMSE 1.2858\n",
      "[Open3D DEBUG] Residual : 1.01e+00 (# of elements : 177960)\n",
      "[Open3D DEBUG] ICP Iteration #26: Fitness 0.8839, RMSE 0.9694\n",
      "[Open3D DEBUG] Residual : 3.09e-01 (# of elements : 177044)\n",
      "[Open3D DEBUG] ICP Iteration #27: Fitness 0.8813, RMSE 0.9051\n",
      "[Open3D DEBUG] Residual : 1.59e-01 (# of elements : 176543)\n",
      "[Open3D DEBUG] ICP Iteration #28: Fitness 0.8804, RMSE 0.8992\n",
      "[Open3D DEBUG] Residual : 1.40e-01 (# of elements : 176352)\n",
      "[Open3D DEBUG] ICP Iteration #29: Fitness 0.8801, RMSE 0.8980\n",
      "[Open3D DEBUG] Residual : 1.36e-01 (# of elements : 176296)\n",
      "Build o3d.registration.PoseGraph\n",
      "[Open3D DEBUG] Validating PoseGraph - finished.\n",
      "[Open3D DEBUG] [GlobalOptimizationLM] Optimizing PoseGraph having 2 nodes and 1 edges.\n",
      "[Open3D DEBUG] Line process weight : 4002222.211997\n",
      "[Open3D DEBUG] [Initial     ] residual : 2.161444e-24, lambda : 9.714477e+03\n",
      "[Open3D DEBUG] Maximum coefficient of right term < 1.000000e-06\n",
      "[Open3D DEBUG] [GlobalOptimizationLM] Optimizing PoseGraph having 2 nodes and 1 edges.\n",
      "[Open3D DEBUG] Line process weight : 4002222.211997\n",
      "[Open3D DEBUG] [Initial     ] residual : 2.161444e-24, lambda : 9.714477e+03\n",
      "[Open3D DEBUG] Maximum coefficient of right term < 1.000000e-06\n",
      "[Open3D DEBUG] CompensateReferencePoseGraphNode : reference : 0\n",
      "[[1. 0. 0. 0.]\n",
      " [0. 1. 0. 0.]\n",
      " [0. 0. 1. 0.]\n",
      " [0. 0. 0. 1.]]\n",
      "[[  0.9558944   -0.24408291   0.16336897   5.70214685]\n",
      " [  0.29179171   0.72571249  -0.62305616 -11.97014933]\n",
      " [  0.03351845   0.64324561   0.76492588 -10.88610239]\n",
      " [  0.           0.           0.           1.        ]]\n",
      "[Open3D DEBUG] Pointcloud down sampled from 390617 points to 185068 points.\n"
     ]
    }
   ],
   "execution_count": 6
  },
  {
   "metadata": {
    "ExecuteTime": {
     "end_time": "2025-04-29T03:50:39.882951Z",
     "start_time": "2025-04-29T03:50:37.079426Z"
    }
   },
   "cell_type": "code",
   "source": [
    "# Посмотрим на результат объединения\n",
    "o3d.visualization.draw_geometries([pcd])"
   ],
   "id": "e42e4240db8f58d1",
   "outputs": [
    {
     "name": "stdout",
     "output_type": "stream",
     "text": [
      "[Open3D DEBUG] [Visualizer] Creating window.\n",
      "[Open3D DEBUG] GLFW init.\n",
      "[Open3D DEBUG] Add geometry and update bounding box to [(-1.1612, -83.8371, -51.5121) - (125.4540, 119.8893, 51.6128)]\n",
      "[Open3D DEBUG] [Visualizer] Destroying window.\n",
      "[Open3D DEBUG] GLFW destruct.\n"
     ]
    }
   ],
   "execution_count": 7
  },
  {
   "metadata": {},
   "cell_type": "markdown",
   "source": "3. Метод Марширующих кубиков",
   "id": "1bf426e8c7b2ddb3"
  },
  {
   "metadata": {
    "ExecuteTime": {
     "end_time": "2025-04-29T03:53:03.172482Z",
     "start_time": "2025-04-29T03:53:02.798302Z"
    }
   },
   "cell_type": "code",
   "source": "voxel_grid, origin, scale = pcd_to_voxel_grid(np.asarray(pcd.points), grid_size=VOXEL_GRID_SIZE, apply_filter=False)",
   "id": "3d2b2b93c6598c6f",
   "outputs": [],
   "execution_count": 22
  },
  {
   "metadata": {
    "ExecuteTime": {
     "end_time": "2025-04-29T03:53:06.712618Z",
     "start_time": "2025-04-29T03:53:03.176853Z"
    }
   },
   "cell_type": "code",
   "source": [
    "# Построим меш на воксельной структуре\n",
    "vertices, faces, normals, values = marching_cubes(voxel_grid, voxel_size, level=0.0000001)\n",
    "# Переведём координаты в исходный размер\n",
    "vertices = vertices / (VOXEL_GRID_SIZE - 1) * scale + origin"
   ],
   "id": "7b8c57fa6d6abde2",
   "outputs": [],
   "execution_count": 23
  },
  {
   "metadata": {
    "ExecuteTime": {
     "end_time": "2025-04-29T03:53:08.623890Z",
     "start_time": "2025-04-29T03:53:06.716176Z"
    }
   },
   "cell_type": "code",
   "source": [
    "# Создадим меш на основе вершин и треугольников\n",
    "mesh = o3d.geometry.TriangleMesh()\n",
    "mesh.vertices = o3d.utility.Vector3dVector(vertices)\n",
    "mesh.triangles = o3d.utility.Vector3iVector(faces)"
   ],
   "id": "59777098f921f2f5",
   "outputs": [],
   "execution_count": 24
  },
  {
   "metadata": {
    "ExecuteTime": {
     "end_time": "2025-04-29T03:53:14.544705Z",
     "start_time": "2025-04-29T03:53:08.625327Z"
    }
   },
   "cell_type": "code",
   "source": [
    "# Уберём лишнее если есть\n",
    "mesh.remove_duplicated_vertices()\n",
    "mesh.remove_duplicated_vertices()\n",
    "mesh.remove_unreferenced_vertices()\n",
    "mesh.remove_non_manifold_edges()\n",
    "mesh.remove_degenerate_triangles()\n",
    "mesh.remove_duplicated_triangles()"
   ],
   "id": "bcfc24f19716128a",
   "outputs": [
    {
     "name": "stdout",
     "output_type": "stream",
     "text": [
      "[Open3D DEBUG] [RemoveDuplicatedVertices] 277883 vertices have been removed.\n",
      "[Open3D DEBUG] [RemoveDuplicatedVertices] 0 vertices have been removed.\n",
      "[Open3D DEBUG] [RemoveUnreferencedVertices] 0 vertices have been removed.\n",
      "[Open3D DEBUG] [RemoveDegenerateTriangles] 0 triangles have been removed.\n",
      "[Open3D DEBUG] [RemoveDuplicatedTriangles] 0 triangles have been removed.\n"
     ]
    },
    {
     "data": {
      "text/plain": [
       "TriangleMesh with 556853 points and 1169149 triangles."
      ]
     },
     "execution_count": 25,
     "metadata": {},
     "output_type": "execute_result"
    }
   ],
   "execution_count": 25
  },
  {
   "metadata": {
    "ExecuteTime": {
     "end_time": "2025-04-29T03:53:14.631621Z",
     "start_time": "2025-04-29T03:53:14.547762Z"
    }
   },
   "cell_type": "code",
   "source": [
    "# Пересчитаем нормали\n",
    "mesh.compute_vertex_normals()\n",
    "mesh.compute_triangle_normals()\n",
    "mesh.normalize_normals()"
   ],
   "id": "bb26d362d6e48e1a",
   "outputs": [
    {
     "data": {
      "text/plain": [
       "TriangleMesh with 556853 points and 1169149 triangles."
      ]
     },
     "execution_count": 26,
     "metadata": {},
     "output_type": "execute_result"
    }
   ],
   "execution_count": 26
  },
  {
   "metadata": {
    "ExecuteTime": {
     "end_time": "2025-04-29T03:53:16.335947Z",
     "start_time": "2025-04-29T03:53:14.632245Z"
    }
   },
   "cell_type": "code",
   "source": [
    "# Посмотрим на результат объединения\n",
    "o3d.visualization.draw_geometries([mesh])"
   ],
   "id": "172877ad5983ae88",
   "outputs": [
    {
     "name": "stdout",
     "output_type": "stream",
     "text": [
      "[Open3D DEBUG] [Visualizer] Creating window.\n",
      "[Open3D DEBUG] GLFW init.\n",
      "[Open3D DEBUG] Add geometry and update bounding box to [(-1.1612, -83.8371, -51.5121) - (49.1126, -2.9456, -10.5654)]\n",
      "[Open3D DEBUG] [Visualizer] Destroying window.\n",
      "[Open3D DEBUG] GLFW destruct.\n"
     ]
    }
   ],
   "execution_count": 27
  },
  {
   "metadata": {},
   "cell_type": "markdown",
   "source": "3.2 Метод Пуассона",
   "id": "42e8191f9b01602b"
  },
  {
   "metadata": {
    "ExecuteTime": {
     "end_time": "2025-04-29T03:51:49.800243Z",
     "start_time": "2025-04-29T03:51:49.702753Z"
    }
   },
   "cell_type": "code",
   "source": [
    "# Построим воксельную структуру из откалиброванных точек всех мешей\n",
    "voxels, origin, _ = build_voxel_grid(meshes, grid_size=VOXEL_GRID_SIZE)"
   ],
   "id": "9f962fa734f25fcc",
   "outputs": [],
   "execution_count": 16
  },
  {
   "metadata": {
    "ExecuteTime": {
     "end_time": "2025-04-29T03:51:55.568319Z",
     "start_time": "2025-04-29T03:51:49.970351Z"
    }
   },
   "cell_type": "code",
   "source": [
    "# Запустим метод Пуассона\n",
    "mesh, densities = o3d.geometry.TriangleMesh.create_from_point_cloud_poisson(pcd=pcd, depth=9)"
   ],
   "id": "3881606e1bdddc28",
   "outputs": [
    {
     "name": "stdout",
     "output_type": "stream",
     "text": [
      "[Open3D DEBUG] Input Points / Samples: 185068 / 132842\n",
      "[Open3D DEBUG] #   Got kernel density: 0.08800005912780762 (s), 605.56640625 (MB) / 605.56640625 (MB) / 991 (MB)\n",
      "[Open3D DEBUG] #     Got normal field: 0.5940001010894775 (s), 648.921875 (MB) / 648.921875 (MB) / 991 (MB)\n",
      "[Open3D DEBUG] Point weight / Estimated Area: 4.605648e-06 / 8.523580e-01\n",
      "[Open3D DEBUG] #       Finalized tree: 0.49699997901916504 (s), 691.35546875 (MB) / 691.35546875 (MB) / 991 (MB)\n",
      "[Open3D DEBUG] #  Set FEM constraints: 0.40400004386901855 (s), 670.03515625 (MB) / 691.35546875 (MB) / 991 (MB)\n",
      "[Open3D DEBUG] #Set point constraints: 0.19300007820129395 (s), 659.453125 (MB) / 691.35546875 (MB) / 991 (MB)\n",
      "[Open3D DEBUG] Leaf Nodes / Active Nodes / Ghost Nodes: 1245203 / 1421488 / 1601\n",
      "[Open3D DEBUG] Memory Usage: 659.453 MB\n",
      "[Open3D DEBUG] # Linear system solved: 1.309000015258789 (s), 693.0078125 (MB) / 693.0078125 (MB) / 991 (MB)\n",
      "[Open3D DEBUG] Got average: 0.02499985694885254 (s), 655.80078125 (MB) / 693.0078125 (MB) / 991 (MB)\n",
      "[Open3D DEBUG] Iso-Value: 4.981772e-01 = 9.219666e+04 / 1.850680e+05\n",
      "[Open3D DEBUG] #          Total Solve:       5.5 (s),     764.3 (MB)\n"
     ]
    }
   ],
   "execution_count": 17
  },
  {
   "metadata": {
    "ExecuteTime": {
     "end_time": "2025-04-29T03:51:55.838302Z",
     "start_time": "2025-04-29T03:51:55.570873Z"
    }
   },
   "cell_type": "code",
   "source": [
    "# Убрём шум\n",
    "vertices_to_remove = densities < np.quantile(densities, 0.02)\n",
    "mesh.remove_vertices_by_mask(vertices_to_remove)\n",
    "\n",
    "# Пересчитаем нормали\n",
    "mesh.compute_vertex_normals()\n",
    "mesh.compute_triangle_normals()\n",
    "mesh.normalize_normals()"
   ],
   "id": "360c9fc4d39aabe7",
   "outputs": [
    {
     "data": {
      "text/plain": [
       "TriangleMesh with 275555 points and 552054 triangles."
      ]
     },
     "execution_count": 18,
     "metadata": {},
     "output_type": "execute_result"
    }
   ],
   "execution_count": 18
  },
  {
   "metadata": {
    "ExecuteTime": {
     "end_time": "2025-04-29T03:51:57.448597Z",
     "start_time": "2025-04-29T03:51:55.841321Z"
    }
   },
   "cell_type": "code",
   "source": [
    "# Посмотрим на результат\n",
    "o3d.visualization.draw_geometries([mesh])"
   ],
   "id": "be005de9d2b8ac5e",
   "outputs": [
    {
     "name": "stdout",
     "output_type": "stream",
     "text": [
      "[Open3D DEBUG] [Visualizer] Creating window.\n",
      "[Open3D DEBUG] GLFW init.\n",
      "[Open3D DEBUG] Add geometry and update bounding box to [(-2.3060, -88.7711, -51.4130) - (130.8098, 122.1659, 53.3624)]\n",
      "[Open3D DEBUG] [Visualizer] Destroying window.\n",
      "[Open3D DEBUG] GLFW destruct.\n"
     ]
    }
   ],
   "execution_count": 19
  },
  {
   "metadata": {},
   "cell_type": "markdown",
   "source": "3.3 Метод Альфа-формы (Alpha shapes)",
   "id": "53153e79a6ee6b85"
  },
  {
   "metadata": {
    "ExecuteTime": {
     "end_time": "2025-04-29T03:39:30.600112Z",
     "start_time": "2025-04-29T03:39:02.129587Z"
    }
   },
   "cell_type": "code",
   "source": [
    "alpha = voxel_size * 0.8\n",
    "mesh = o3d.geometry.TriangleMesh.create_from_point_cloud_alpha_shape(pcd, alpha)\n",
    "mesh.compute_vertex_normals()\n",
    "o3d.visualization.draw_geometries([mesh])"
   ],
   "id": "58bcb5f5fba858ee",
   "outputs": [
    {
     "name": "stdout",
     "output_type": "stream",
     "text": [
      "[Open3D DEBUG] [CreateFromPointCloudAlphaShape] ComputeDelaunayTetrahedralization\n",
      "[Open3D DEBUG] [CreateFromPointCloudAlphaShape] done ComputeDelaunayTetrahedralization\n",
      "[Open3D DEBUG] [CreateFromPointCloudAlphaShape] init triangle mesh\n",
      "[Open3D DEBUG] [CreateFromPointCloudAlphaShape] done init triangle mesh\n",
      "[Open3D DEBUG] [CreateFromPointCloudAlphaShape] add triangles from tetras that satisfy constraint\n",
      "[Open3D DEBUG] [CreateFromPointCloudAlphaShape] done add triangles from tetras that satisfy constraint\n",
      "[Open3D DEBUG] [CreateFromPointCloudAlphaShape] remove triangles within the mesh\n",
      "[Open3D DEBUG] [CreateFromPointCloudAlphaShape] done remove triangles within the mesh\n",
      "[Open3D DEBUG] [CreateFromPointCloudAlphaShape] remove duplicate triangles and unreferenced vertices\n",
      "[Open3D DEBUG] [RemoveDuplicatedTriangles] 0 triangles have been removed.\n",
      "[Open3D DEBUG] [RemoveUnreferencedVertices] 67428 vertices have been removed.\n",
      "[Open3D DEBUG] [CreateFromPointCloudAlphaShape] done remove duplicate triangles and unreferenced vertices\n",
      "[Open3D DEBUG] [Visualizer] Creating window.\n",
      "[Open3D DEBUG] GLFW init.\n",
      "[Open3D DEBUG] Add geometry and update bounding box to [(-1.1512, -83.7880, -51.5121) - (125.3992, 119.7385, 50.5800)]\n",
      "[Open3D DEBUG] [Visualizer] Destroying window.\n",
      "[Open3D DEBUG] GLFW destruct.\n"
     ]
    }
   ],
   "execution_count": 89
  },
  {
   "metadata": {},
   "cell_type": "markdown",
   "source": "4. Сохранение полученного меша",
   "id": "12051a5f05fa17e2"
  },
  {
   "metadata": {
    "ExecuteTime": {
     "end_time": "2025-04-29T03:53:19.362024Z",
     "start_time": "2025-04-29T03:53:19.353877Z"
    }
   },
   "cell_type": "code",
   "source": "mesh.triangles",
   "id": "bdd8a727d62c0a11",
   "outputs": [
    {
     "data": {
      "text/plain": [
       "std::vector<Eigen::Vector3i> with 1169149 elements.\n",
       "Use numpy.asarray() to access data."
      ]
     },
     "execution_count": 28,
     "metadata": {},
     "output_type": "execute_result"
    }
   ],
   "execution_count": 28
  },
  {
   "metadata": {
    "ExecuteTime": {
     "end_time": "2025-04-29T03:53:28.235182Z",
     "start_time": "2025-04-29T03:53:19.764032Z"
    }
   },
   "cell_type": "code",
   "source": "write_mesh_to_x(mesh, 'output_mesh.x', save_normals=False, save_texture=False)",
   "id": "7d0db52aa67e2e35",
   "outputs": [
    {
     "name": "stderr",
     "output_type": "stream",
     "text": [
      "Vertices: 100%|██████████| 557k/557k [00:04<00:00, 123k points/s] \n",
      "Faces: 100%|██████████| 1.17M/1.17M [00:03<00:00, 297k triangles/s]\n"
     ]
    }
   ],
   "execution_count": 29
  },
  {
   "metadata": {},
   "cell_type": "code",
   "outputs": [],
   "execution_count": null,
   "source": "",
   "id": "ab5c330cce3596b4"
  }
 ],
 "metadata": {
  "kernelspec": {
   "display_name": "Python 3",
   "language": "python",
   "name": "python3"
  },
  "language_info": {
   "codemirror_mode": {
    "name": "ipython",
    "version": 2
   },
   "file_extension": ".py",
   "mimetype": "text/x-python",
   "name": "python",
   "nbconvert_exporter": "python",
   "pygments_lexer": "ipython2",
   "version": "2.7.6"
  }
 },
 "nbformat": 4,
 "nbformat_minor": 5
}
